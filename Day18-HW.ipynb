{
 "cells": [
  {
   "cell_type": "markdown",
   "id": "f3e32308-2a5a-4d12-b867-133ace91a43b",
   "metadata": {},
   "source": [
    "## Introduction to Data Science\n",
    "\n",
    "#### University of Redlands - DATA 101\n",
    "#### Prof: Joanna Bieri [joanna_bieri@redlands.edu](mailto:joanna_bieri@redlands.edu)\n",
    "#### [Class Website: data101.joannabieri.com](https://joannabieri.com/data101.html)\n",
    "\n",
    "---------------------------------------\n",
    "# Homework Day 18\n",
    "---------------------------------------\n",
    "\n",
    "GOALS:\n",
    "\n",
    "1. Practice Logistic Regression\n",
    "2. Interpret Logistic Regression Results\n",
    "\n",
    "----------------------------------------------------------\n",
    "\n",
    "\n",
    "This homework has **1 Exercise** and **1 Challenge Exercise**"
   ]
  },
  {
   "cell_type": "markdown",
   "id": "d0c422e3-32b1-452f-89a8-2586784d3957",
   "metadata": {},
   "source": [
    "### Important Information\n",
    "\n",
    "- Email: [joanna_bieri@redlands.edu](mailto:joanna_bieri@redlands.edu)\n",
    "- Office Hours: Duke 209 <a href=\"https://joannabieri.com/schedule.html\"> Click Here for Joanna's Schedule</a>\n",
    "\n",
    "\n",
    "### Announcements\n",
    "\n",
    "**Come to Lab!** If you need help we are here to help!\n",
    "\n",
    "### Day 18 Assignment - same drill.\n",
    "\n",
    "1. Make sure you can **Fork** and **Clone** the Day18 repo from [Redlands-DATA101](https://github.com/Redlands-DATA101)\n",
    "2. Open the file Day18-HW.ipynb and start doing the problems.\n",
    "    * You can do these problems as you follow along with the lecture notes and video.\n",
    "3. Get as far as you can before class.\n",
    "4. Submit what you have so far **Commit** and **Push** to Git.\n",
    "5. Take the daily check in quiz on **Canvas**.\n",
    "7. Come to class with lots of questions!"
   ]
  },
  {
   "cell_type": "code",
   "execution_count": 81,
   "id": "d0153569-41e3-4696-9b34-83ba90a0b5cf",
   "metadata": {},
   "outputs": [],
   "source": [
    "import numpy as np\n",
    "import pandas as pd\n",
    "\n",
    "import matplotlib.pyplot as plt\n",
    "import plotly.express as px\n",
    "from plotly.subplots import make_subplots\n",
    "import plotly.io as pio\n",
    "pio.renderers.defaule = 'colab'\n",
    "\n",
    "from itables import show\n",
    "\n",
    "# This stops a few warning messages from showing\n",
    "pd.options.mode.chained_assignment = None \n",
    "import warnings\n",
    "warnings.simplefilter(action='ignore', category=FutureWarning)\n",
    "from sklearn.linear_model import LogisticRegression\n",
    "from sklearn.metrics import confusion_matrix\n",
    "\n",
    "# Machine Learning Packages\n",
    "from sklearn.preprocessing import OneHotEncoder\n",
    "from sklearn.linear_model import LinearRegression, LogisticRegression \n",
    "from sklearn import metrics"
   ]
  },
  {
   "cell_type": "markdown",
   "id": "edaead12-7744-4d9f-b4ac-aba340ff1bf7",
   "metadata": {},
   "source": [
    "### Data: A collection of Emails\n",
    "\n",
    "- Emails for the first three months of 2012 for an email account\n",
    "- Data from 3921 emails and 21 variables on them\n",
    "- Outcome: whether the email is spam or not\n",
    "- Predictors: number of characters, whether the email had \"Re:\" in the subject, time at which email was sent, number of times the word \"inherit\" shows up in the email, etc.\n",
    "\n",
    "\n",
    "Data Information: https://www.openintro.org/data/index.php?data=email\n",
    "\n",
    "This lab follows the Data Science in a Box units \"Unit 4 - Deck 6: Logistic regression\" by Mine Çetinkaya-Rundel. It has been updated for our class and translated to Python by Joanna Bieri."
   ]
  },
  {
   "cell_type": "code",
   "execution_count": 107,
   "id": "9cb019df-0e97-47a5-a00a-d0b7246a3dbb",
   "metadata": {},
   "outputs": [],
   "source": [
    "file_name = 'data/email.csv'\n",
    "DF2 = pd.read_csv(file_name)"
   ]
  },
  {
   "cell_type": "code",
   "execution_count": 109,
   "id": "c9315514-3d8a-4188-953d-693f6b14c772",
   "metadata": {},
   "outputs": [
    {
     "data": {
      "text/html": [
       "<div>\n",
       "<style scoped>\n",
       "    .dataframe tbody tr th:only-of-type {\n",
       "        vertical-align: middle;\n",
       "    }\n",
       "\n",
       "    .dataframe tbody tr th {\n",
       "        vertical-align: top;\n",
       "    }\n",
       "\n",
       "    .dataframe thead th {\n",
       "        text-align: right;\n",
       "    }\n",
       "</style>\n",
       "<table border=\"1\" class=\"dataframe\">\n",
       "  <thead>\n",
       "    <tr style=\"text-align: right;\">\n",
       "      <th></th>\n",
       "      <th>spam</th>\n",
       "      <th>to_multiple</th>\n",
       "      <th>from</th>\n",
       "      <th>cc</th>\n",
       "      <th>sent_email</th>\n",
       "      <th>time</th>\n",
       "      <th>image</th>\n",
       "      <th>attach</th>\n",
       "      <th>dollar</th>\n",
       "      <th>winner</th>\n",
       "      <th>...</th>\n",
       "      <th>viagra</th>\n",
       "      <th>password</th>\n",
       "      <th>num_char</th>\n",
       "      <th>line_breaks</th>\n",
       "      <th>format</th>\n",
       "      <th>re_subj</th>\n",
       "      <th>exclaim_subj</th>\n",
       "      <th>urgent_subj</th>\n",
       "      <th>exclaim_mess</th>\n",
       "      <th>number</th>\n",
       "    </tr>\n",
       "  </thead>\n",
       "  <tbody>\n",
       "    <tr>\n",
       "      <th>0</th>\n",
       "      <td>0</td>\n",
       "      <td>0</td>\n",
       "      <td>1</td>\n",
       "      <td>0</td>\n",
       "      <td>0</td>\n",
       "      <td>2012-01-01T06:16:41Z</td>\n",
       "      <td>0</td>\n",
       "      <td>0</td>\n",
       "      <td>0</td>\n",
       "      <td>no</td>\n",
       "      <td>...</td>\n",
       "      <td>0</td>\n",
       "      <td>0</td>\n",
       "      <td>11.370</td>\n",
       "      <td>202</td>\n",
       "      <td>1</td>\n",
       "      <td>0</td>\n",
       "      <td>0</td>\n",
       "      <td>0</td>\n",
       "      <td>0</td>\n",
       "      <td>big</td>\n",
       "    </tr>\n",
       "    <tr>\n",
       "      <th>1</th>\n",
       "      <td>0</td>\n",
       "      <td>0</td>\n",
       "      <td>1</td>\n",
       "      <td>0</td>\n",
       "      <td>0</td>\n",
       "      <td>2012-01-01T07:03:59Z</td>\n",
       "      <td>0</td>\n",
       "      <td>0</td>\n",
       "      <td>0</td>\n",
       "      <td>no</td>\n",
       "      <td>...</td>\n",
       "      <td>0</td>\n",
       "      <td>0</td>\n",
       "      <td>10.504</td>\n",
       "      <td>202</td>\n",
       "      <td>1</td>\n",
       "      <td>0</td>\n",
       "      <td>0</td>\n",
       "      <td>0</td>\n",
       "      <td>1</td>\n",
       "      <td>small</td>\n",
       "    </tr>\n",
       "    <tr>\n",
       "      <th>2</th>\n",
       "      <td>0</td>\n",
       "      <td>0</td>\n",
       "      <td>1</td>\n",
       "      <td>0</td>\n",
       "      <td>0</td>\n",
       "      <td>2012-01-01T16:00:32Z</td>\n",
       "      <td>0</td>\n",
       "      <td>0</td>\n",
       "      <td>4</td>\n",
       "      <td>no</td>\n",
       "      <td>...</td>\n",
       "      <td>0</td>\n",
       "      <td>0</td>\n",
       "      <td>7.773</td>\n",
       "      <td>192</td>\n",
       "      <td>1</td>\n",
       "      <td>0</td>\n",
       "      <td>0</td>\n",
       "      <td>0</td>\n",
       "      <td>6</td>\n",
       "      <td>small</td>\n",
       "    </tr>\n",
       "    <tr>\n",
       "      <th>3</th>\n",
       "      <td>0</td>\n",
       "      <td>0</td>\n",
       "      <td>1</td>\n",
       "      <td>0</td>\n",
       "      <td>0</td>\n",
       "      <td>2012-01-01T09:09:49Z</td>\n",
       "      <td>0</td>\n",
       "      <td>0</td>\n",
       "      <td>0</td>\n",
       "      <td>no</td>\n",
       "      <td>...</td>\n",
       "      <td>0</td>\n",
       "      <td>0</td>\n",
       "      <td>13.256</td>\n",
       "      <td>255</td>\n",
       "      <td>1</td>\n",
       "      <td>0</td>\n",
       "      <td>0</td>\n",
       "      <td>0</td>\n",
       "      <td>48</td>\n",
       "      <td>small</td>\n",
       "    </tr>\n",
       "    <tr>\n",
       "      <th>4</th>\n",
       "      <td>0</td>\n",
       "      <td>0</td>\n",
       "      <td>1</td>\n",
       "      <td>0</td>\n",
       "      <td>0</td>\n",
       "      <td>2012-01-01T10:00:01Z</td>\n",
       "      <td>0</td>\n",
       "      <td>0</td>\n",
       "      <td>0</td>\n",
       "      <td>no</td>\n",
       "      <td>...</td>\n",
       "      <td>0</td>\n",
       "      <td>2</td>\n",
       "      <td>1.231</td>\n",
       "      <td>29</td>\n",
       "      <td>0</td>\n",
       "      <td>0</td>\n",
       "      <td>0</td>\n",
       "      <td>0</td>\n",
       "      <td>1</td>\n",
       "      <td>none</td>\n",
       "    </tr>\n",
       "    <tr>\n",
       "      <th>...</th>\n",
       "      <td>...</td>\n",
       "      <td>...</td>\n",
       "      <td>...</td>\n",
       "      <td>...</td>\n",
       "      <td>...</td>\n",
       "      <td>...</td>\n",
       "      <td>...</td>\n",
       "      <td>...</td>\n",
       "      <td>...</td>\n",
       "      <td>...</td>\n",
       "      <td>...</td>\n",
       "      <td>...</td>\n",
       "      <td>...</td>\n",
       "      <td>...</td>\n",
       "      <td>...</td>\n",
       "      <td>...</td>\n",
       "      <td>...</td>\n",
       "      <td>...</td>\n",
       "      <td>...</td>\n",
       "      <td>...</td>\n",
       "      <td>...</td>\n",
       "    </tr>\n",
       "    <tr>\n",
       "      <th>3916</th>\n",
       "      <td>1</td>\n",
       "      <td>0</td>\n",
       "      <td>1</td>\n",
       "      <td>0</td>\n",
       "      <td>0</td>\n",
       "      <td>2012-03-31T00:03:45Z</td>\n",
       "      <td>0</td>\n",
       "      <td>0</td>\n",
       "      <td>0</td>\n",
       "      <td>no</td>\n",
       "      <td>...</td>\n",
       "      <td>0</td>\n",
       "      <td>0</td>\n",
       "      <td>0.332</td>\n",
       "      <td>12</td>\n",
       "      <td>0</td>\n",
       "      <td>0</td>\n",
       "      <td>0</td>\n",
       "      <td>0</td>\n",
       "      <td>0</td>\n",
       "      <td>small</td>\n",
       "    </tr>\n",
       "    <tr>\n",
       "      <th>3917</th>\n",
       "      <td>1</td>\n",
       "      <td>0</td>\n",
       "      <td>1</td>\n",
       "      <td>0</td>\n",
       "      <td>0</td>\n",
       "      <td>2012-03-31T14:13:19Z</td>\n",
       "      <td>0</td>\n",
       "      <td>0</td>\n",
       "      <td>1</td>\n",
       "      <td>no</td>\n",
       "      <td>...</td>\n",
       "      <td>0</td>\n",
       "      <td>0</td>\n",
       "      <td>0.323</td>\n",
       "      <td>15</td>\n",
       "      <td>0</td>\n",
       "      <td>0</td>\n",
       "      <td>0</td>\n",
       "      <td>0</td>\n",
       "      <td>0</td>\n",
       "      <td>small</td>\n",
       "    </tr>\n",
       "    <tr>\n",
       "      <th>3918</th>\n",
       "      <td>0</td>\n",
       "      <td>1</td>\n",
       "      <td>1</td>\n",
       "      <td>0</td>\n",
       "      <td>0</td>\n",
       "      <td>2012-03-30T16:20:33Z</td>\n",
       "      <td>0</td>\n",
       "      <td>0</td>\n",
       "      <td>0</td>\n",
       "      <td>no</td>\n",
       "      <td>...</td>\n",
       "      <td>0</td>\n",
       "      <td>0</td>\n",
       "      <td>8.656</td>\n",
       "      <td>208</td>\n",
       "      <td>1</td>\n",
       "      <td>0</td>\n",
       "      <td>0</td>\n",
       "      <td>0</td>\n",
       "      <td>5</td>\n",
       "      <td>small</td>\n",
       "    </tr>\n",
       "    <tr>\n",
       "      <th>3919</th>\n",
       "      <td>0</td>\n",
       "      <td>1</td>\n",
       "      <td>1</td>\n",
       "      <td>0</td>\n",
       "      <td>0</td>\n",
       "      <td>2012-03-28T16:00:49Z</td>\n",
       "      <td>0</td>\n",
       "      <td>0</td>\n",
       "      <td>0</td>\n",
       "      <td>no</td>\n",
       "      <td>...</td>\n",
       "      <td>0</td>\n",
       "      <td>0</td>\n",
       "      <td>10.185</td>\n",
       "      <td>132</td>\n",
       "      <td>0</td>\n",
       "      <td>0</td>\n",
       "      <td>0</td>\n",
       "      <td>0</td>\n",
       "      <td>0</td>\n",
       "      <td>small</td>\n",
       "    </tr>\n",
       "    <tr>\n",
       "      <th>3920</th>\n",
       "      <td>1</td>\n",
       "      <td>0</td>\n",
       "      <td>1</td>\n",
       "      <td>0</td>\n",
       "      <td>0</td>\n",
       "      <td>2012-03-31T09:20:24Z</td>\n",
       "      <td>0</td>\n",
       "      <td>0</td>\n",
       "      <td>2</td>\n",
       "      <td>yes</td>\n",
       "      <td>...</td>\n",
       "      <td>0</td>\n",
       "      <td>0</td>\n",
       "      <td>2.225</td>\n",
       "      <td>65</td>\n",
       "      <td>0</td>\n",
       "      <td>0</td>\n",
       "      <td>1</td>\n",
       "      <td>0</td>\n",
       "      <td>1</td>\n",
       "      <td>small</td>\n",
       "    </tr>\n",
       "  </tbody>\n",
       "</table>\n",
       "<p>3921 rows × 21 columns</p>\n",
       "</div>"
      ],
      "text/plain": [
       "      spam  to_multiple  from  cc  sent_email                  time  image  \\\n",
       "0        0            0     1   0           0  2012-01-01T06:16:41Z      0   \n",
       "1        0            0     1   0           0  2012-01-01T07:03:59Z      0   \n",
       "2        0            0     1   0           0  2012-01-01T16:00:32Z      0   \n",
       "3        0            0     1   0           0  2012-01-01T09:09:49Z      0   \n",
       "4        0            0     1   0           0  2012-01-01T10:00:01Z      0   \n",
       "...    ...          ...   ...  ..         ...                   ...    ...   \n",
       "3916     1            0     1   0           0  2012-03-31T00:03:45Z      0   \n",
       "3917     1            0     1   0           0  2012-03-31T14:13:19Z      0   \n",
       "3918     0            1     1   0           0  2012-03-30T16:20:33Z      0   \n",
       "3919     0            1     1   0           0  2012-03-28T16:00:49Z      0   \n",
       "3920     1            0     1   0           0  2012-03-31T09:20:24Z      0   \n",
       "\n",
       "      attach  dollar winner  ...  viagra  password  num_char  line_breaks  \\\n",
       "0          0       0     no  ...       0         0    11.370          202   \n",
       "1          0       0     no  ...       0         0    10.504          202   \n",
       "2          0       4     no  ...       0         0     7.773          192   \n",
       "3          0       0     no  ...       0         0    13.256          255   \n",
       "4          0       0     no  ...       0         2     1.231           29   \n",
       "...      ...     ...    ...  ...     ...       ...       ...          ...   \n",
       "3916       0       0     no  ...       0         0     0.332           12   \n",
       "3917       0       1     no  ...       0         0     0.323           15   \n",
       "3918       0       0     no  ...       0         0     8.656          208   \n",
       "3919       0       0     no  ...       0         0    10.185          132   \n",
       "3920       0       2    yes  ...       0         0     2.225           65   \n",
       "\n",
       "      format  re_subj  exclaim_subj  urgent_subj  exclaim_mess  number  \n",
       "0          1        0             0            0             0     big  \n",
       "1          1        0             0            0             1   small  \n",
       "2          1        0             0            0             6   small  \n",
       "3          1        0             0            0            48   small  \n",
       "4          0        0             0            0             1    none  \n",
       "...      ...      ...           ...          ...           ...     ...  \n",
       "3916       0        0             0            0             0   small  \n",
       "3917       0        0             0            0             0   small  \n",
       "3918       1        0             0            0             5   small  \n",
       "3919       0        0             0            0             0   small  \n",
       "3920       0        0             1            0             1   small  \n",
       "\n",
       "[3921 rows x 21 columns]"
      ]
     },
     "execution_count": 109,
     "metadata": {},
     "output_type": "execute_result"
    }
   ],
   "source": [
    "DF2"
   ]
  },
  {
   "cell_type": "markdown",
   "id": "11f9f517-ac49-4d03-9cc0-243d8880f779",
   "metadata": {},
   "source": [
    "**Exercise 1** Logistic Regression with ONE explanatory variable.\n",
    "\n",
    "Choose another variable from the data set to use as your explanatory variable and create a Logistic Regression model to predict if an email is spam or not. You should do all of the following:\n",
    "\n",
    "1. Say what variable you are using to predict spam messages (do some analysis, at minimum a value_counts()). Why do you think this is a good variable to use in predicting if an email is spam.\n",
    "2. Create and fit a Logistic Regression model.\n",
    "3. Show the results: intercept, coefficient, basic confusion matrix prediction.\n",
    "4. What do you think the decision cutoff should be? Update the cutoff and redo the confusion matrix.\n",
    "5. Explain your results in words. You should talk about False Negative and False positive rates and what they mean in terms of the variables you chose.\n",
    "\n"
   ]
  },
  {
   "cell_type": "code",
   "execution_count": 111,
   "id": "ddd28bbb-6699-4645-958a-b850cf4af4eb",
   "metadata": {},
   "outputs": [
    {
     "data": {
      "text/plain": [
       "Index(['spam', 'to_multiple', 'from', 'cc', 'sent_email', 'time', 'image',\n",
       "       'attach', 'dollar', 'winner', 'inherit', 'viagra', 'password',\n",
       "       'num_char', 'line_breaks', 'format', 're_subj', 'exclaim_subj',\n",
       "       'urgent_subj', 'exclaim_mess', 'number'],\n",
       "      dtype='object')"
      ]
     },
     "execution_count": 111,
     "metadata": {},
     "output_type": "execute_result"
    }
   ],
   "source": [
    "DF2.columns"
   ]
  },
  {
   "cell_type": "code",
   "execution_count": 113,
   "id": "a17b2d16-952a-467a-a026-af69659f6b5f",
   "metadata": {},
   "outputs": [
    {
     "data": {
      "text/plain": [
       "winner\n",
       "no     3857\n",
       "yes      64\n",
       "Name: count, dtype: int64"
      ]
     },
     "execution_count": 113,
     "metadata": {},
     "output_type": "execute_result"
    }
   ],
   "source": [
    "DF2['winner'].value_counts()\n"
   ]
  },
  {
   "cell_type": "code",
   "execution_count": 99,
   "id": "881ead1b-ce6e-4445-a348-e252e0fc936b",
   "metadata": {},
   "outputs": [
    {
     "data": {
      "application/vnd.plotly.v1+json": {
       "config": {
        "plotlyServerURL": "https://plot.ly"
       },
       "data": [
        {
         "hovertemplate": "Scam Value=%{x}<br>To_Multiple Value=%{y}<extra></extra>",
         "legendgroup": "",
         "marker": {
          "color": "lightpink",
          "symbol": "circle"
         },
         "mode": "markers",
         "name": "",
         "orientation": "v",
         "showlegend": false,
         "type": "scatter",
         "x": [
          -2.891513446765887,
          -2.82420334137949,
          -2.7746026227361167,
          -2.683741260879366,
          -2.6062434709330944,
          -2.5111566137223487,
          -2.5004540516962073,
          -2.4831853707057823,
          -2.4309048404810634,
          -2.415739625351975,
          -2.277109065369192,
          -2.1432861799926917,
          -2.0603231106441005,
          -1.999275988897955,
          -1.9905805253490487,
          -1.9561356028691785,
          -1.8603915380338798,
          -1.8399645983276869,
          -1.830343386179041,
          -1.754931027690726,
          -1.7072225563456198,
          -1.541252817463988,
          -1.4660026600091134,
          -1.38336332217807,
          -1.3348631705856446,
          -1.1816054329493901,
          -1.1309262059160838,
          -1.0816749039608746,
          -0.9751377257221687,
          -0.8999587891609275,
          -0.8988808540082336,
          -0.8434570390150977,
          -0.8293901284646048,
          -0.812601434880813,
          -0.7959569083363203,
          -0.7428571873822669,
          -0.7058200136302326,
          -0.6633919195339608,
          -0.5980207895354503,
          -0.5478026263743963,
          -0.40730257918842394,
          -0.34407091043740134,
          -0.3412359280625128,
          -0.28670939938969164,
          -0.23572697191034742,
          -0.21714105195374245,
          -0.19990106501481497,
          -0.08839954594427057,
          0.005259635337594659,
          0.05223590529760003,
          0.05705323934521145,
          0.1455283232264204,
          0.15567946140875666,
          0.22856798472666773,
          0.2647560117786054,
          0.274498078676614,
          0.2964709923657871,
          0.2992615269372627,
          0.37593253741645416,
          0.4128764186032372,
          0.4631200573398533,
          0.5451976043706868,
          0.6402972118200232,
          0.7086177933701814,
          0.717495556962521,
          0.8293464902436689,
          0.8863203265236717,
          0.9163687426633444,
          0.9809420707722607,
          1.0243639526556052,
          1.281644197580829,
          1.3030886822805456,
          1.3206680010896745,
          1.3412074399865315,
          1.3473474549529092,
          1.4430571273099115,
          1.4685043897795333,
          1.541561070762083,
          1.5731250671644927,
          1.6674564404912209,
          1.6975416855454348,
          1.784523323649986,
          1.8527966670069045,
          1.961207083040172,
          2.0177478786147596,
          2.0552293763918215,
          2.062083177989866,
          2.109223031387554,
          2.2063389168305543,
          2.208588959202377,
          2.287504090091339,
          2.3638383447750275,
          2.5187554306766176,
          2.570235311884751,
          2.600478762140729,
          2.70446827927603,
          2.7102144383432227,
          2.7995446213399005,
          2.8485604880171715,
          2.8885285495321513
         ],
         "xaxis": "x",
         "y": [
          21.34736943655689,
          17.164918773527237,
          19.620504013195074,
          20.606223235126322,
          20.469607779355858,
          17.927230717959418,
          19.633821322998934,
          16.49652534337911,
          19.85705652934619,
          18.02443867526549,
          15.494399507119136,
          16.53390134710208,
          10.893141794042268,
          13.141389831085188,
          12.07091086906675,
          15.05674381464083,
          13.430470391978162,
          11.19157732275413,
          10.848457516560451,
          11.042189092784547,
          8.577659559491778,
          10.49834712333693,
          7.017171503702367,
          12.931429506932119,
          10.77793963572464,
          10.60675222011713,
          5.821349472246699,
          7.4567510668318135,
          7.83799589366944,
          6.8443877025427495,
          3.245459571056551,
          7.9461774058374575,
          3.6473777072445843,
          8.657025258855064,
          5.364418903810753,
          6.525766864997253,
          6.815791676725891,
          5.743316632376836,
          6.912567040060139,
          8.138800985627995,
          3.8889222292948475,
          1.198099728691691,
          5.60569783898744,
          5.673772473862304,
          4.915661908695159,
          4.643164397981095,
          4.912781379255258,
          1.7305976180503735,
          4.014847740111325,
          2.873243545679127,
          4.034133366355794,
          2.116763401346085,
          3.5309663812024024,
          1.072842965587383,
          6.008743419341284,
          2.55596620637685,
          2.425804902937446,
          4.692727258179849,
          1.5457714241617115,
          3.1429964491545226,
          6.584328251068008,
          3.053428348962777,
          2.5448659150149884,
          3.274009143337202,
          2.6987893194810026,
          3.7689836077409655,
          6.8358525297988155,
          2.202370061165255,
          1.753979524366216,
          4.477358389699294,
          5.783048272658609,
          3.684054451267044,
          3.3609773174457223,
          2.9763634967938586,
          2.0309599706931176,
          2.268558054715747,
          0.3638733556602025,
          5.4533968318644535,
          3.3024299345724453,
          3.4537512961255077,
          2.33625517044573,
          3.4743555631583365,
          2.613020025713241,
          5.637942629252496,
          4.219604712396806,
          6.025391391427247,
          8.061960224551896,
          -0.8775912397345635,
          0.722664414012689,
          5.813056562595697,
          4.819373599643575,
          2.8334747744374504,
          3.655465062815585,
          5.966716427278021,
          8.70118636744698,
          5.962597500068263,
          6.610552600820412,
          2.5935339068966363,
          2.963383305794802,
          4.26689719749173
         ],
         "yaxis": "y"
        },
        {
         "hovertemplate": "scam=%{x}<br>yn=%{y}<extra></extra>",
         "legendgroup": "",
         "line": {
          "color": "deeppink",
          "dash": "solid"
         },
         "marker": {
          "symbol": "circle"
         },
         "mode": "lines",
         "name": "",
         "orientation": "v",
         "showlegend": false,
         "type": "scatter",
         "x": [
          -2.891513446765887,
          -2.82420334137949,
          -2.7746026227361167,
          -2.683741260879366,
          -2.6062434709330944,
          -2.5111566137223487,
          -2.5004540516962073,
          -2.4831853707057823,
          -2.4309048404810634,
          -2.415739625351975,
          -2.277109065369192,
          -2.1432861799926917,
          -2.0603231106441005,
          -1.999275988897955,
          -1.9905805253490487,
          -1.9561356028691785,
          -1.8603915380338798,
          -1.8399645983276869,
          -1.830343386179041,
          -1.754931027690726,
          -1.7072225563456198,
          -1.541252817463988,
          -1.4660026600091134,
          -1.38336332217807,
          -1.3348631705856446,
          -1.1816054329493901,
          -1.1309262059160838,
          -1.0816749039608746,
          -0.9751377257221687,
          -0.8999587891609275,
          -0.8988808540082336,
          -0.8434570390150977,
          -0.8293901284646048,
          -0.812601434880813,
          -0.7959569083363203,
          -0.7428571873822669,
          -0.7058200136302326,
          -0.6633919195339608,
          -0.5980207895354503,
          -0.5478026263743963,
          -0.40730257918842394,
          -0.34407091043740134,
          -0.3412359280625128,
          -0.28670939938969164,
          -0.23572697191034742,
          -0.21714105195374245,
          -0.19990106501481497,
          -0.08839954594427057,
          0.005259635337594659,
          0.05223590529760003,
          0.05705323934521145,
          0.1455283232264204,
          0.15567946140875666,
          0.22856798472666773,
          0.2647560117786054,
          0.274498078676614,
          0.2964709923657871,
          0.2992615269372627,
          0.37593253741645416,
          0.4128764186032372,
          0.4631200573398533,
          0.5451976043706868,
          0.6402972118200232,
          0.7086177933701814,
          0.717495556962521,
          0.8293464902436689,
          0.8863203265236717,
          0.9163687426633444,
          0.9809420707722607,
          1.0243639526556052,
          1.281644197580829,
          1.3030886822805456,
          1.3206680010896745,
          1.3412074399865315,
          1.3473474549529092,
          1.4430571273099115,
          1.4685043897795333,
          1.541561070762083,
          1.5731250671644927,
          1.6674564404912209,
          1.6975416855454348,
          1.784523323649986,
          1.8527966670069045,
          1.961207083040172,
          2.0177478786147596,
          2.0552293763918215,
          2.062083177989866,
          2.109223031387554,
          2.2063389168305543,
          2.208588959202377,
          2.287504090091339,
          2.3638383447750275,
          2.5187554306766176,
          2.570235311884751,
          2.600478762140729,
          2.70446827927603,
          2.7102144383432227,
          2.7995446213399005,
          2.8485604880171715,
          2.8885285495321513
         ],
         "xaxis": "x",
         "y": [
          21.261803632308247,
          20.631857769599613,
          20.174610213753255,
          19.352313738614058,
          18.666614713070395,
          17.844980580675664,
          17.753859686813293,
          17.60741492910911,
          17.168420113371774,
          17.042306588374778,
          15.915043498126845,
          14.870626229198926,
          14.24472536091527,
          13.794715347985562,
          13.731344306851295,
          13.482098803347784,
          12.804246854830378,
          12.662475163538216,
          12.596046759042832,
          12.083067063568768,
          11.765587019138376,
          10.703684340468786,
          10.244003209007339,
          9.75484120282223,
          9.475389547487264,
          8.629443261384093,
          8.362108414663508,
          8.108211977332708,
          7.578916615257346,
          7.221807959527922,
          7.216786282663669,
          6.962346329534684,
          6.898940903394952,
          6.82388889756646,
          6.750149150754776,
          6.519347129470258,
          6.362368304044759,
          6.186586405518446,
          5.924206611498549,
          5.729611826891214,
          5.217330917187311,
          5.00223902578457,
          4.992820170477104,
          4.815416234112306,
          4.655998076119094,
          4.599432913616649,
          4.547705185489907,
          4.23037624052846,
          3.9868841081726747,
          3.872684544518712,
          3.8612729881807097,
          3.6615933833672614,
          3.639884660123533,
          3.4912720265537427,
          3.422224865480982,
          3.404173837545048,
          3.3642965782627576,
          3.3593151364626297,
          3.229758983684913,
          3.1723692779382695,
          3.0995760816629296,
          2.993694502447126,
          2.891233593807337,
          2.8310225290715367,
          2.8240209567068475,
          2.752012495446218,
          2.7268756491416544,
          2.7167561503781172,
          2.7023416385225136,
          2.698275927361245,
          2.767023725079056,
          2.7799264309638145,
          2.7913267601984497,
          2.805586276523942,
          2.8100455598594247,
          2.8912538289411422,
          2.916545196913278,
          2.9977899649617603,
          3.036854304418316,
          3.1678520758947304,
          3.2141231151337357,
          3.3601198820559866,
          3.4874349196090115,
          3.712582159479898,
          3.8411981054483357,
          3.930687906521145,
          3.9474164945638766,
          4.065528576893958,
          4.325670407028842,
          4.331965830846824,
          4.560449729393178,
          4.795682202336922,
          5.316066126784,
          5.501743190439287,
          5.613790845462152,
          6.015807710142226,
          6.038778666306827,
          6.406078550898048,
          6.615755004628223,
          6.7909952439243995
         ],
         "yaxis": "y"
        }
       ],
       "layout": {
        "autosize": true,
        "legend": {
         "tracegroupgap": 0
        },
        "paper_bgcolor": "mistyrose",
        "plot_bgcolor": "mistyrose",
        "template": {
         "data": {
          "bar": [
           {
            "error_x": {
             "color": "#2a3f5f"
            },
            "error_y": {
             "color": "#2a3f5f"
            },
            "marker": {
             "line": {
              "color": "#E5ECF6",
              "width": 0.5
             },
             "pattern": {
              "fillmode": "overlay",
              "size": 10,
              "solidity": 0.2
             }
            },
            "type": "bar"
           }
          ],
          "barpolar": [
           {
            "marker": {
             "line": {
              "color": "#E5ECF6",
              "width": 0.5
             },
             "pattern": {
              "fillmode": "overlay",
              "size": 10,
              "solidity": 0.2
             }
            },
            "type": "barpolar"
           }
          ],
          "carpet": [
           {
            "aaxis": {
             "endlinecolor": "#2a3f5f",
             "gridcolor": "white",
             "linecolor": "white",
             "minorgridcolor": "white",
             "startlinecolor": "#2a3f5f"
            },
            "baxis": {
             "endlinecolor": "#2a3f5f",
             "gridcolor": "white",
             "linecolor": "white",
             "minorgridcolor": "white",
             "startlinecolor": "#2a3f5f"
            },
            "type": "carpet"
           }
          ],
          "choropleth": [
           {
            "colorbar": {
             "outlinewidth": 0,
             "ticks": ""
            },
            "type": "choropleth"
           }
          ],
          "contour": [
           {
            "colorbar": {
             "outlinewidth": 0,
             "ticks": ""
            },
            "colorscale": [
             [
              0,
              "#0d0887"
             ],
             [
              0.1111111111111111,
              "#46039f"
             ],
             [
              0.2222222222222222,
              "#7201a8"
             ],
             [
              0.3333333333333333,
              "#9c179e"
             ],
             [
              0.4444444444444444,
              "#bd3786"
             ],
             [
              0.5555555555555556,
              "#d8576b"
             ],
             [
              0.6666666666666666,
              "#ed7953"
             ],
             [
              0.7777777777777778,
              "#fb9f3a"
             ],
             [
              0.8888888888888888,
              "#fdca26"
             ],
             [
              1,
              "#f0f921"
             ]
            ],
            "type": "contour"
           }
          ],
          "contourcarpet": [
           {
            "colorbar": {
             "outlinewidth": 0,
             "ticks": ""
            },
            "type": "contourcarpet"
           }
          ],
          "heatmap": [
           {
            "colorbar": {
             "outlinewidth": 0,
             "ticks": ""
            },
            "colorscale": [
             [
              0,
              "#0d0887"
             ],
             [
              0.1111111111111111,
              "#46039f"
             ],
             [
              0.2222222222222222,
              "#7201a8"
             ],
             [
              0.3333333333333333,
              "#9c179e"
             ],
             [
              0.4444444444444444,
              "#bd3786"
             ],
             [
              0.5555555555555556,
              "#d8576b"
             ],
             [
              0.6666666666666666,
              "#ed7953"
             ],
             [
              0.7777777777777778,
              "#fb9f3a"
             ],
             [
              0.8888888888888888,
              "#fdca26"
             ],
             [
              1,
              "#f0f921"
             ]
            ],
            "type": "heatmap"
           }
          ],
          "heatmapgl": [
           {
            "colorbar": {
             "outlinewidth": 0,
             "ticks": ""
            },
            "colorscale": [
             [
              0,
              "#0d0887"
             ],
             [
              0.1111111111111111,
              "#46039f"
             ],
             [
              0.2222222222222222,
              "#7201a8"
             ],
             [
              0.3333333333333333,
              "#9c179e"
             ],
             [
              0.4444444444444444,
              "#bd3786"
             ],
             [
              0.5555555555555556,
              "#d8576b"
             ],
             [
              0.6666666666666666,
              "#ed7953"
             ],
             [
              0.7777777777777778,
              "#fb9f3a"
             ],
             [
              0.8888888888888888,
              "#fdca26"
             ],
             [
              1,
              "#f0f921"
             ]
            ],
            "type": "heatmapgl"
           }
          ],
          "histogram": [
           {
            "marker": {
             "pattern": {
              "fillmode": "overlay",
              "size": 10,
              "solidity": 0.2
             }
            },
            "type": "histogram"
           }
          ],
          "histogram2d": [
           {
            "colorbar": {
             "outlinewidth": 0,
             "ticks": ""
            },
            "colorscale": [
             [
              0,
              "#0d0887"
             ],
             [
              0.1111111111111111,
              "#46039f"
             ],
             [
              0.2222222222222222,
              "#7201a8"
             ],
             [
              0.3333333333333333,
              "#9c179e"
             ],
             [
              0.4444444444444444,
              "#bd3786"
             ],
             [
              0.5555555555555556,
              "#d8576b"
             ],
             [
              0.6666666666666666,
              "#ed7953"
             ],
             [
              0.7777777777777778,
              "#fb9f3a"
             ],
             [
              0.8888888888888888,
              "#fdca26"
             ],
             [
              1,
              "#f0f921"
             ]
            ],
            "type": "histogram2d"
           }
          ],
          "histogram2dcontour": [
           {
            "colorbar": {
             "outlinewidth": 0,
             "ticks": ""
            },
            "colorscale": [
             [
              0,
              "#0d0887"
             ],
             [
              0.1111111111111111,
              "#46039f"
             ],
             [
              0.2222222222222222,
              "#7201a8"
             ],
             [
              0.3333333333333333,
              "#9c179e"
             ],
             [
              0.4444444444444444,
              "#bd3786"
             ],
             [
              0.5555555555555556,
              "#d8576b"
             ],
             [
              0.6666666666666666,
              "#ed7953"
             ],
             [
              0.7777777777777778,
              "#fb9f3a"
             ],
             [
              0.8888888888888888,
              "#fdca26"
             ],
             [
              1,
              "#f0f921"
             ]
            ],
            "type": "histogram2dcontour"
           }
          ],
          "mesh3d": [
           {
            "colorbar": {
             "outlinewidth": 0,
             "ticks": ""
            },
            "type": "mesh3d"
           }
          ],
          "parcoords": [
           {
            "line": {
             "colorbar": {
              "outlinewidth": 0,
              "ticks": ""
             }
            },
            "type": "parcoords"
           }
          ],
          "pie": [
           {
            "automargin": true,
            "type": "pie"
           }
          ],
          "scatter": [
           {
            "fillpattern": {
             "fillmode": "overlay",
             "size": 10,
             "solidity": 0.2
            },
            "type": "scatter"
           }
          ],
          "scatter3d": [
           {
            "line": {
             "colorbar": {
              "outlinewidth": 0,
              "ticks": ""
             }
            },
            "marker": {
             "colorbar": {
              "outlinewidth": 0,
              "ticks": ""
             }
            },
            "type": "scatter3d"
           }
          ],
          "scattercarpet": [
           {
            "marker": {
             "colorbar": {
              "outlinewidth": 0,
              "ticks": ""
             }
            },
            "type": "scattercarpet"
           }
          ],
          "scattergeo": [
           {
            "marker": {
             "colorbar": {
              "outlinewidth": 0,
              "ticks": ""
             }
            },
            "type": "scattergeo"
           }
          ],
          "scattergl": [
           {
            "marker": {
             "colorbar": {
              "outlinewidth": 0,
              "ticks": ""
             }
            },
            "type": "scattergl"
           }
          ],
          "scattermapbox": [
           {
            "marker": {
             "colorbar": {
              "outlinewidth": 0,
              "ticks": ""
             }
            },
            "type": "scattermapbox"
           }
          ],
          "scatterpolar": [
           {
            "marker": {
             "colorbar": {
              "outlinewidth": 0,
              "ticks": ""
             }
            },
            "type": "scatterpolar"
           }
          ],
          "scatterpolargl": [
           {
            "marker": {
             "colorbar": {
              "outlinewidth": 0,
              "ticks": ""
             }
            },
            "type": "scatterpolargl"
           }
          ],
          "scatterternary": [
           {
            "marker": {
             "colorbar": {
              "outlinewidth": 0,
              "ticks": ""
             }
            },
            "type": "scatterternary"
           }
          ],
          "surface": [
           {
            "colorbar": {
             "outlinewidth": 0,
             "ticks": ""
            },
            "colorscale": [
             [
              0,
              "#0d0887"
             ],
             [
              0.1111111111111111,
              "#46039f"
             ],
             [
              0.2222222222222222,
              "#7201a8"
             ],
             [
              0.3333333333333333,
              "#9c179e"
             ],
             [
              0.4444444444444444,
              "#bd3786"
             ],
             [
              0.5555555555555556,
              "#d8576b"
             ],
             [
              0.6666666666666666,
              "#ed7953"
             ],
             [
              0.7777777777777778,
              "#fb9f3a"
             ],
             [
              0.8888888888888888,
              "#fdca26"
             ],
             [
              1,
              "#f0f921"
             ]
            ],
            "type": "surface"
           }
          ],
          "table": [
           {
            "cells": {
             "fill": {
              "color": "#EBF0F8"
             },
             "line": {
              "color": "white"
             }
            },
            "header": {
             "fill": {
              "color": "#C8D4E3"
             },
             "line": {
              "color": "white"
             }
            },
            "type": "table"
           }
          ]
         },
         "layout": {
          "annotationdefaults": {
           "arrowcolor": "#2a3f5f",
           "arrowhead": 0,
           "arrowwidth": 1
          },
          "autotypenumbers": "strict",
          "coloraxis": {
           "colorbar": {
            "outlinewidth": 0,
            "ticks": ""
           }
          },
          "colorscale": {
           "diverging": [
            [
             0,
             "#8e0152"
            ],
            [
             0.1,
             "#c51b7d"
            ],
            [
             0.2,
             "#de77ae"
            ],
            [
             0.3,
             "#f1b6da"
            ],
            [
             0.4,
             "#fde0ef"
            ],
            [
             0.5,
             "#f7f7f7"
            ],
            [
             0.6,
             "#e6f5d0"
            ],
            [
             0.7,
             "#b8e186"
            ],
            [
             0.8,
             "#7fbc41"
            ],
            [
             0.9,
             "#4d9221"
            ],
            [
             1,
             "#276419"
            ]
           ],
           "sequential": [
            [
             0,
             "#0d0887"
            ],
            [
             0.1111111111111111,
             "#46039f"
            ],
            [
             0.2222222222222222,
             "#7201a8"
            ],
            [
             0.3333333333333333,
             "#9c179e"
            ],
            [
             0.4444444444444444,
             "#bd3786"
            ],
            [
             0.5555555555555556,
             "#d8576b"
            ],
            [
             0.6666666666666666,
             "#ed7953"
            ],
            [
             0.7777777777777778,
             "#fb9f3a"
            ],
            [
             0.8888888888888888,
             "#fdca26"
            ],
            [
             1,
             "#f0f921"
            ]
           ],
           "sequentialminus": [
            [
             0,
             "#0d0887"
            ],
            [
             0.1111111111111111,
             "#46039f"
            ],
            [
             0.2222222222222222,
             "#7201a8"
            ],
            [
             0.3333333333333333,
             "#9c179e"
            ],
            [
             0.4444444444444444,
             "#bd3786"
            ],
            [
             0.5555555555555556,
             "#d8576b"
            ],
            [
             0.6666666666666666,
             "#ed7953"
            ],
            [
             0.7777777777777778,
             "#fb9f3a"
            ],
            [
             0.8888888888888888,
             "#fdca26"
            ],
            [
             1,
             "#f0f921"
            ]
           ]
          },
          "colorway": [
           "#636efa",
           "#EF553B",
           "#00cc96",
           "#ab63fa",
           "#FFA15A",
           "#19d3f3",
           "#FF6692",
           "#B6E880",
           "#FF97FF",
           "#FECB52"
          ],
          "font": {
           "color": "#2a3f5f"
          },
          "geo": {
           "bgcolor": "white",
           "lakecolor": "white",
           "landcolor": "#E5ECF6",
           "showlakes": true,
           "showland": true,
           "subunitcolor": "white"
          },
          "hoverlabel": {
           "align": "left"
          },
          "hovermode": "closest",
          "mapbox": {
           "style": "light"
          },
          "paper_bgcolor": "white",
          "plot_bgcolor": "#E5ECF6",
          "polar": {
           "angularaxis": {
            "gridcolor": "white",
            "linecolor": "white",
            "ticks": ""
           },
           "bgcolor": "#E5ECF6",
           "radialaxis": {
            "gridcolor": "white",
            "linecolor": "white",
            "ticks": ""
           }
          },
          "scene": {
           "xaxis": {
            "backgroundcolor": "#E5ECF6",
            "gridcolor": "white",
            "gridwidth": 2,
            "linecolor": "white",
            "showbackground": true,
            "ticks": "",
            "zerolinecolor": "white"
           },
           "yaxis": {
            "backgroundcolor": "#E5ECF6",
            "gridcolor": "white",
            "gridwidth": 2,
            "linecolor": "white",
            "showbackground": true,
            "ticks": "",
            "zerolinecolor": "white"
           },
           "zaxis": {
            "backgroundcolor": "#E5ECF6",
            "gridcolor": "white",
            "gridwidth": 2,
            "linecolor": "white",
            "showbackground": true,
            "ticks": "",
            "zerolinecolor": "white"
           }
          },
          "shapedefaults": {
           "line": {
            "color": "#2a3f5f"
           }
          },
          "ternary": {
           "aaxis": {
            "gridcolor": "white",
            "linecolor": "white",
            "ticks": ""
           },
           "baxis": {
            "gridcolor": "white",
            "linecolor": "white",
            "ticks": ""
           },
           "bgcolor": "#E5ECF6",
           "caxis": {
            "gridcolor": "white",
            "linecolor": "white",
            "ticks": ""
           }
          },
          "title": {
           "x": 0.05
          },
          "xaxis": {
           "automargin": true,
           "gridcolor": "white",
           "linecolor": "white",
           "ticks": "",
           "title": {
            "standoff": 15
           },
           "zerolinecolor": "white",
           "zerolinewidth": 2
          },
          "yaxis": {
           "automargin": true,
           "gridcolor": "white",
           "linecolor": "white",
           "ticks": "",
           "title": {
            "standoff": 15
           },
           "zerolinecolor": "white",
           "zerolinewidth": 2
          }
         }
        },
        "title": {
         "text": "Relationship Between Scam and To_Multiple"
        },
        "xaxis": {
         "anchor": "y",
         "autorange": true,
         "domain": [
          0,
          1
         ],
         "range": [
          -3.245393568988216,
          3.24240867175448
         ],
         "title": {
          "text": "Scam Value"
         },
         "type": "linear"
        },
        "yaxis": {
         "anchor": "x",
         "autorange": true,
         "domain": [
          0,
          1
         ],
         "range": [
          -2.711689936321722,
          23.181468133144048
         ],
         "title": {
          "text": "To_Multiple Value"
         },
         "type": "linear"
        }
       }
      },
      "image/png": "[encoded data removed]",
      "text/html": [
       "<div>                            <div id=\"ebeeb075-a655-4d8a-9ed5-f52499416367\" class=\"plotly-graph-div\" style=\"height:525px; width:100%;\"></div>            <script type=\"text/javascript\">                require([\"plotly\"], function(Plotly) {                    window.PLOTLYENV=window.PLOTLYENV || {};                                    if (document.getElementById(\"ebeeb075-a655-4d8a-9ed5-f52499416367\")) {                    Plotly.newPlot(                        \"ebeeb075-a655-4d8a-9ed5-f52499416367\",                        [{\"hovertemplate\":\"Scam Value=%{x}\\u003cbr\\u003eTo_Multiple Value=%{y}\\u003cextra\\u003e\\u003c\\u002fextra\\u003e\",\"legendgroup\":\"\",\"marker\":{\"color\":\"lightpink\",\"symbol\":\"circle\"},\"mode\":\"markers\",\"name\":\"\",\"orientation\":\"v\",\"showlegend\":false,\"x\":[-2.891513446765887,-2.82420334137949,-2.7746026227361167,-2.683741260879366,-2.6062434709330944,-2.5111566137223487,-2.5004540516962073,-2.4831853707057823,-2.4309048404810634,-2.415739625351975,-2.277109065369192,-2.1432861799926917,-2.0603231106441005,-1.999275988897955,-1.9905805253490487,-1.9561356028691785,-1.8603915380338798,-1.8399645983276869,-1.830343386179041,-1.754931027690726,-1.7072225563456198,-1.541252817463988,-1.4660026600091134,-1.38336332217807,-1.3348631705856446,-1.1816054329493901,-1.1309262059160838,-1.0816749039608746,-0.9751377257221687,-0.8999587891609275,-0.8988808540082336,-0.8434570390150977,-0.8293901284646048,-0.812601434880813,-0.7959569083363203,-0.7428571873822669,-0.7058200136302326,-0.6633919195339608,-0.5980207895354503,-0.5478026263743963,-0.40730257918842394,-0.34407091043740134,-0.3412359280625128,-0.28670939938969164,-0.23572697191034742,-0.21714105195374245,-0.19990106501481497,-0.08839954594427057,0.005259635337594659,0.05223590529760003,0.05705323934521145,0.1455283232264204,0.15567946140875666,0.22856798472666773,0.2647560117786054,0.274498078676614,0.2964709923657871,0.2992615269372627,0.37593253741645416,0.4128764186032372,0.4631200573398533,0.5451976043706868,0.6402972118200232,0.7086177933701814,0.717495556962521,0.8293464902436689,0.8863203265236717,0.9163687426633444,0.9809420707722607,1.0243639526556052,1.281644197580829,1.3030886822805456,1.3206680010896745,1.3412074399865315,1.3473474549529092,1.4430571273099115,1.4685043897795333,1.541561070762083,1.5731250671644927,1.6674564404912209,1.6975416855454348,1.784523323649986,1.8527966670069045,1.961207083040172,2.0177478786147596,2.0552293763918215,2.062083177989866,2.109223031387554,2.2063389168305543,2.208588959202377,2.287504090091339,2.3638383447750275,2.5187554306766176,2.570235311884751,2.600478762140729,2.70446827927603,2.7102144383432227,2.7995446213399005,2.8485604880171715,2.8885285495321513],\"xaxis\":\"x\",\"y\":[21.34736943655689,17.164918773527237,19.620504013195074,20.606223235126322,20.469607779355858,17.927230717959418,19.633821322998934,16.49652534337911,19.85705652934619,18.02443867526549,15.494399507119136,16.53390134710208,10.893141794042268,13.141389831085188,12.07091086906675,15.05674381464083,13.430470391978162,11.19157732275413,10.848457516560451,11.042189092784547,8.577659559491778,10.49834712333693,7.017171503702367,12.931429506932119,10.77793963572464,10.60675222011713,5.821349472246699,7.4567510668318135,7.83799589366944,6.8443877025427495,3.245459571056551,7.9461774058374575,3.6473777072445843,8.657025258855064,5.364418903810753,6.525766864997253,6.815791676725891,5.743316632376836,6.912567040060139,8.138800985627995,3.8889222292948475,1.198099728691691,5.60569783898744,5.673772473862304,4.915661908695159,4.643164397981095,4.912781379255258,1.7305976180503735,4.014847740111325,2.873243545679127,4.034133366355794,2.116763401346085,3.5309663812024024,1.072842965587383,6.008743419341284,2.55596620637685,2.425804902937446,4.692727258179849,1.5457714241617115,3.1429964491545226,6.584328251068008,3.053428348962777,2.5448659150149884,3.274009143337202,2.6987893194810026,3.7689836077409655,6.8358525297988155,2.202370061165255,1.753979524366216,4.477358389699294,5.783048272658609,3.684054451267044,3.3609773174457223,2.9763634967938586,2.0309599706931176,2.268558054715747,0.3638733556602025,5.4533968318644535,3.3024299345724453,3.4537512961255077,2.33625517044573,3.4743555631583365,2.613020025713241,5.637942629252496,4.219604712396806,6.025391391427247,8.061960224551896,-0.8775912397345635,0.722664414012689,5.813056562595697,4.819373599643575,2.8334747744374504,3.655465062815585,5.966716427278021,8.70118636744698,5.962597500068263,6.610552600820412,2.5935339068966363,2.963383305794802,4.26689719749173],\"yaxis\":\"y\",\"type\":\"scatter\"},{\"hovertemplate\":\"scam=%{x}\\u003cbr\\u003eyn=%{y}\\u003cextra\\u003e\\u003c\\u002fextra\\u003e\",\"legendgroup\":\"\",\"line\":{\"color\":\"deeppink\",\"dash\":\"solid\"},\"marker\":{\"symbol\":\"circle\"},\"mode\":\"lines\",\"name\":\"\",\"orientation\":\"v\",\"showlegend\":false,\"x\":[-2.891513446765887,-2.82420334137949,-2.7746026227361167,-2.683741260879366,-2.6062434709330944,-2.5111566137223487,-2.5004540516962073,-2.4831853707057823,-2.4309048404810634,-2.415739625351975,-2.277109065369192,-2.1432861799926917,-2.0603231106441005,-1.999275988897955,-1.9905805253490487,-1.9561356028691785,-1.8603915380338798,-1.8399645983276869,-1.830343386179041,-1.754931027690726,-1.7072225563456198,-1.541252817463988,-1.4660026600091134,-1.38336332217807,-1.3348631705856446,-1.1816054329493901,-1.1309262059160838,-1.0816749039608746,-0.9751377257221687,-0.8999587891609275,-0.8988808540082336,-0.8434570390150977,-0.8293901284646048,-0.812601434880813,-0.7959569083363203,-0.7428571873822669,-0.7058200136302326,-0.6633919195339608,-0.5980207895354503,-0.5478026263743963,-0.40730257918842394,-0.34407091043740134,-0.3412359280625128,-0.28670939938969164,-0.23572697191034742,-0.21714105195374245,-0.19990106501481497,-0.08839954594427057,0.005259635337594659,0.05223590529760003,0.05705323934521145,0.1455283232264204,0.15567946140875666,0.22856798472666773,0.2647560117786054,0.274498078676614,0.2964709923657871,0.2992615269372627,0.37593253741645416,0.4128764186032372,0.4631200573398533,0.5451976043706868,0.6402972118200232,0.7086177933701814,0.717495556962521,0.8293464902436689,0.8863203265236717,0.9163687426633444,0.9809420707722607,1.0243639526556052,1.281644197580829,1.3030886822805456,1.3206680010896745,1.3412074399865315,1.3473474549529092,1.4430571273099115,1.4685043897795333,1.541561070762083,1.5731250671644927,1.6674564404912209,1.6975416855454348,1.784523323649986,1.8527966670069045,1.961207083040172,2.0177478786147596,2.0552293763918215,2.062083177989866,2.109223031387554,2.2063389168305543,2.208588959202377,2.287504090091339,2.3638383447750275,2.5187554306766176,2.570235311884751,2.600478762140729,2.70446827927603,2.7102144383432227,2.7995446213399005,2.8485604880171715,2.8885285495321513],\"xaxis\":\"x\",\"y\":[21.261803632308247,20.631857769599613,20.174610213753255,19.352313738614058,18.666614713070395,17.844980580675664,17.753859686813293,17.60741492910911,17.168420113371774,17.042306588374778,15.915043498126845,14.870626229198926,14.24472536091527,13.794715347985562,13.731344306851295,13.482098803347784,12.804246854830378,12.662475163538216,12.596046759042832,12.083067063568768,11.765587019138376,10.703684340468786,10.244003209007339,9.75484120282223,9.475389547487264,8.629443261384093,8.362108414663508,8.108211977332708,7.578916615257346,7.221807959527922,7.216786282663669,6.962346329534684,6.898940903394952,6.82388889756646,6.750149150754776,6.519347129470258,6.362368304044759,6.186586405518446,5.924206611498549,5.729611826891214,5.217330917187311,5.00223902578457,4.992820170477104,4.815416234112306,4.655998076119094,4.599432913616649,4.547705185489907,4.23037624052846,3.9868841081726747,3.872684544518712,3.8612729881807097,3.6615933833672614,3.639884660123533,3.4912720265537427,3.422224865480982,3.404173837545048,3.3642965782627576,3.3593151364626297,3.229758983684913,3.1723692779382695,3.0995760816629296,2.993694502447126,2.891233593807337,2.8310225290715367,2.8240209567068475,2.752012495446218,2.7268756491416544,2.7167561503781172,2.7023416385225136,2.698275927361245,2.767023725079056,2.7799264309638145,2.7913267601984497,2.805586276523942,2.8100455598594247,2.8912538289411422,2.916545196913278,2.9977899649617603,3.036854304418316,3.1678520758947304,3.2141231151337357,3.3601198820559866,3.4874349196090115,3.712582159479898,3.8411981054483357,3.930687906521145,3.9474164945638766,4.065528576893958,4.325670407028842,4.331965830846824,4.560449729393178,4.795682202336922,5.316066126784,5.501743190439287,5.613790845462152,6.015807710142226,6.038778666306827,6.406078550898048,6.615755004628223,6.7909952439243995],\"yaxis\":\"y\",\"type\":\"scatter\"}],                        {\"template\":{\"data\":{\"histogram2dcontour\":[{\"type\":\"histogram2dcontour\",\"colorbar\":{\"outlinewidth\":0,\"ticks\":\"\"},\"colorscale\":[[0.0,\"#0d0887\"],[0.1111111111111111,\"#46039f\"],[0.2222222222222222,\"#7201a8\"],[0.3333333333333333,\"#9c179e\"],[0.4444444444444444,\"#bd3786\"],[0.5555555555555556,\"#d8576b\"],[0.6666666666666666,\"#ed7953\"],[0.7777777777777778,\"#fb9f3a\"],[0.8888888888888888,\"#fdca26\"],[1.0,\"#f0f921\"]]}],\"choropleth\":[{\"type\":\"choropleth\",\"colorbar\":{\"outlinewidth\":0,\"ticks\":\"\"}}],\"histogram2d\":[{\"type\":\"histogram2d\",\"colorbar\":{\"outlinewidth\":0,\"ticks\":\"\"},\"colorscale\":[[0.0,\"#0d0887\"],[0.1111111111111111,\"#46039f\"],[0.2222222222222222,\"#7201a8\"],[0.3333333333333333,\"#9c179e\"],[0.4444444444444444,\"#bd3786\"],[0.5555555555555556,\"#d8576b\"],[0.6666666666666666,\"#ed7953\"],[0.7777777777777778,\"#fb9f3a\"],[0.8888888888888888,\"#fdca26\"],[1.0,\"#f0f921\"]]}],\"heatmap\":[{\"type\":\"heatmap\",\"colorbar\":{\"outlinewidth\":0,\"ticks\":\"\"},\"colorscale\":[[0.0,\"#0d0887\"],[0.1111111111111111,\"#46039f\"],[0.2222222222222222,\"#7201a8\"],[0.3333333333333333,\"#9c179e\"],[0.4444444444444444,\"#bd3786\"],[0.5555555555555556,\"#d8576b\"],[0.6666666666666666,\"#ed7953\"],[0.7777777777777778,\"#fb9f3a\"],[0.8888888888888888,\"#fdca26\"],[1.0,\"#f0f921\"]]}],\"heatmapgl\":[{\"type\":\"heatmapgl\",\"colorbar\":{\"outlinewidth\":0,\"ticks\":\"\"},\"colorscale\":[[0.0,\"#0d0887\"],[0.1111111111111111,\"#46039f\"],[0.2222222222222222,\"#7201a8\"],[0.3333333333333333,\"#9c179e\"],[0.4444444444444444,\"#bd3786\"],[0.5555555555555556,\"#d8576b\"],[0.6666666666666666,\"#ed7953\"],[0.7777777777777778,\"#fb9f3a\"],[0.8888888888888888,\"#fdca26\"],[1.0,\"#f0f921\"]]}],\"contourcarpet\":[{\"type\":\"contourcarpet\",\"colorbar\":{\"outlinewidth\":0,\"ticks\":\"\"}}],\"contour\":[{\"type\":\"contour\",\"colorbar\":{\"outlinewidth\":0,\"ticks\":\"\"},\"colorscale\":[[0.0,\"#0d0887\"],[0.1111111111111111,\"#46039f\"],[0.2222222222222222,\"#7201a8\"],[0.3333333333333333,\"#9c179e\"],[0.4444444444444444,\"#bd3786\"],[0.5555555555555556,\"#d8576b\"],[0.6666666666666666,\"#ed7953\"],[0.7777777777777778,\"#fb9f3a\"],[0.8888888888888888,\"#fdca26\"],[1.0,\"#f0f921\"]]}],\"surface\":[{\"type\":\"surface\",\"colorbar\":{\"outlinewidth\":0,\"ticks\":\"\"},\"colorscale\":[[0.0,\"#0d0887\"],[0.1111111111111111,\"#46039f\"],[0.2222222222222222,\"#7201a8\"],[0.3333333333333333,\"#9c179e\"],[0.4444444444444444,\"#bd3786\"],[0.5555555555555556,\"#d8576b\"],[0.6666666666666666,\"#ed7953\"],[0.7777777777777778,\"#fb9f3a\"],[0.8888888888888888,\"#fdca26\"],[1.0,\"#f0f921\"]]}],\"mesh3d\":[{\"type\":\"mesh3d\",\"colorbar\":{\"outlinewidth\":0,\"ticks\":\"\"}}],\"scatter\":[{\"fillpattern\":{\"fillmode\":\"overlay\",\"size\":10,\"solidity\":0.2},\"type\":\"scatter\"}],\"parcoords\":[{\"type\":\"parcoords\",\"line\":{\"colorbar\":{\"outlinewidth\":0,\"ticks\":\"\"}}}],\"scatterpolargl\":[{\"type\":\"scatterpolargl\",\"marker\":{\"colorbar\":{\"outlinewidth\":0,\"ticks\":\"\"}}}],\"bar\":[{\"error_x\":{\"color\":\"#2a3f5f\"},\"error_y\":{\"color\":\"#2a3f5f\"},\"marker\":{\"line\":{\"color\":\"#E5ECF6\",\"width\":0.5},\"pattern\":{\"fillmode\":\"overlay\",\"size\":10,\"solidity\":0.2}},\"type\":\"bar\"}],\"scattergeo\":[{\"type\":\"scattergeo\",\"marker\":{\"colorbar\":{\"outlinewidth\":0,\"ticks\":\"\"}}}],\"scatterpolar\":[{\"type\":\"scatterpolar\",\"marker\":{\"colorbar\":{\"outlinewidth\":0,\"ticks\":\"\"}}}],\"histogram\":[{\"marker\":{\"pattern\":{\"fillmode\":\"overlay\",\"size\":10,\"solidity\":0.2}},\"type\":\"histogram\"}],\"scattergl\":[{\"type\":\"scattergl\",\"marker\":{\"colorbar\":{\"outlinewidth\":0,\"ticks\":\"\"}}}],\"scatter3d\":[{\"type\":\"scatter3d\",\"line\":{\"colorbar\":{\"outlinewidth\":0,\"ticks\":\"\"}},\"marker\":{\"colorbar\":{\"outlinewidth\":0,\"ticks\":\"\"}}}],\"scattermapbox\":[{\"type\":\"scattermapbox\",\"marker\":{\"colorbar\":{\"outlinewidth\":0,\"ticks\":\"\"}}}],\"scatterternary\":[{\"type\":\"scatterternary\",\"marker\":{\"colorbar\":{\"outlinewidth\":0,\"ticks\":\"\"}}}],\"scattercarpet\":[{\"type\":\"scattercarpet\",\"marker\":{\"colorbar\":{\"outlinewidth\":0,\"ticks\":\"\"}}}],\"carpet\":[{\"aaxis\":{\"endlinecolor\":\"#2a3f5f\",\"gridcolor\":\"white\",\"linecolor\":\"white\",\"minorgridcolor\":\"white\",\"startlinecolor\":\"#2a3f5f\"},\"baxis\":{\"endlinecolor\":\"#2a3f5f\",\"gridcolor\":\"white\",\"linecolor\":\"white\",\"minorgridcolor\":\"white\",\"startlinecolor\":\"#2a3f5f\"},\"type\":\"carpet\"}],\"table\":[{\"cells\":{\"fill\":{\"color\":\"#EBF0F8\"},\"line\":{\"color\":\"white\"}},\"header\":{\"fill\":{\"color\":\"#C8D4E3\"},\"line\":{\"color\":\"white\"}},\"type\":\"table\"}],\"barpolar\":[{\"marker\":{\"line\":{\"color\":\"#E5ECF6\",\"width\":0.5},\"pattern\":{\"fillmode\":\"overlay\",\"size\":10,\"solidity\":0.2}},\"type\":\"barpolar\"}],\"pie\":[{\"automargin\":true,\"type\":\"pie\"}]},\"layout\":{\"autotypenumbers\":\"strict\",\"colorway\":[\"#636efa\",\"#EF553B\",\"#00cc96\",\"#ab63fa\",\"#FFA15A\",\"#19d3f3\",\"#FF6692\",\"#B6E880\",\"#FF97FF\",\"#FECB52\"],\"font\":{\"color\":\"#2a3f5f\"},\"hovermode\":\"closest\",\"hoverlabel\":{\"align\":\"left\"},\"paper_bgcolor\":\"white\",\"plot_bgcolor\":\"#E5ECF6\",\"polar\":{\"bgcolor\":\"#E5ECF6\",\"angularaxis\":{\"gridcolor\":\"white\",\"linecolor\":\"white\",\"ticks\":\"\"},\"radialaxis\":{\"gridcolor\":\"white\",\"linecolor\":\"white\",\"ticks\":\"\"}},\"ternary\":{\"bgcolor\":\"#E5ECF6\",\"aaxis\":{\"gridcolor\":\"white\",\"linecolor\":\"white\",\"ticks\":\"\"},\"baxis\":{\"gridcolor\":\"white\",\"linecolor\":\"white\",\"ticks\":\"\"},\"caxis\":{\"gridcolor\":\"white\",\"linecolor\":\"white\",\"ticks\":\"\"}},\"coloraxis\":{\"colorbar\":{\"outlinewidth\":0,\"ticks\":\"\"}},\"colorscale\":{\"sequential\":[[0.0,\"#0d0887\"],[0.1111111111111111,\"#46039f\"],[0.2222222222222222,\"#7201a8\"],[0.3333333333333333,\"#9c179e\"],[0.4444444444444444,\"#bd3786\"],[0.5555555555555556,\"#d8576b\"],[0.6666666666666666,\"#ed7953\"],[0.7777777777777778,\"#fb9f3a\"],[0.8888888888888888,\"#fdca26\"],[1.0,\"#f0f921\"]],\"sequentialminus\":[[0.0,\"#0d0887\"],[0.1111111111111111,\"#46039f\"],[0.2222222222222222,\"#7201a8\"],[0.3333333333333333,\"#9c179e\"],[0.4444444444444444,\"#bd3786\"],[0.5555555555555556,\"#d8576b\"],[0.6666666666666666,\"#ed7953\"],[0.7777777777777778,\"#fb9f3a\"],[0.8888888888888888,\"#fdca26\"],[1.0,\"#f0f921\"]],\"diverging\":[[0,\"#8e0152\"],[0.1,\"#c51b7d\"],[0.2,\"#de77ae\"],[0.3,\"#f1b6da\"],[0.4,\"#fde0ef\"],[0.5,\"#f7f7f7\"],[0.6,\"#e6f5d0\"],[0.7,\"#b8e186\"],[0.8,\"#7fbc41\"],[0.9,\"#4d9221\"],[1,\"#276419\"]]},\"xaxis\":{\"gridcolor\":\"white\",\"linecolor\":\"white\",\"ticks\":\"\",\"title\":{\"standoff\":15},\"zerolinecolor\":\"white\",\"automargin\":true,\"zerolinewidth\":2},\"yaxis\":{\"gridcolor\":\"white\",\"linecolor\":\"white\",\"ticks\":\"\",\"title\":{\"standoff\":15},\"zerolinecolor\":\"white\",\"automargin\":true,\"zerolinewidth\":2},\"scene\":{\"xaxis\":{\"backgroundcolor\":\"#E5ECF6\",\"gridcolor\":\"white\",\"linecolor\":\"white\",\"showbackground\":true,\"ticks\":\"\",\"zerolinecolor\":\"white\",\"gridwidth\":2},\"yaxis\":{\"backgroundcolor\":\"#E5ECF6\",\"gridcolor\":\"white\",\"linecolor\":\"white\",\"showbackground\":true,\"ticks\":\"\",\"zerolinecolor\":\"white\",\"gridwidth\":2},\"zaxis\":{\"backgroundcolor\":\"#E5ECF6\",\"gridcolor\":\"white\",\"linecolor\":\"white\",\"showbackground\":true,\"ticks\":\"\",\"zerolinecolor\":\"white\",\"gridwidth\":2}},\"shapedefaults\":{\"line\":{\"color\":\"#2a3f5f\"}},\"annotationdefaults\":{\"arrowcolor\":\"#2a3f5f\",\"arrowhead\":0,\"arrowwidth\":1},\"geo\":{\"bgcolor\":\"white\",\"landcolor\":\"#E5ECF6\",\"subunitcolor\":\"white\",\"showland\":true,\"showlakes\":true,\"lakecolor\":\"white\"},\"title\":{\"x\":0.05},\"mapbox\":{\"style\":\"light\"}}},\"xaxis\":{\"anchor\":\"y\",\"domain\":[0.0,1.0],\"title\":{\"text\":\"Scam Value\"}},\"yaxis\":{\"anchor\":\"x\",\"domain\":[0.0,1.0],\"title\":{\"text\":\"To_Multiple Value\"}},\"legend\":{\"tracegroupgap\":0},\"title\":{\"text\":\"Relationship Between Scam and To_Multiple\"},\"plot_bgcolor\":\"mistyrose\",\"paper_bgcolor\":\"mistyrose\"},                        {\"responsive\": true}                    ).then(function(){\n",
       "                            \n",
       "var gd = document.getElementById('ebeeb075-a655-4d8a-9ed5-f52499416367');\n",
       "var x = new MutationObserver(function (mutations, observer) {{\n",
       "        var display = window.getComputedStyle(gd).display;\n",
       "        if (!display || display === 'none') {{\n",
       "            console.log([gd, 'removed!']);\n",
       "            Plotly.purge(gd);\n",
       "            observer.disconnect();\n",
       "        }}\n",
       "}});\n",
       "\n",
       "// Listen for the removal of the full notebook cells\n",
       "var notebookContainer = gd.closest('#notebook-container');\n",
       "if (notebookContainer) {{\n",
       "    x.observe(notebookContainer, {childList: true});\n",
       "}}\n",
       "\n",
       "// Listen for the clearing of the current output cell\n",
       "var outputEl = gd.closest('.output');\n",
       "if (outputEl) {{\n",
       "    x.observe(outputEl, {childList: true});\n",
       "}}\n",
       "\n",
       "                        })                };                });            </script>        </div>"
      ]
     },
     "metadata": {},
     "output_type": "display_data"
    }
   ],
   "source": [
    "fig = px.scatter(\n",
    "    DF,\n",
    "    x='scam',\n",
    "    y='to_multiple',\n",
    "    title='Relationship Between Scam and To_Multiple',\n",
    "    labels={'scam': 'Scam Value', 'to_multiple': 'To_Multiple Value'},\n",
    "    color_discrete_sequence=['lightpink']  # Pinkish color for points\n",
    ")\n",
    "\n",
    "fig.add_trace(\n",
    "    px.line(DF, x='scam', y='yn', color_discrete_sequence=['deeppink']).data[0]  # Darker pink regression line\n",
    ")\n",
    "\n",
    "fig.update_layout(\n",
    "    plot_bgcolor='mistyrose',  # Light pink background\n",
    "    paper_bgcolor='mistyrose'  # Light pink figure background\n",
    ")\n",
    "\n",
    "fig.show()\n"
   ]
  },
  {
   "cell_type": "code",
   "execution_count": 94,
   "id": "ad3298a7-93a9-4aac-a6da-cec2eae3e233",
   "metadata": {},
   "outputs": [
    {
     "data": {
      "application/vnd.plotly.v1+json": {
       "config": {
        "plotlyServerURL": "https://plot.ly"
       },
       "data": [
        {
         "hovertemplate": "Scam Value=%{x}<br>To_Multiple Value=%{y}<extra></extra>",
         "legendgroup": "",
         "marker": {
          "color": "lightpink",
          "symbol": "circle"
         },
         "mode": "markers",
         "name": "",
         "orientation": "v",
         "showlegend": false,
         "type": "scatter",
         "x": [
          -2.8731010599035023,
          -2.789044498372835,
          -2.6863253803874425,
          -2.5083693657711232,
          -2.4631612631376765,
          -2.455674703513015,
          -2.404574010481914,
          -2.3930062823213807,
          -2.365220878363206,
          -2.359074042216056,
          -2.240177246889754,
          -2.2391892052394398,
          -2.237337054797856,
          -2.2265844895590066,
          -2.034838239089413,
          -1.9868442637977881,
          -1.9288812643644078,
          -1.8241188917894284,
          -1.8108216814699911,
          -1.7701246030445352,
          -1.7640708948691608,
          -1.5978573070478184,
          -1.5859047925446903,
          -1.5699767362320183,
          -1.5669290375783584,
          -1.5391977355994393,
          -1.4506391204401021,
          -1.4238271379883882,
          -1.4097162755443002,
          -1.3815452047573977,
          -1.1694018790828404,
          -1.1574735398385079,
          -1.0846482132828692,
          -1.0611286963234965,
          -1.00020084077685,
          -0.9957267094802424,
          -0.9676022653534115,
          -0.8848245521968963,
          -0.8635962052851314,
          -0.8606464729386678,
          -0.7424440240174683,
          -0.7359091366181305,
          -0.6348570324005522,
          -0.5788800453587326,
          -0.4920954869585188,
          -0.4864021320963241,
          -0.43474886784172817,
          -0.3161834624843962,
          -0.25341232377519507,
          -0.23596325007004104,
          -0.168584936612862,
          -0.0811034056054627,
          -0.0581250635410302,
          -0.04843185576522435,
          -0.042103737251465656,
          -0.04181924904718626,
          0.03683911616786606,
          0.08110720045061992,
          0.2141338227361791,
          0.26465174363681143,
          0.26894805404059063,
          0.3102742321198013,
          0.38242260867239697,
          0.43663505842265415,
          0.5614515264857873,
          0.7388271224869523,
          0.8352109763397593,
          0.953410839449143,
          1.202087333199417,
          1.2143923264835923,
          1.255776762844608,
          1.281961698672923,
          1.3199808157646773,
          1.3361014468469197,
          1.4519723467570333,
          1.5532088065076977,
          1.5571208923016648,
          1.6551903912167214,
          1.7334837777952021,
          1.763730508293544,
          1.887750336155503,
          1.9916492501283125,
          2.080710011218472,
          2.0892187713173733,
          2.1152558692530024,
          2.1197087914032116,
          2.136921731967962,
          2.199574131573021,
          2.2420682073644924,
          2.2463881902499843,
          2.2485963753239613,
          2.4354700274078853,
          2.539716126083614,
          2.616978249305979,
          2.6625982932720866,
          2.695687030535902,
          2.7016753416684427,
          2.793107509408598,
          2.858937966887323,
          2.9347519146524004
         ],
         "xaxis": "x",
         "y": [
          19.062345267015434,
          22.71937117216519,
          18.052440822288816,
          16.028962728649613,
          16.681795482511053,
          16.446273753741938,
          15.328829267720245,
          16.457321669448845,
          16.740028801783826,
          16.099655639441547,
          16.829262380098093,
          16.400662474567255,
          20.27617796153315,
          16.011249772975372,
          14.276310626005449,
          12.875425490387512,
          11.663059361114277,
          13.160063279632931,
          13.217710933339614,
          10.251855003686728,
          10.757891092543943,
          10.74569456116973,
          9.358151006006143,
          9.895952683931952,
          12.031905494151008,
          9.845521022742508,
          10.553852391819042,
          8.322867688718004,
          10.640869337731797,
          7.482178846647515,
          7.075384522684016,
          6.903536532270283,
          7.2334793681760985,
          9.222365139882667,
          12.889604537759208,
          7.04867693734047,
          6.227683048662226,
          4.250459219799358,
          7.427668004616421,
          6.106689770123193,
          6.742893192104064,
          7.4895809348946765,
          3.3405133691939,
          8.363482178656406,
          5.811464389989703,
          2.125462271298828,
          4.841740233219717,
          3.657842190174099,
          6.209755663062671,
          5.546931021300856,
          3.841366987179816,
          0.8439624397489571,
          3.080886342540701,
          6.398972439297767,
          -1.0396618746389672,
          3.5576221430291612,
          2.5551502788497817,
          4.342563107040712,
          1.8618565279946724,
          3.765438391789664,
          2.5714740372136418,
          4.121719735203374,
          2.71113123492787,
          2.230977384285694,
          0.41780471898310045,
          1.0441775710031709,
          5.556136073057052,
          4.7105705826662865,
          3.9623206013136016,
          3.5756447051925044,
          3.2616114452061002,
          2.1932674365302063,
          5.993463848927622,
          3.5638525457892447,
          5.317801847409109,
          1.7389163743673772,
          2.66885549246433,
          3.139401148239065,
          4.450486122512257,
          5.060894181040053,
          4.388047240545962,
          3.870092406191801,
          4.295271880145688,
          2.5936950023640017,
          3.2170304414170037,
          4.193599139500271,
          7.117022319491147,
          4.40127248800602,
          5.019049107044247,
          1.6863128092831934,
          1.547630806408392,
          3.2261518229745745,
          7.104076169870657,
          5.123799268432617,
          8.514972257855845,
          7.2085893958611695,
          3.9115965349928454,
          5.5295262651387045,
          2.9388067823292463,
          8.779487129327052
         ],
         "yaxis": "y"
        },
        {
         "hovertemplate": "scam=%{x}<br>yn=%{y}<extra></extra>",
         "legendgroup": "",
         "line": {
          "color": "deeppink",
          "dash": "solid"
         },
         "marker": {
          "symbol": "circle"
         },
         "mode": "lines",
         "name": "",
         "orientation": "v",
         "showlegend": false,
         "type": "scatter",
         "x": [
          -2.8731010599035023,
          -2.789044498372835,
          -2.6863253803874425,
          -2.5083693657711232,
          -2.4631612631376765,
          -2.455674703513015,
          -2.404574010481914,
          -2.3930062823213807,
          -2.365220878363206,
          -2.359074042216056,
          -2.240177246889754,
          -2.2391892052394398,
          -2.237337054797856,
          -2.2265844895590066,
          -2.034838239089413,
          -1.9868442637977881,
          -1.9288812643644078,
          -1.8241188917894284,
          -1.8108216814699911,
          -1.7701246030445352,
          -1.7640708948691608,
          -1.5978573070478184,
          -1.5859047925446903,
          -1.5699767362320183,
          -1.5669290375783584,
          -1.5391977355994393,
          -1.4506391204401021,
          -1.4238271379883882,
          -1.4097162755443002,
          -1.3815452047573977,
          -1.1694018790828404,
          -1.1574735398385079,
          -1.0846482132828692,
          -1.0611286963234965,
          -1.00020084077685,
          -0.9957267094802424,
          -0.9676022653534115,
          -0.8848245521968963,
          -0.8635962052851314,
          -0.8606464729386678,
          -0.7424440240174683,
          -0.7359091366181305,
          -0.6348570324005522,
          -0.5788800453587326,
          -0.4920954869585188,
          -0.4864021320963241,
          -0.43474886784172817,
          -0.3161834624843962,
          -0.25341232377519507,
          -0.23596325007004104,
          -0.168584936612862,
          -0.0811034056054627,
          -0.0581250635410302,
          -0.04843185576522435,
          -0.042103737251465656,
          -0.04181924904718626,
          0.03683911616786606,
          0.08110720045061992,
          0.2141338227361791,
          0.26465174363681143,
          0.26894805404059063,
          0.3102742321198013,
          0.38242260867239697,
          0.43663505842265415,
          0.5614515264857873,
          0.7388271224869523,
          0.8352109763397593,
          0.953410839449143,
          1.202087333199417,
          1.2143923264835923,
          1.255776762844608,
          1.281961698672923,
          1.3199808157646773,
          1.3361014468469197,
          1.4519723467570333,
          1.5532088065076977,
          1.5571208923016648,
          1.6551903912167214,
          1.7334837777952021,
          1.763730508293544,
          1.887750336155503,
          1.9916492501283125,
          2.080710011218472,
          2.0892187713173733,
          2.1152558692530024,
          2.1197087914032116,
          2.136921731967962,
          2.199574131573021,
          2.2420682073644924,
          2.2463881902499843,
          2.2485963753239613,
          2.4354700274078853,
          2.539716126083614,
          2.616978249305979,
          2.6625982932720866,
          2.695687030535902,
          2.7016753416684427,
          2.793107509408598,
          2.858937966887323,
          2.9347519146524004
         ],
         "xaxis": "x",
         "y": [
          21.08840429026111,
          20.307134302616625,
          19.37542631014509,
          17.82122366459464,
          17.438499247710585,
          17.37559265815102,
          16.94980643246688,
          16.854290586478967,
          16.626175960042275,
          16.575961509529265,
          15.622516034203453,
          15.6147349693316,
          15.600155153120493,
          15.515675410871207,
          14.055775588836136,
          13.70417081379788,
          13.286902679330263,
          12.553188907133283,
          12.461944398173145,
          12.185320839975628,
          12.14451258372228,
          11.058420836042874,
          10.982874794581186,
          10.882734183351733,
          10.863642524513384,
          10.690949942127927,
          10.151822430401735,
          9.992308307617616,
          9.909050661902143,
          9.744263595239286,
          8.564505603470074,
          8.501377844107813,
          8.123374629100438,
          8.004014673002185,
          7.700984168210986,
          7.679082789667428,
          7.5425106360839935,
          7.151558766296766,
          7.0539486001522835,
          7.040471004004792,
          6.517577814602772,
          6.489647550374977,
          6.070794722907504,
          5.849322641694266,
          5.520828279338227,
          5.4999097711702305,
          5.313680063311917,
          4.910425034549337,
          4.710592176447361,
          4.656722511635443,
          4.45556739855547,
          4.210651828894622,
          4.149366886466554,
          4.123894412996497,
          4.107386612757312,
          4.10664674212701,
          3.9095307541563704,
          3.805126052431375,
          3.5196893960070836,
          3.422419295399977,
          3.414429531825188,
          3.3398385386415352,
          3.219439940267569,
          3.13719256303587,
          2.974644563697397,
          2.8079708140894395,
          2.7490654091486983,
          2.707263575912086,
          2.728798414967641,
          2.733717650937697,
          2.752928426609059,
          2.767206709554932,
          2.7908671853724463,
          2.801946874402419,
          2.8999375680039687,
          3.011927099666436,
          3.0167483371366375,
          3.1496102993695927,
          3.2722497649669453,
          3.323568096328623,
          3.5569457575975,
          3.7808769573232226,
          3.993449952895549,
          4.014755161016417,
          4.081029197758624,
          4.092526453914448,
          4.13741705634844,
          4.306816303409699,
          4.427073297358323,
          4.439541405928559,
          4.445931852634166,
          5.029142036762886,
          5.390899286097956,
          5.6758445655437555,
          5.8508198724222975,
          5.980856703579609,
          6.004671227964049,
          6.378970697416146,
          6.660886640993476,
          6.998442774036115
         ],
         "yaxis": "y"
        }
       ],
       "layout": {
        "autosize": true,
        "legend": {
         "tracegroupgap": 0
        },
        "paper_bgcolor": "mistyrose",
        "plot_bgcolor": "mistyrose",
        "template": {
         "data": {
          "bar": [
           {
            "error_x": {
             "color": "#2a3f5f"
            },
            "error_y": {
             "color": "#2a3f5f"
            },
            "marker": {
             "line": {
              "color": "#E5ECF6",
              "width": 0.5
             },
             "pattern": {
              "fillmode": "overlay",
              "size": 10,
              "solidity": 0.2
             }
            },
            "type": "bar"
           }
          ],
          "barpolar": [
           {
            "marker": {
             "line": {
              "color": "#E5ECF6",
              "width": 0.5
             },
             "pattern": {
              "fillmode": "overlay",
              "size": 10,
              "solidity": 0.2
             }
            },
            "type": "barpolar"
           }
          ],
          "carpet": [
           {
            "aaxis": {
             "endlinecolor": "#2a3f5f",
             "gridcolor": "white",
             "linecolor": "white",
             "minorgridcolor": "white",
             "startlinecolor": "#2a3f5f"
            },
            "baxis": {
             "endlinecolor": "#2a3f5f",
             "gridcolor": "white",
             "linecolor": "white",
             "minorgridcolor": "white",
             "startlinecolor": "#2a3f5f"
            },
            "type": "carpet"
           }
          ],
          "choropleth": [
           {
            "colorbar": {
             "outlinewidth": 0,
             "ticks": ""
            },
            "type": "choropleth"
           }
          ],
          "contour": [
           {
            "colorbar": {
             "outlinewidth": 0,
             "ticks": ""
            },
            "colorscale": [
             [
              0,
              "#0d0887"
             ],
             [
              0.1111111111111111,
              "#46039f"
             ],
             [
              0.2222222222222222,
              "#7201a8"
             ],
             [
              0.3333333333333333,
              "#9c179e"
             ],
             [
              0.4444444444444444,
              "#bd3786"
             ],
             [
              0.5555555555555556,
              "#d8576b"
             ],
             [
              0.6666666666666666,
              "#ed7953"
             ],
             [
              0.7777777777777778,
              "#fb9f3a"
             ],
             [
              0.8888888888888888,
              "#fdca26"
             ],
             [
              1,
              "#f0f921"
             ]
            ],
            "type": "contour"
           }
          ],
          "contourcarpet": [
           {
            "colorbar": {
             "outlinewidth": 0,
             "ticks": ""
            },
            "type": "contourcarpet"
           }
          ],
          "heatmap": [
           {
            "colorbar": {
             "outlinewidth": 0,
             "ticks": ""
            },
            "colorscale": [
             [
              0,
              "#0d0887"
             ],
             [
              0.1111111111111111,
              "#46039f"
             ],
             [
              0.2222222222222222,
              "#7201a8"
             ],
             [
              0.3333333333333333,
              "#9c179e"
             ],
             [
              0.4444444444444444,
              "#bd3786"
             ],
             [
              0.5555555555555556,
              "#d8576b"
             ],
             [
              0.6666666666666666,
              "#ed7953"
             ],
             [
              0.7777777777777778,
              "#fb9f3a"
             ],
             [
              0.8888888888888888,
              "#fdca26"
             ],
             [
              1,
              "#f0f921"
             ]
            ],
            "type": "heatmap"
           }
          ],
          "heatmapgl": [
           {
            "colorbar": {
             "outlinewidth": 0,
             "ticks": ""
            },
            "colorscale": [
             [
              0,
              "#0d0887"
             ],
             [
              0.1111111111111111,
              "#46039f"
             ],
             [
              0.2222222222222222,
              "#7201a8"
             ],
             [
              0.3333333333333333,
              "#9c179e"
             ],
             [
              0.4444444444444444,
              "#bd3786"
             ],
             [
              0.5555555555555556,
              "#d8576b"
             ],
             [
              0.6666666666666666,
              "#ed7953"
             ],
             [
              0.7777777777777778,
              "#fb9f3a"
             ],
             [
              0.8888888888888888,
              "#fdca26"
             ],
             [
              1,
              "#f0f921"
             ]
            ],
            "type": "heatmapgl"
           }
          ],
          "histogram": [
           {
            "marker": {
             "pattern": {
              "fillmode": "overlay",
              "size": 10,
              "solidity": 0.2
             }
            },
            "type": "histogram"
           }
          ],
          "histogram2d": [
           {
            "colorbar": {
             "outlinewidth": 0,
             "ticks": ""
            },
            "colorscale": [
             [
              0,
              "#0d0887"
             ],
             [
              0.1111111111111111,
              "#46039f"
             ],
             [
              0.2222222222222222,
              "#7201a8"
             ],
             [
              0.3333333333333333,
              "#9c179e"
             ],
             [
              0.4444444444444444,
              "#bd3786"
             ],
             [
              0.5555555555555556,
              "#d8576b"
             ],
             [
              0.6666666666666666,
              "#ed7953"
             ],
             [
              0.7777777777777778,
              "#fb9f3a"
             ],
             [
              0.8888888888888888,
              "#fdca26"
             ],
             [
              1,
              "#f0f921"
             ]
            ],
            "type": "histogram2d"
           }
          ],
          "histogram2dcontour": [
           {
            "colorbar": {
             "outlinewidth": 0,
             "ticks": ""
            },
            "colorscale": [
             [
              0,
              "#0d0887"
             ],
             [
              0.1111111111111111,
              "#46039f"
             ],
             [
              0.2222222222222222,
              "#7201a8"
             ],
             [
              0.3333333333333333,
              "#9c179e"
             ],
             [
              0.4444444444444444,
              "#bd3786"
             ],
             [
              0.5555555555555556,
              "#d8576b"
             ],
             [
              0.6666666666666666,
              "#ed7953"
             ],
             [
              0.7777777777777778,
              "#fb9f3a"
             ],
             [
              0.8888888888888888,
              "#fdca26"
             ],
             [
              1,
              "#f0f921"
             ]
            ],
            "type": "histogram2dcontour"
           }
          ],
          "mesh3d": [
           {
            "colorbar": {
             "outlinewidth": 0,
             "ticks": ""
            },
            "type": "mesh3d"
           }
          ],
          "parcoords": [
           {
            "line": {
             "colorbar": {
              "outlinewidth": 0,
              "ticks": ""
             }
            },
            "type": "parcoords"
           }
          ],
          "pie": [
           {
            "automargin": true,
            "type": "pie"
           }
          ],
          "scatter": [
           {
            "fillpattern": {
             "fillmode": "overlay",
             "size": 10,
             "solidity": 0.2
            },
            "type": "scatter"
           }
          ],
          "scatter3d": [
           {
            "line": {
             "colorbar": {
              "outlinewidth": 0,
              "ticks": ""
             }
            },
            "marker": {
             "colorbar": {
              "outlinewidth": 0,
              "ticks": ""
             }
            },
            "type": "scatter3d"
           }
          ],
          "scattercarpet": [
           {
            "marker": {
             "colorbar": {
              "outlinewidth": 0,
              "ticks": ""
             }
            },
            "type": "scattercarpet"
           }
          ],
          "scattergeo": [
           {
            "marker": {
             "colorbar": {
              "outlinewidth": 0,
              "ticks": ""
             }
            },
            "type": "scattergeo"
           }
          ],
          "scattergl": [
           {
            "marker": {
             "colorbar": {
              "outlinewidth": 0,
              "ticks": ""
             }
            },
            "type": "scattergl"
           }
          ],
          "scattermapbox": [
           {
            "marker": {
             "colorbar": {
              "outlinewidth": 0,
              "ticks": ""
             }
            },
            "type": "scattermapbox"
           }
          ],
          "scatterpolar": [
           {
            "marker": {
             "colorbar": {
              "outlinewidth": 0,
              "ticks": ""
             }
            },
            "type": "scatterpolar"
           }
          ],
          "scatterpolargl": [
           {
            "marker": {
             "colorbar": {
              "outlinewidth": 0,
              "ticks": ""
             }
            },
            "type": "scatterpolargl"
           }
          ],
          "scatterternary": [
           {
            "marker": {
             "colorbar": {
              "outlinewidth": 0,
              "ticks": ""
             }
            },
            "type": "scatterternary"
           }
          ],
          "surface": [
           {
            "colorbar": {
             "outlinewidth": 0,
             "ticks": ""
            },
            "colorscale": [
             [
              0,
              "#0d0887"
             ],
             [
              0.1111111111111111,
              "#46039f"
             ],
             [
              0.2222222222222222,
              "#7201a8"
             ],
             [
              0.3333333333333333,
              "#9c179e"
             ],
             [
              0.4444444444444444,
              "#bd3786"
             ],
             [
              0.5555555555555556,
              "#d8576b"
             ],
             [
              0.6666666666666666,
              "#ed7953"
             ],
             [
              0.7777777777777778,
              "#fb9f3a"
             ],
             [
              0.8888888888888888,
              "#fdca26"
             ],
             [
              1,
              "#f0f921"
             ]
            ],
            "type": "surface"
           }
          ],
          "table": [
           {
            "cells": {
             "fill": {
              "color": "#EBF0F8"
             },
             "line": {
              "color": "white"
             }
            },
            "header": {
             "fill": {
              "color": "#C8D4E3"
             },
             "line": {
              "color": "white"
             }
            },
            "type": "table"
           }
          ]
         },
         "layout": {
          "annotationdefaults": {
           "arrowcolor": "#2a3f5f",
           "arrowhead": 0,
           "arrowwidth": 1
          },
          "autotypenumbers": "strict",
          "coloraxis": {
           "colorbar": {
            "outlinewidth": 0,
            "ticks": ""
           }
          },
          "colorscale": {
           "diverging": [
            [
             0,
             "#8e0152"
            ],
            [
             0.1,
             "#c51b7d"
            ],
            [
             0.2,
             "#de77ae"
            ],
            [
             0.3,
             "#f1b6da"
            ],
            [
             0.4,
             "#fde0ef"
            ],
            [
             0.5,
             "#f7f7f7"
            ],
            [
             0.6,
             "#e6f5d0"
            ],
            [
             0.7,
             "#b8e186"
            ],
            [
             0.8,
             "#7fbc41"
            ],
            [
             0.9,
             "#4d9221"
            ],
            [
             1,
             "#276419"
            ]
           ],
           "sequential": [
            [
             0,
             "#0d0887"
            ],
            [
             0.1111111111111111,
             "#46039f"
            ],
            [
             0.2222222222222222,
             "#7201a8"
            ],
            [
             0.3333333333333333,
             "#9c179e"
            ],
            [
             0.4444444444444444,
             "#bd3786"
            ],
            [
             0.5555555555555556,
             "#d8576b"
            ],
            [
             0.6666666666666666,
             "#ed7953"
            ],
            [
             0.7777777777777778,
             "#fb9f3a"
            ],
            [
             0.8888888888888888,
             "#fdca26"
            ],
            [
             1,
             "#f0f921"
            ]
           ],
           "sequentialminus": [
            [
             0,
             "#0d0887"
            ],
            [
             0.1111111111111111,
             "#46039f"
            ],
            [
             0.2222222222222222,
             "#7201a8"
            ],
            [
             0.3333333333333333,
             "#9c179e"
            ],
            [
             0.4444444444444444,
             "#bd3786"
            ],
            [
             0.5555555555555556,
             "#d8576b"
            ],
            [
             0.6666666666666666,
             "#ed7953"
            ],
            [
             0.7777777777777778,
             "#fb9f3a"
            ],
            [
             0.8888888888888888,
             "#fdca26"
            ],
            [
             1,
             "#f0f921"
            ]
           ]
          },
          "colorway": [
           "#636efa",
           "#EF553B",
           "#00cc96",
           "#ab63fa",
           "#FFA15A",
           "#19d3f3",
           "#FF6692",
           "#B6E880",
           "#FF97FF",
           "#FECB52"
          ],
          "font": {
           "color": "#2a3f5f"
          },
          "geo": {
           "bgcolor": "white",
           "lakecolor": "white",
           "landcolor": "#E5ECF6",
           "showlakes": true,
           "showland": true,
           "subunitcolor": "white"
          },
          "hoverlabel": {
           "align": "left"
          },
          "hovermode": "closest",
          "mapbox": {
           "style": "light"
          },
          "paper_bgcolor": "white",
          "plot_bgcolor": "#E5ECF6",
          "polar": {
           "angularaxis": {
            "gridcolor": "white",
            "linecolor": "white",
            "ticks": ""
           },
           "bgcolor": "#E5ECF6",
           "radialaxis": {
            "gridcolor": "white",
            "linecolor": "white",
            "ticks": ""
           }
          },
          "scene": {
           "xaxis": {
            "backgroundcolor": "#E5ECF6",
            "gridcolor": "white",
            "gridwidth": 2,
            "linecolor": "white",
            "showbackground": true,
            "ticks": "",
            "zerolinecolor": "white"
           },
           "yaxis": {
            "backgroundcolor": "#E5ECF6",
            "gridcolor": "white",
            "gridwidth": 2,
            "linecolor": "white",
            "showbackground": true,
            "ticks": "",
            "zerolinecolor": "white"
           },
           "zaxis": {
            "backgroundcolor": "#E5ECF6",
            "gridcolor": "white",
            "gridwidth": 2,
            "linecolor": "white",
            "showbackground": true,
            "ticks": "",
            "zerolinecolor": "white"
           }
          },
          "shapedefaults": {
           "line": {
            "color": "#2a3f5f"
           }
          },
          "ternary": {
           "aaxis": {
            "gridcolor": "white",
            "linecolor": "white",
            "ticks": ""
           },
           "baxis": {
            "gridcolor": "white",
            "linecolor": "white",
            "ticks": ""
           },
           "bgcolor": "#E5ECF6",
           "caxis": {
            "gridcolor": "white",
            "linecolor": "white",
            "ticks": ""
           }
          },
          "title": {
           "x": 0.05
          },
          "xaxis": {
           "automargin": true,
           "gridcolor": "white",
           "linecolor": "white",
           "ticks": "",
           "title": {
            "standoff": 15
           },
           "zerolinecolor": "white",
           "zerolinewidth": 2
          },
          "yaxis": {
           "automargin": true,
           "gridcolor": "white",
           "linecolor": "white",
           "ticks": "",
           "title": {
            "standoff": 15
           },
           "zerolinecolor": "white",
           "zerolinewidth": 2
          }
         }
        },
        "title": {
         "text": "Relationship Between Scam and To_Multiple"
        },
        "xaxis": {
         "anchor": "y",
         "autorange": true,
         "domain": [
          0,
          1
         ],
         "range": [
          -3.2286838950803944,
          3.2903347498292925
         ],
         "title": {
          "text": "Scam Value"
         },
         "type": "linear"
        },
        "yaxis": {
         "anchor": "x",
         "autorange": true,
         "domain": [
          0,
          1
         ],
         "range": [
          -3.0003587765596986,
          24.68006807408592
         ],
         "title": {
          "text": "To_Multiple Value"
         },
         "type": "linear"
        }
       }
      },
      "image/png": "[encoded data removed]",
      "text/html": [
       "<div>                            <div id=\"4ff9ae82-b09f-4116-a50a-8ba1fa69bd6b\" class=\"plotly-graph-div\" style=\"height:525px; width:100%;\"></div>            <script type=\"text/javascript\">                require([\"plotly\"], function(Plotly) {                    window.PLOTLYENV=window.PLOTLYENV || {};                                    if (document.getElementById(\"4ff9ae82-b09f-4116-a50a-8ba1fa69bd6b\")) {                    Plotly.newPlot(                        \"4ff9ae82-b09f-4116-a50a-8ba1fa69bd6b\",                        [{\"hovertemplate\":\"Scam Value=%{x}\\u003cbr\\u003eTo_Multiple Value=%{y}\\u003cextra\\u003e\\u003c\\u002fextra\\u003e\",\"legendgroup\":\"\",\"marker\":{\"color\":\"lightpink\",\"symbol\":\"circle\"},\"mode\":\"markers\",\"name\":\"\",\"orientation\":\"v\",\"showlegend\":false,\"x\":[-2.8731010599035023,-2.789044498372835,-2.6863253803874425,-2.5083693657711232,-2.4631612631376765,-2.455674703513015,-2.404574010481914,-2.3930062823213807,-2.365220878363206,-2.359074042216056,-2.240177246889754,-2.2391892052394398,-2.237337054797856,-2.2265844895590066,-2.034838239089413,-1.9868442637977881,-1.9288812643644078,-1.8241188917894284,-1.8108216814699911,-1.7701246030445352,-1.7640708948691608,-1.5978573070478184,-1.5859047925446903,-1.5699767362320183,-1.5669290375783584,-1.5391977355994393,-1.4506391204401021,-1.4238271379883882,-1.4097162755443002,-1.3815452047573977,-1.1694018790828404,-1.1574735398385079,-1.0846482132828692,-1.0611286963234965,-1.00020084077685,-0.9957267094802424,-0.9676022653534115,-0.8848245521968963,-0.8635962052851314,-0.8606464729386678,-0.7424440240174683,-0.7359091366181305,-0.6348570324005522,-0.5788800453587326,-0.4920954869585188,-0.4864021320963241,-0.43474886784172817,-0.3161834624843962,-0.25341232377519507,-0.23596325007004104,-0.168584936612862,-0.0811034056054627,-0.0581250635410302,-0.04843185576522435,-0.042103737251465656,-0.04181924904718626,0.03683911616786606,0.08110720045061992,0.2141338227361791,0.26465174363681143,0.26894805404059063,0.3102742321198013,0.38242260867239697,0.43663505842265415,0.5614515264857873,0.7388271224869523,0.8352109763397593,0.953410839449143,1.202087333199417,1.2143923264835923,1.255776762844608,1.281961698672923,1.3199808157646773,1.3361014468469197,1.4519723467570333,1.5532088065076977,1.5571208923016648,1.6551903912167214,1.7334837777952021,1.763730508293544,1.887750336155503,1.9916492501283125,2.080710011218472,2.0892187713173733,2.1152558692530024,2.1197087914032116,2.136921731967962,2.199574131573021,2.2420682073644924,2.2463881902499843,2.2485963753239613,2.4354700274078853,2.539716126083614,2.616978249305979,2.6625982932720866,2.695687030535902,2.7016753416684427,2.793107509408598,2.858937966887323,2.9347519146524004],\"xaxis\":\"x\",\"y\":[19.062345267015434,22.71937117216519,18.052440822288816,16.028962728649613,16.681795482511053,16.446273753741938,15.328829267720245,16.457321669448845,16.740028801783826,16.099655639441547,16.829262380098093,16.400662474567255,20.27617796153315,16.011249772975372,14.276310626005449,12.875425490387512,11.663059361114277,13.160063279632931,13.217710933339614,10.251855003686728,10.757891092543943,10.74569456116973,9.358151006006143,9.895952683931952,12.031905494151008,9.845521022742508,10.553852391819042,8.322867688718004,10.640869337731797,7.482178846647515,7.075384522684016,6.903536532270283,7.2334793681760985,9.222365139882667,12.889604537759208,7.04867693734047,6.227683048662226,4.250459219799358,7.427668004616421,6.106689770123193,6.742893192104064,7.4895809348946765,3.3405133691939,8.363482178656406,5.811464389989703,2.125462271298828,4.841740233219717,3.657842190174099,6.209755663062671,5.546931021300856,3.841366987179816,0.8439624397489571,3.080886342540701,6.398972439297767,-1.0396618746389672,3.5576221430291612,2.5551502788497817,4.342563107040712,1.8618565279946724,3.765438391789664,2.5714740372136418,4.121719735203374,2.71113123492787,2.230977384285694,0.41780471898310045,1.0441775710031709,5.556136073057052,4.7105705826662865,3.9623206013136016,3.5756447051925044,3.2616114452061002,2.1932674365302063,5.993463848927622,3.5638525457892447,5.317801847409109,1.7389163743673772,2.66885549246433,3.139401148239065,4.450486122512257,5.060894181040053,4.388047240545962,3.870092406191801,4.295271880145688,2.5936950023640017,3.2170304414170037,4.193599139500271,7.117022319491147,4.40127248800602,5.019049107044247,1.6863128092831934,1.547630806408392,3.2261518229745745,7.104076169870657,5.123799268432617,8.514972257855845,7.2085893958611695,3.9115965349928454,5.5295262651387045,2.9388067823292463,8.779487129327052],\"yaxis\":\"y\",\"type\":\"scatter\"},{\"hovertemplate\":\"scam=%{x}\\u003cbr\\u003eyn=%{y}\\u003cextra\\u003e\\u003c\\u002fextra\\u003e\",\"legendgroup\":\"\",\"line\":{\"color\":\"deeppink\",\"dash\":\"solid\"},\"marker\":{\"symbol\":\"circle\"},\"mode\":\"lines\",\"name\":\"\",\"orientation\":\"v\",\"showlegend\":false,\"x\":[-2.8731010599035023,-2.789044498372835,-2.6863253803874425,-2.5083693657711232,-2.4631612631376765,-2.455674703513015,-2.404574010481914,-2.3930062823213807,-2.365220878363206,-2.359074042216056,-2.240177246889754,-2.2391892052394398,-2.237337054797856,-2.2265844895590066,-2.034838239089413,-1.9868442637977881,-1.9288812643644078,-1.8241188917894284,-1.8108216814699911,-1.7701246030445352,-1.7640708948691608,-1.5978573070478184,-1.5859047925446903,-1.5699767362320183,-1.5669290375783584,-1.5391977355994393,-1.4506391204401021,-1.4238271379883882,-1.4097162755443002,-1.3815452047573977,-1.1694018790828404,-1.1574735398385079,-1.0846482132828692,-1.0611286963234965,-1.00020084077685,-0.9957267094802424,-0.9676022653534115,-0.8848245521968963,-0.8635962052851314,-0.8606464729386678,-0.7424440240174683,-0.7359091366181305,-0.6348570324005522,-0.5788800453587326,-0.4920954869585188,-0.4864021320963241,-0.43474886784172817,-0.3161834624843962,-0.25341232377519507,-0.23596325007004104,-0.168584936612862,-0.0811034056054627,-0.0581250635410302,-0.04843185576522435,-0.042103737251465656,-0.04181924904718626,0.03683911616786606,0.08110720045061992,0.2141338227361791,0.26465174363681143,0.26894805404059063,0.3102742321198013,0.38242260867239697,0.43663505842265415,0.5614515264857873,0.7388271224869523,0.8352109763397593,0.953410839449143,1.202087333199417,1.2143923264835923,1.255776762844608,1.281961698672923,1.3199808157646773,1.3361014468469197,1.4519723467570333,1.5532088065076977,1.5571208923016648,1.6551903912167214,1.7334837777952021,1.763730508293544,1.887750336155503,1.9916492501283125,2.080710011218472,2.0892187713173733,2.1152558692530024,2.1197087914032116,2.136921731967962,2.199574131573021,2.2420682073644924,2.2463881902499843,2.2485963753239613,2.4354700274078853,2.539716126083614,2.616978249305979,2.6625982932720866,2.695687030535902,2.7016753416684427,2.793107509408598,2.858937966887323,2.9347519146524004],\"xaxis\":\"x\",\"y\":[21.08840429026111,20.307134302616625,19.37542631014509,17.82122366459464,17.438499247710585,17.37559265815102,16.94980643246688,16.854290586478967,16.626175960042275,16.575961509529265,15.622516034203453,15.6147349693316,15.600155153120493,15.515675410871207,14.055775588836136,13.70417081379788,13.286902679330263,12.553188907133283,12.461944398173145,12.185320839975628,12.14451258372228,11.058420836042874,10.982874794581186,10.882734183351733,10.863642524513384,10.690949942127927,10.151822430401735,9.992308307617616,9.909050661902143,9.744263595239286,8.564505603470074,8.501377844107813,8.123374629100438,8.004014673002185,7.700984168210986,7.679082789667428,7.5425106360839935,7.151558766296766,7.0539486001522835,7.040471004004792,6.517577814602772,6.489647550374977,6.070794722907504,5.849322641694266,5.520828279338227,5.4999097711702305,5.313680063311917,4.910425034549337,4.710592176447361,4.656722511635443,4.45556739855547,4.210651828894622,4.149366886466554,4.123894412996497,4.107386612757312,4.10664674212701,3.9095307541563704,3.805126052431375,3.5196893960070836,3.422419295399977,3.414429531825188,3.3398385386415352,3.219439940267569,3.13719256303587,2.974644563697397,2.8079708140894395,2.7490654091486983,2.707263575912086,2.728798414967641,2.733717650937697,2.752928426609059,2.767206709554932,2.7908671853724463,2.801946874402419,2.8999375680039687,3.011927099666436,3.0167483371366375,3.1496102993695927,3.2722497649669453,3.323568096328623,3.5569457575975,3.7808769573232226,3.993449952895549,4.014755161016417,4.081029197758624,4.092526453914448,4.13741705634844,4.306816303409699,4.427073297358323,4.439541405928559,4.445931852634166,5.029142036762886,5.390899286097956,5.6758445655437555,5.8508198724222975,5.980856703579609,6.004671227964049,6.378970697416146,6.660886640993476,6.998442774036115],\"yaxis\":\"y\",\"type\":\"scatter\"}],                        {\"template\":{\"data\":{\"histogram2dcontour\":[{\"type\":\"histogram2dcontour\",\"colorbar\":{\"outlinewidth\":0,\"ticks\":\"\"},\"colorscale\":[[0.0,\"#0d0887\"],[0.1111111111111111,\"#46039f\"],[0.2222222222222222,\"#7201a8\"],[0.3333333333333333,\"#9c179e\"],[0.4444444444444444,\"#bd3786\"],[0.5555555555555556,\"#d8576b\"],[0.6666666666666666,\"#ed7953\"],[0.7777777777777778,\"#fb9f3a\"],[0.8888888888888888,\"#fdca26\"],[1.0,\"#f0f921\"]]}],\"choropleth\":[{\"type\":\"choropleth\",\"colorbar\":{\"outlinewidth\":0,\"ticks\":\"\"}}],\"histogram2d\":[{\"type\":\"histogram2d\",\"colorbar\":{\"outlinewidth\":0,\"ticks\":\"\"},\"colorscale\":[[0.0,\"#0d0887\"],[0.1111111111111111,\"#46039f\"],[0.2222222222222222,\"#7201a8\"],[0.3333333333333333,\"#9c179e\"],[0.4444444444444444,\"#bd3786\"],[0.5555555555555556,\"#d8576b\"],[0.6666666666666666,\"#ed7953\"],[0.7777777777777778,\"#fb9f3a\"],[0.8888888888888888,\"#fdca26\"],[1.0,\"#f0f921\"]]}],\"heatmap\":[{\"type\":\"heatmap\",\"colorbar\":{\"outlinewidth\":0,\"ticks\":\"\"},\"colorscale\":[[0.0,\"#0d0887\"],[0.1111111111111111,\"#46039f\"],[0.2222222222222222,\"#7201a8\"],[0.3333333333333333,\"#9c179e\"],[0.4444444444444444,\"#bd3786\"],[0.5555555555555556,\"#d8576b\"],[0.6666666666666666,\"#ed7953\"],[0.7777777777777778,\"#fb9f3a\"],[0.8888888888888888,\"#fdca26\"],[1.0,\"#f0f921\"]]}],\"heatmapgl\":[{\"type\":\"heatmapgl\",\"colorbar\":{\"outlinewidth\":0,\"ticks\":\"\"},\"colorscale\":[[0.0,\"#0d0887\"],[0.1111111111111111,\"#46039f\"],[0.2222222222222222,\"#7201a8\"],[0.3333333333333333,\"#9c179e\"],[0.4444444444444444,\"#bd3786\"],[0.5555555555555556,\"#d8576b\"],[0.6666666666666666,\"#ed7953\"],[0.7777777777777778,\"#fb9f3a\"],[0.8888888888888888,\"#fdca26\"],[1.0,\"#f0f921\"]]}],\"contourcarpet\":[{\"type\":\"contourcarpet\",\"colorbar\":{\"outlinewidth\":0,\"ticks\":\"\"}}],\"contour\":[{\"type\":\"contour\",\"colorbar\":{\"outlinewidth\":0,\"ticks\":\"\"},\"colorscale\":[[0.0,\"#0d0887\"],[0.1111111111111111,\"#46039f\"],[0.2222222222222222,\"#7201a8\"],[0.3333333333333333,\"#9c179e\"],[0.4444444444444444,\"#bd3786\"],[0.5555555555555556,\"#d8576b\"],[0.6666666666666666,\"#ed7953\"],[0.7777777777777778,\"#fb9f3a\"],[0.8888888888888888,\"#fdca26\"],[1.0,\"#f0f921\"]]}],\"surface\":[{\"type\":\"surface\",\"colorbar\":{\"outlinewidth\":0,\"ticks\":\"\"},\"colorscale\":[[0.0,\"#0d0887\"],[0.1111111111111111,\"#46039f\"],[0.2222222222222222,\"#7201a8\"],[0.3333333333333333,\"#9c179e\"],[0.4444444444444444,\"#bd3786\"],[0.5555555555555556,\"#d8576b\"],[0.6666666666666666,\"#ed7953\"],[0.7777777777777778,\"#fb9f3a\"],[0.8888888888888888,\"#fdca26\"],[1.0,\"#f0f921\"]]}],\"mesh3d\":[{\"type\":\"mesh3d\",\"colorbar\":{\"outlinewidth\":0,\"ticks\":\"\"}}],\"scatter\":[{\"fillpattern\":{\"fillmode\":\"overlay\",\"size\":10,\"solidity\":0.2},\"type\":\"scatter\"}],\"parcoords\":[{\"type\":\"parcoords\",\"line\":{\"colorbar\":{\"outlinewidth\":0,\"ticks\":\"\"}}}],\"scatterpolargl\":[{\"type\":\"scatterpolargl\",\"marker\":{\"colorbar\":{\"outlinewidth\":0,\"ticks\":\"\"}}}],\"bar\":[{\"error_x\":{\"color\":\"#2a3f5f\"},\"error_y\":{\"color\":\"#2a3f5f\"},\"marker\":{\"line\":{\"color\":\"#E5ECF6\",\"width\":0.5},\"pattern\":{\"fillmode\":\"overlay\",\"size\":10,\"solidity\":0.2}},\"type\":\"bar\"}],\"scattergeo\":[{\"type\":\"scattergeo\",\"marker\":{\"colorbar\":{\"outlinewidth\":0,\"ticks\":\"\"}}}],\"scatterpolar\":[{\"type\":\"scatterpolar\",\"marker\":{\"colorbar\":{\"outlinewidth\":0,\"ticks\":\"\"}}}],\"histogram\":[{\"marker\":{\"pattern\":{\"fillmode\":\"overlay\",\"size\":10,\"solidity\":0.2}},\"type\":\"histogram\"}],\"scattergl\":[{\"type\":\"scattergl\",\"marker\":{\"colorbar\":{\"outlinewidth\":0,\"ticks\":\"\"}}}],\"scatter3d\":[{\"type\":\"scatter3d\",\"line\":{\"colorbar\":{\"outlinewidth\":0,\"ticks\":\"\"}},\"marker\":{\"colorbar\":{\"outlinewidth\":0,\"ticks\":\"\"}}}],\"scattermapbox\":[{\"type\":\"scattermapbox\",\"marker\":{\"colorbar\":{\"outlinewidth\":0,\"ticks\":\"\"}}}],\"scatterternary\":[{\"type\":\"scatterternary\",\"marker\":{\"colorbar\":{\"outlinewidth\":0,\"ticks\":\"\"}}}],\"scattercarpet\":[{\"type\":\"scattercarpet\",\"marker\":{\"colorbar\":{\"outlinewidth\":0,\"ticks\":\"\"}}}],\"carpet\":[{\"aaxis\":{\"endlinecolor\":\"#2a3f5f\",\"gridcolor\":\"white\",\"linecolor\":\"white\",\"minorgridcolor\":\"white\",\"startlinecolor\":\"#2a3f5f\"},\"baxis\":{\"endlinecolor\":\"#2a3f5f\",\"gridcolor\":\"white\",\"linecolor\":\"white\",\"minorgridcolor\":\"white\",\"startlinecolor\":\"#2a3f5f\"},\"type\":\"carpet\"}],\"table\":[{\"cells\":{\"fill\":{\"color\":\"#EBF0F8\"},\"line\":{\"color\":\"white\"}},\"header\":{\"fill\":{\"color\":\"#C8D4E3\"},\"line\":{\"color\":\"white\"}},\"type\":\"table\"}],\"barpolar\":[{\"marker\":{\"line\":{\"color\":\"#E5ECF6\",\"width\":0.5},\"pattern\":{\"fillmode\":\"overlay\",\"size\":10,\"solidity\":0.2}},\"type\":\"barpolar\"}],\"pie\":[{\"automargin\":true,\"type\":\"pie\"}]},\"layout\":{\"autotypenumbers\":\"strict\",\"colorway\":[\"#636efa\",\"#EF553B\",\"#00cc96\",\"#ab63fa\",\"#FFA15A\",\"#19d3f3\",\"#FF6692\",\"#B6E880\",\"#FF97FF\",\"#FECB52\"],\"font\":{\"color\":\"#2a3f5f\"},\"hovermode\":\"closest\",\"hoverlabel\":{\"align\":\"left\"},\"paper_bgcolor\":\"white\",\"plot_bgcolor\":\"#E5ECF6\",\"polar\":{\"bgcolor\":\"#E5ECF6\",\"angularaxis\":{\"gridcolor\":\"white\",\"linecolor\":\"white\",\"ticks\":\"\"},\"radialaxis\":{\"gridcolor\":\"white\",\"linecolor\":\"white\",\"ticks\":\"\"}},\"ternary\":{\"bgcolor\":\"#E5ECF6\",\"aaxis\":{\"gridcolor\":\"white\",\"linecolor\":\"white\",\"ticks\":\"\"},\"baxis\":{\"gridcolor\":\"white\",\"linecolor\":\"white\",\"ticks\":\"\"},\"caxis\":{\"gridcolor\":\"white\",\"linecolor\":\"white\",\"ticks\":\"\"}},\"coloraxis\":{\"colorbar\":{\"outlinewidth\":0,\"ticks\":\"\"}},\"colorscale\":{\"sequential\":[[0.0,\"#0d0887\"],[0.1111111111111111,\"#46039f\"],[0.2222222222222222,\"#7201a8\"],[0.3333333333333333,\"#9c179e\"],[0.4444444444444444,\"#bd3786\"],[0.5555555555555556,\"#d8576b\"],[0.6666666666666666,\"#ed7953\"],[0.7777777777777778,\"#fb9f3a\"],[0.8888888888888888,\"#fdca26\"],[1.0,\"#f0f921\"]],\"sequentialminus\":[[0.0,\"#0d0887\"],[0.1111111111111111,\"#46039f\"],[0.2222222222222222,\"#7201a8\"],[0.3333333333333333,\"#9c179e\"],[0.4444444444444444,\"#bd3786\"],[0.5555555555555556,\"#d8576b\"],[0.6666666666666666,\"#ed7953\"],[0.7777777777777778,\"#fb9f3a\"],[0.8888888888888888,\"#fdca26\"],[1.0,\"#f0f921\"]],\"diverging\":[[0,\"#8e0152\"],[0.1,\"#c51b7d\"],[0.2,\"#de77ae\"],[0.3,\"#f1b6da\"],[0.4,\"#fde0ef\"],[0.5,\"#f7f7f7\"],[0.6,\"#e6f5d0\"],[0.7,\"#b8e186\"],[0.8,\"#7fbc41\"],[0.9,\"#4d9221\"],[1,\"#276419\"]]},\"xaxis\":{\"gridcolor\":\"white\",\"linecolor\":\"white\",\"ticks\":\"\",\"title\":{\"standoff\":15},\"zerolinecolor\":\"white\",\"automargin\":true,\"zerolinewidth\":2},\"yaxis\":{\"gridcolor\":\"white\",\"linecolor\":\"white\",\"ticks\":\"\",\"title\":{\"standoff\":15},\"zerolinecolor\":\"white\",\"automargin\":true,\"zerolinewidth\":2},\"scene\":{\"xaxis\":{\"backgroundcolor\":\"#E5ECF6\",\"gridcolor\":\"white\",\"linecolor\":\"white\",\"showbackground\":true,\"ticks\":\"\",\"zerolinecolor\":\"white\",\"gridwidth\":2},\"yaxis\":{\"backgroundcolor\":\"#E5ECF6\",\"gridcolor\":\"white\",\"linecolor\":\"white\",\"showbackground\":true,\"ticks\":\"\",\"zerolinecolor\":\"white\",\"gridwidth\":2},\"zaxis\":{\"backgroundcolor\":\"#E5ECF6\",\"gridcolor\":\"white\",\"linecolor\":\"white\",\"showbackground\":true,\"ticks\":\"\",\"zerolinecolor\":\"white\",\"gridwidth\":2}},\"shapedefaults\":{\"line\":{\"color\":\"#2a3f5f\"}},\"annotationdefaults\":{\"arrowcolor\":\"#2a3f5f\",\"arrowhead\":0,\"arrowwidth\":1},\"geo\":{\"bgcolor\":\"white\",\"landcolor\":\"#E5ECF6\",\"subunitcolor\":\"white\",\"showland\":true,\"showlakes\":true,\"lakecolor\":\"white\"},\"title\":{\"x\":0.05},\"mapbox\":{\"style\":\"light\"}}},\"xaxis\":{\"anchor\":\"y\",\"domain\":[0.0,1.0],\"title\":{\"text\":\"Scam Value\"}},\"yaxis\":{\"anchor\":\"x\",\"domain\":[0.0,1.0],\"title\":{\"text\":\"To_Multiple Value\"}},\"legend\":{\"tracegroupgap\":0},\"title\":{\"text\":\"Relationship Between Scam and To_Multiple\"},\"plot_bgcolor\":\"mistyrose\",\"paper_bgcolor\":\"mistyrose\"},                        {\"responsive\": true}                    ).then(function(){\n",
       "                            \n",
       "var gd = document.getElementById('4ff9ae82-b09f-4116-a50a-8ba1fa69bd6b');\n",
       "var x = new MutationObserver(function (mutations, observer) {{\n",
       "        var display = window.getComputedStyle(gd).display;\n",
       "        if (!display || display === 'none') {{\n",
       "            console.log([gd, 'removed!']);\n",
       "            Plotly.purge(gd);\n",
       "            observer.disconnect();\n",
       "        }}\n",
       "}});\n",
       "\n",
       "// Listen for the removal of the full notebook cells\n",
       "var notebookContainer = gd.closest('#notebook-container');\n",
       "if (notebookContainer) {{\n",
       "    x.observe(notebookContainer, {childList: true});\n",
       "}}\n",
       "\n",
       "// Listen for the clearing of the current output cell\n",
       "var outputEl = gd.closest('.output');\n",
       "if (outputEl) {{\n",
       "    x.observe(outputEl, {childList: true});\n",
       "}}\n",
       "\n",
       "                        })                };                });            </script>        </div>"
      ]
     },
     "metadata": {},
     "output_type": "display_data"
    }
   ],
   "source": [
    "a = 1.2\n",
    "b = -2.5\n",
    "c = 4.0\n",
    "num_points = 100\n",
    "noise_level = 2.0\n",
    "\n",
    "scam = np.random.uniform(-3, 3, num_points)\n",
    "epsilon = np.random.normal(0, noise_level, num_points)\n",
    "to_multiple = a * scam**2 + b * scam + c + epsilon\n",
    "yn = a * scam**2 + b * scam + c\n",
    "\n",
    "DF = pd.DataFrame()\n",
    "DF['scam'] = scam\n",
    "DF['to_multiple'] = to_multiple\n",
    "DF['yn'] = yn\n",
    "\n",
    "DF = DF.sort_values('scam')\n",
    "\n",
    "fig = px.scatter(\n",
    "    DF, \n",
    "    x='scam', \n",
    "    y='to_multiple', \n",
    "    title='Relationship Between Scam and To_Multiple',\n",
    "    labels={'scam': 'Scam Value', 'to_multiple': 'To_Multiple Value'}\n",
    ")\n",
    "\n",
    "fig.update_traces(marker=dict(color='lightpink'))\n",
    "\n",
    "fig.add_trace(\n",
    "    px.line(DF, x='scam', y='yn', color_discrete_sequence=['deeppink']).data[0]\n",
    ")\n",
    "\n",
    "fig.update_layout(\n",
    "    plot_bgcolor='mistyrose',  \n",
    "    paper_bgcolor='mistyrose'  \n",
    ")\n",
    "\n",
    "fig.show()\n"
   ]
  },
  {
   "cell_type": "markdown",
   "id": "35ca7a48-6f9b-4961-9803-1ac891661cb6",
   "metadata": {},
   "source": [
    "The variable I am using is scam this can be good because it identifies weird spams that are scams"
   ]
  },
  {
   "cell_type": "code",
   "execution_count": 97,
   "id": "236e63ed-7f96-4c93-a5cd-dfb9f45ecb34",
   "metadata": {},
   "outputs": [
    {
     "data": {
      "application/vnd.plotly.v1+json": {
       "config": {
        "plotlyServerURL": "https://plot.ly"
       },
       "data": [
        {
         "hovertemplate": "Scam Value=%{x}<br>To_Multiple Value=%{y}<extra></extra>",
         "legendgroup": "",
         "marker": {
          "color": "lightpink",
          "symbol": "circle"
         },
         "mode": "markers",
         "name": "",
         "orientation": "v",
         "showlegend": false,
         "type": "scatter",
         "x": [
          -2.891513446765887,
          -2.82420334137949,
          -2.7746026227361167,
          -2.683741260879366,
          -2.6062434709330944,
          -2.5111566137223487,
          -2.5004540516962073,
          -2.4831853707057823,
          -2.4309048404810634,
          -2.415739625351975,
          -2.277109065369192,
          -2.1432861799926917,
          -2.0603231106441005,
          -1.999275988897955,
          -1.9905805253490487,
          -1.9561356028691785,
          -1.8603915380338798,
          -1.8399645983276869,
          -1.830343386179041,
          -1.754931027690726,
          -1.7072225563456198,
          -1.541252817463988,
          -1.4660026600091134,
          -1.38336332217807,
          -1.3348631705856446,
          -1.1816054329493901,
          -1.1309262059160838,
          -1.0816749039608746,
          -0.9751377257221687,
          -0.8999587891609275,
          -0.8988808540082336,
          -0.8434570390150977,
          -0.8293901284646048,
          -0.812601434880813,
          -0.7959569083363203,
          -0.7428571873822669,
          -0.7058200136302326,
          -0.6633919195339608,
          -0.5980207895354503,
          -0.5478026263743963,
          -0.40730257918842394,
          -0.34407091043740134,
          -0.3412359280625128,
          -0.28670939938969164,
          -0.23572697191034742,
          -0.21714105195374245,
          -0.19990106501481497,
          -0.08839954594427057,
          0.005259635337594659,
          0.05223590529760003,
          0.05705323934521145,
          0.1455283232264204,
          0.15567946140875666,
          0.22856798472666773,
          0.2647560117786054,
          0.274498078676614,
          0.2964709923657871,
          0.2992615269372627,
          0.37593253741645416,
          0.4128764186032372,
          0.4631200573398533,
          0.5451976043706868,
          0.6402972118200232,
          0.7086177933701814,
          0.717495556962521,
          0.8293464902436689,
          0.8863203265236717,
          0.9163687426633444,
          0.9809420707722607,
          1.0243639526556052,
          1.281644197580829,
          1.3030886822805456,
          1.3206680010896745,
          1.3412074399865315,
          1.3473474549529092,
          1.4430571273099115,
          1.4685043897795333,
          1.541561070762083,
          1.5731250671644927,
          1.6674564404912209,
          1.6975416855454348,
          1.784523323649986,
          1.8527966670069045,
          1.961207083040172,
          2.0177478786147596,
          2.0552293763918215,
          2.062083177989866,
          2.109223031387554,
          2.2063389168305543,
          2.208588959202377,
          2.287504090091339,
          2.3638383447750275,
          2.5187554306766176,
          2.570235311884751,
          2.600478762140729,
          2.70446827927603,
          2.7102144383432227,
          2.7995446213399005,
          2.8485604880171715,
          2.8885285495321513
         ],
         "xaxis": "x",
         "y": [
          21.34736943655689,
          17.164918773527237,
          19.620504013195074,
          20.606223235126322,
          20.469607779355858,
          17.927230717959418,
          19.633821322998934,
          16.49652534337911,
          19.85705652934619,
          18.02443867526549,
          15.494399507119136,
          16.53390134710208,
          10.893141794042268,
          13.141389831085188,
          12.07091086906675,
          15.05674381464083,
          13.430470391978162,
          11.19157732275413,
          10.848457516560451,
          11.042189092784547,
          8.577659559491778,
          10.49834712333693,
          7.017171503702367,
          12.931429506932119,
          10.77793963572464,
          10.60675222011713,
          5.821349472246699,
          7.4567510668318135,
          7.83799589366944,
          6.8443877025427495,
          3.245459571056551,
          7.9461774058374575,
          3.6473777072445843,
          8.657025258855064,
          5.364418903810753,
          6.525766864997253,
          6.815791676725891,
          5.743316632376836,
          6.912567040060139,
          8.138800985627995,
          3.8889222292948475,
          1.198099728691691,
          5.60569783898744,
          5.673772473862304,
          4.915661908695159,
          4.643164397981095,
          4.912781379255258,
          1.7305976180503735,
          4.014847740111325,
          2.873243545679127,
          4.034133366355794,
          2.116763401346085,
          3.5309663812024024,
          1.072842965587383,
          6.008743419341284,
          2.55596620637685,
          2.425804902937446,
          4.692727258179849,
          1.5457714241617115,
          3.1429964491545226,
          6.584328251068008,
          3.053428348962777,
          2.5448659150149884,
          3.274009143337202,
          2.6987893194810026,
          3.7689836077409655,
          6.8358525297988155,
          2.202370061165255,
          1.753979524366216,
          4.477358389699294,
          5.783048272658609,
          3.684054451267044,
          3.3609773174457223,
          2.9763634967938586,
          2.0309599706931176,
          2.268558054715747,
          0.3638733556602025,
          5.4533968318644535,
          3.3024299345724453,
          3.4537512961255077,
          2.33625517044573,
          3.4743555631583365,
          2.613020025713241,
          5.637942629252496,
          4.219604712396806,
          6.025391391427247,
          8.061960224551896,
          -0.8775912397345635,
          0.722664414012689,
          5.813056562595697,
          4.819373599643575,
          2.8334747744374504,
          3.655465062815585,
          5.966716427278021,
          8.70118636744698,
          5.962597500068263,
          6.610552600820412,
          2.5935339068966363,
          2.963383305794802,
          4.26689719749173
         ],
         "yaxis": "y"
        },
        {
         "hovertemplate": "scam=%{x}<br>predicted=%{y}<extra></extra>",
         "legendgroup": "",
         "line": {
          "color": "deeppink",
          "dash": "solid"
         },
         "marker": {
          "symbol": "circle"
         },
         "mode": "lines",
         "name": "",
         "orientation": "v",
         "showlegend": false,
         "type": "scatter",
         "x": [
          -2.891513446765887,
          -2.82420334137949,
          -2.7746026227361167,
          -2.683741260879366,
          -2.6062434709330944,
          -2.5111566137223487,
          -2.5004540516962073,
          -2.4831853707057823,
          -2.4309048404810634,
          -2.415739625351975,
          -2.277109065369192,
          -2.1432861799926917,
          -2.0603231106441005,
          -1.999275988897955,
          -1.9905805253490487,
          -1.9561356028691785,
          -1.8603915380338798,
          -1.8399645983276869,
          -1.830343386179041,
          -1.754931027690726,
          -1.7072225563456198,
          -1.541252817463988,
          -1.4660026600091134,
          -1.38336332217807,
          -1.3348631705856446,
          -1.1816054329493901,
          -1.1309262059160838,
          -1.0816749039608746,
          -0.9751377257221687,
          -0.8999587891609275,
          -0.8988808540082336,
          -0.8434570390150977,
          -0.8293901284646048,
          -0.812601434880813,
          -0.7959569083363203,
          -0.7428571873822669,
          -0.7058200136302326,
          -0.6633919195339608,
          -0.5980207895354503,
          -0.5478026263743963,
          -0.40730257918842394,
          -0.34407091043740134,
          -0.3412359280625128,
          -0.28670939938969164,
          -0.23572697191034742,
          -0.21714105195374245,
          -0.19990106501481497,
          -0.08839954594427057,
          0.005259635337594659,
          0.05223590529760003,
          0.05705323934521145,
          0.1455283232264204,
          0.15567946140875666,
          0.22856798472666773,
          0.2647560117786054,
          0.274498078676614,
          0.2964709923657871,
          0.2992615269372627,
          0.37593253741645416,
          0.4128764186032372,
          0.4631200573398533,
          0.5451976043706868,
          0.6402972118200232,
          0.7086177933701814,
          0.717495556962521,
          0.8293464902436689,
          0.8863203265236717,
          0.9163687426633444,
          0.9809420707722607,
          1.0243639526556052,
          1.281644197580829,
          1.3030886822805456,
          1.3206680010896745,
          1.3412074399865315,
          1.3473474549529092,
          1.4430571273099115,
          1.4685043897795333,
          1.541561070762083,
          1.5731250671644927,
          1.6674564404912209,
          1.6975416855454348,
          1.784523323649986,
          1.8527966670069045,
          1.961207083040172,
          2.0177478786147596,
          2.0552293763918215,
          2.062083177989866,
          2.109223031387554,
          2.2063389168305543,
          2.208588959202377,
          2.287504090091339,
          2.3638383447750275,
          2.5187554306766176,
          2.570235311884751,
          2.600478762140729,
          2.70446827927603,
          2.7102144383432227,
          2.7995446213399005,
          2.8485604880171715,
          2.8885285495321513
         ],
         "xaxis": "x",
         "y": [
          14.193293467418908,
          14.02719114119099,
          13.9047905788691,
          13.680570404468769,
          13.489327750580435,
          13.254680247271097,
          13.228269347467336,
          13.185655120867462,
          13.056641540560252,
          13.01921807351577,
          12.677117012059515,
          12.34687993345199,
          12.142150513839557,
          11.991503462058194,
          11.970045514327877,
          11.88504517570409,
          11.648775869626409,
          11.598367952665967,
          11.574625518898433,
          11.388529120752336,
          11.270798090237541,
          10.8612316580737,
          10.67553552625933,
          10.471604984584008,
          10.351920310853925,
          9.97372350685733,
          9.848661490487851,
          9.72712318984857,
          9.464219528747135,
          9.27869914997966,
          9.27603911051965,
          9.13926879132407,
          9.104555629728738,
          9.063125876460827,
          9.022051886721373,
          8.891016775100466,
          8.799619492600243,
          8.6949189415262,
          8.533601458830734,
          8.409677217855918,
          8.062962790077913,
          7.906924893382829,
          7.899928957711938,
          7.765372887688029,
          7.639562658266275,
          7.593697857993628,
          7.551154440207307,
          7.276000188267797,
          7.044875785858766,
          6.928951621528987,
          6.917063801907672,
          6.698732287471375,
          6.6736821459470415,
          6.4938138600645265,
          6.404512031751829,
          6.380471362602108,
          6.326248418560864,
          6.31936216751311,
          6.1301597717995495,
          6.038992708996933,
          5.915005601498011,
          5.712461400822049,
          5.477782433525576,
          5.309186537566413,
          5.28727872482531,
          5.011262217317112,
          4.870666883438027,
          4.7965158805297365,
          4.637167147533441,
          4.5300142089276605,
          3.895119241385327,
          3.8422003108185994,
          3.7988195178316286,
          3.7481339846475796,
          3.7329821621517607,
          3.4967977269952746,
          3.434001071603457,
          3.253717820106058,
          3.175826793232858,
          2.943043610738985,
          2.868801724473096,
          2.6541556123426515,
          2.4856762869004845,
          2.218150004077266,
          2.078623292333118,
          1.986129543652484,
          1.9692162973812959,
          1.8528884553366254,
          1.6132338835132076,
          1.6076814145351,
          1.4129411635729303,
          1.2245697860353575,
          0.8422781792552518,
          0.7152403745523666,
          0.6406080825385825,
          0.3839913293729875,
          0.36981143197931665,
          0.14936977447580269,
          0.028412461596339256,
          -0.07021742398099384
         ],
         "yaxis": "y"
        }
       ],
       "layout": {
        "autosize": true,
        "legend": {
         "tracegroupgap": 0
        },
        "paper_bgcolor": "mistyrose",
        "plot_bgcolor": "mistyrose",
        "template": {
         "data": {
          "bar": [
           {
            "error_x": {
             "color": "#2a3f5f"
            },
            "error_y": {
             "color": "#2a3f5f"
            },
            "marker": {
             "line": {
              "color": "#E5ECF6",
              "width": 0.5
             },
             "pattern": {
              "fillmode": "overlay",
              "size": 10,
              "solidity": 0.2
             }
            },
            "type": "bar"
           }
          ],
          "barpolar": [
           {
            "marker": {
             "line": {
              "color": "#E5ECF6",
              "width": 0.5
             },
             "pattern": {
              "fillmode": "overlay",
              "size": 10,
              "solidity": 0.2
             }
            },
            "type": "barpolar"
           }
          ],
          "carpet": [
           {
            "aaxis": {
             "endlinecolor": "#2a3f5f",
             "gridcolor": "white",
             "linecolor": "white",
             "minorgridcolor": "white",
             "startlinecolor": "#2a3f5f"
            },
            "baxis": {
             "endlinecolor": "#2a3f5f",
             "gridcolor": "white",
             "linecolor": "white",
             "minorgridcolor": "white",
             "startlinecolor": "#2a3f5f"
            },
            "type": "carpet"
           }
          ],
          "choropleth": [
           {
            "colorbar": {
             "outlinewidth": 0,
             "ticks": ""
            },
            "type": "choropleth"
           }
          ],
          "contour": [
           {
            "colorbar": {
             "outlinewidth": 0,
             "ticks": ""
            },
            "colorscale": [
             [
              0,
              "#0d0887"
             ],
             [
              0.1111111111111111,
              "#46039f"
             ],
             [
              0.2222222222222222,
              "#7201a8"
             ],
             [
              0.3333333333333333,
              "#9c179e"
             ],
             [
              0.4444444444444444,
              "#bd3786"
             ],
             [
              0.5555555555555556,
              "#d8576b"
             ],
             [
              0.6666666666666666,
              "#ed7953"
             ],
             [
              0.7777777777777778,
              "#fb9f3a"
             ],
             [
              0.8888888888888888,
              "#fdca26"
             ],
             [
              1,
              "#f0f921"
             ]
            ],
            "type": "contour"
           }
          ],
          "contourcarpet": [
           {
            "colorbar": {
             "outlinewidth": 0,
             "ticks": ""
            },
            "type": "contourcarpet"
           }
          ],
          "heatmap": [
           {
            "colorbar": {
             "outlinewidth": 0,
             "ticks": ""
            },
            "colorscale": [
             [
              0,
              "#0d0887"
             ],
             [
              0.1111111111111111,
              "#46039f"
             ],
             [
              0.2222222222222222,
              "#7201a8"
             ],
             [
              0.3333333333333333,
              "#9c179e"
             ],
             [
              0.4444444444444444,
              "#bd3786"
             ],
             [
              0.5555555555555556,
              "#d8576b"
             ],
             [
              0.6666666666666666,
              "#ed7953"
             ],
             [
              0.7777777777777778,
              "#fb9f3a"
             ],
             [
              0.8888888888888888,
              "#fdca26"
             ],
             [
              1,
              "#f0f921"
             ]
            ],
            "type": "heatmap"
           }
          ],
          "heatmapgl": [
           {
            "colorbar": {
             "outlinewidth": 0,
             "ticks": ""
            },
            "colorscale": [
             [
              0,
              "#0d0887"
             ],
             [
              0.1111111111111111,
              "#46039f"
             ],
             [
              0.2222222222222222,
              "#7201a8"
             ],
             [
              0.3333333333333333,
              "#9c179e"
             ],
             [
              0.4444444444444444,
              "#bd3786"
             ],
             [
              0.5555555555555556,
              "#d8576b"
             ],
             [
              0.6666666666666666,
              "#ed7953"
             ],
             [
              0.7777777777777778,
              "#fb9f3a"
             ],
             [
              0.8888888888888888,
              "#fdca26"
             ],
             [
              1,
              "#f0f921"
             ]
            ],
            "type": "heatmapgl"
           }
          ],
          "histogram": [
           {
            "marker": {
             "pattern": {
              "fillmode": "overlay",
              "size": 10,
              "solidity": 0.2
             }
            },
            "type": "histogram"
           }
          ],
          "histogram2d": [
           {
            "colorbar": {
             "outlinewidth": 0,
             "ticks": ""
            },
            "colorscale": [
             [
              0,
              "#0d0887"
             ],
             [
              0.1111111111111111,
              "#46039f"
             ],
             [
              0.2222222222222222,
              "#7201a8"
             ],
             [
              0.3333333333333333,
              "#9c179e"
             ],
             [
              0.4444444444444444,
              "#bd3786"
             ],
             [
              0.5555555555555556,
              "#d8576b"
             ],
             [
              0.6666666666666666,
              "#ed7953"
             ],
             [
              0.7777777777777778,
              "#fb9f3a"
             ],
             [
              0.8888888888888888,
              "#fdca26"
             ],
             [
              1,
              "#f0f921"
             ]
            ],
            "type": "histogram2d"
           }
          ],
          "histogram2dcontour": [
           {
            "colorbar": {
             "outlinewidth": 0,
             "ticks": ""
            },
            "colorscale": [
             [
              0,
              "#0d0887"
             ],
             [
              0.1111111111111111,
              "#46039f"
             ],
             [
              0.2222222222222222,
              "#7201a8"
             ],
             [
              0.3333333333333333,
              "#9c179e"
             ],
             [
              0.4444444444444444,
              "#bd3786"
             ],
             [
              0.5555555555555556,
              "#d8576b"
             ],
             [
              0.6666666666666666,
              "#ed7953"
             ],
             [
              0.7777777777777778,
              "#fb9f3a"
             ],
             [
              0.8888888888888888,
              "#fdca26"
             ],
             [
              1,
              "#f0f921"
             ]
            ],
            "type": "histogram2dcontour"
           }
          ],
          "mesh3d": [
           {
            "colorbar": {
             "outlinewidth": 0,
             "ticks": ""
            },
            "type": "mesh3d"
           }
          ],
          "parcoords": [
           {
            "line": {
             "colorbar": {
              "outlinewidth": 0,
              "ticks": ""
             }
            },
            "type": "parcoords"
           }
          ],
          "pie": [
           {
            "automargin": true,
            "type": "pie"
           }
          ],
          "scatter": [
           {
            "fillpattern": {
             "fillmode": "overlay",
             "size": 10,
             "solidity": 0.2
            },
            "type": "scatter"
           }
          ],
          "scatter3d": [
           {
            "line": {
             "colorbar": {
              "outlinewidth": 0,
              "ticks": ""
             }
            },
            "marker": {
             "colorbar": {
              "outlinewidth": 0,
              "ticks": ""
             }
            },
            "type": "scatter3d"
           }
          ],
          "scattercarpet": [
           {
            "marker": {
             "colorbar": {
              "outlinewidth": 0,
              "ticks": ""
             }
            },
            "type": "scattercarpet"
           }
          ],
          "scattergeo": [
           {
            "marker": {
             "colorbar": {
              "outlinewidth": 0,
              "ticks": ""
             }
            },
            "type": "scattergeo"
           }
          ],
          "scattergl": [
           {
            "marker": {
             "colorbar": {
              "outlinewidth": 0,
              "ticks": ""
             }
            },
            "type": "scattergl"
           }
          ],
          "scattermapbox": [
           {
            "marker": {
             "colorbar": {
              "outlinewidth": 0,
              "ticks": ""
             }
            },
            "type": "scattermapbox"
           }
          ],
          "scatterpolar": [
           {
            "marker": {
             "colorbar": {
              "outlinewidth": 0,
              "ticks": ""
             }
            },
            "type": "scatterpolar"
           }
          ],
          "scatterpolargl": [
           {
            "marker": {
             "colorbar": {
              "outlinewidth": 0,
              "ticks": ""
             }
            },
            "type": "scatterpolargl"
           }
          ],
          "scatterternary": [
           {
            "marker": {
             "colorbar": {
              "outlinewidth": 0,
              "ticks": ""
             }
            },
            "type": "scatterternary"
           }
          ],
          "surface": [
           {
            "colorbar": {
             "outlinewidth": 0,
             "ticks": ""
            },
            "colorscale": [
             [
              0,
              "#0d0887"
             ],
             [
              0.1111111111111111,
              "#46039f"
             ],
             [
              0.2222222222222222,
              "#7201a8"
             ],
             [
              0.3333333333333333,
              "#9c179e"
             ],
             [
              0.4444444444444444,
              "#bd3786"
             ],
             [
              0.5555555555555556,
              "#d8576b"
             ],
             [
              0.6666666666666666,
              "#ed7953"
             ],
             [
              0.7777777777777778,
              "#fb9f3a"
             ],
             [
              0.8888888888888888,
              "#fdca26"
             ],
             [
              1,
              "#f0f921"
             ]
            ],
            "type": "surface"
           }
          ],
          "table": [
           {
            "cells": {
             "fill": {
              "color": "#EBF0F8"
             },
             "line": {
              "color": "white"
             }
            },
            "header": {
             "fill": {
              "color": "#C8D4E3"
             },
             "line": {
              "color": "white"
             }
            },
            "type": "table"
           }
          ]
         },
         "layout": {
          "annotationdefaults": {
           "arrowcolor": "#2a3f5f",
           "arrowhead": 0,
           "arrowwidth": 1
          },
          "autotypenumbers": "strict",
          "coloraxis": {
           "colorbar": {
            "outlinewidth": 0,
            "ticks": ""
           }
          },
          "colorscale": {
           "diverging": [
            [
             0,
             "#8e0152"
            ],
            [
             0.1,
             "#c51b7d"
            ],
            [
             0.2,
             "#de77ae"
            ],
            [
             0.3,
             "#f1b6da"
            ],
            [
             0.4,
             "#fde0ef"
            ],
            [
             0.5,
             "#f7f7f7"
            ],
            [
             0.6,
             "#e6f5d0"
            ],
            [
             0.7,
             "#b8e186"
            ],
            [
             0.8,
             "#7fbc41"
            ],
            [
             0.9,
             "#4d9221"
            ],
            [
             1,
             "#276419"
            ]
           ],
           "sequential": [
            [
             0,
             "#0d0887"
            ],
            [
             0.1111111111111111,
             "#46039f"
            ],
            [
             0.2222222222222222,
             "#7201a8"
            ],
            [
             0.3333333333333333,
             "#9c179e"
            ],
            [
             0.4444444444444444,
             "#bd3786"
            ],
            [
             0.5555555555555556,
             "#d8576b"
            ],
            [
             0.6666666666666666,
             "#ed7953"
            ],
            [
             0.7777777777777778,
             "#fb9f3a"
            ],
            [
             0.8888888888888888,
             "#fdca26"
            ],
            [
             1,
             "#f0f921"
            ]
           ],
           "sequentialminus": [
            [
             0,
             "#0d0887"
            ],
            [
             0.1111111111111111,
             "#46039f"
            ],
            [
             0.2222222222222222,
             "#7201a8"
            ],
            [
             0.3333333333333333,
             "#9c179e"
            ],
            [
             0.4444444444444444,
             "#bd3786"
            ],
            [
             0.5555555555555556,
             "#d8576b"
            ],
            [
             0.6666666666666666,
             "#ed7953"
            ],
            [
             0.7777777777777778,
             "#fb9f3a"
            ],
            [
             0.8888888888888888,
             "#fdca26"
            ],
            [
             1,
             "#f0f921"
            ]
           ]
          },
          "colorway": [
           "#636efa",
           "#EF553B",
           "#00cc96",
           "#ab63fa",
           "#FFA15A",
           "#19d3f3",
           "#FF6692",
           "#B6E880",
           "#FF97FF",
           "#FECB52"
          ],
          "font": {
           "color": "#2a3f5f"
          },
          "geo": {
           "bgcolor": "white",
           "lakecolor": "white",
           "landcolor": "#E5ECF6",
           "showlakes": true,
           "showland": true,
           "subunitcolor": "white"
          },
          "hoverlabel": {
           "align": "left"
          },
          "hovermode": "closest",
          "mapbox": {
           "style": "light"
          },
          "paper_bgcolor": "white",
          "plot_bgcolor": "#E5ECF6",
          "polar": {
           "angularaxis": {
            "gridcolor": "white",
            "linecolor": "white",
            "ticks": ""
           },
           "bgcolor": "#E5ECF6",
           "radialaxis": {
            "gridcolor": "white",
            "linecolor": "white",
            "ticks": ""
           }
          },
          "scene": {
           "xaxis": {
            "backgroundcolor": "#E5ECF6",
            "gridcolor": "white",
            "gridwidth": 2,
            "linecolor": "white",
            "showbackground": true,
            "ticks": "",
            "zerolinecolor": "white"
           },
           "yaxis": {
            "backgroundcolor": "#E5ECF6",
            "gridcolor": "white",
            "gridwidth": 2,
            "linecolor": "white",
            "showbackground": true,
            "ticks": "",
            "zerolinecolor": "white"
           },
           "zaxis": {
            "backgroundcolor": "#E5ECF6",
            "gridcolor": "white",
            "gridwidth": 2,
            "linecolor": "white",
            "showbackground": true,
            "ticks": "",
            "zerolinecolor": "white"
           }
          },
          "shapedefaults": {
           "line": {
            "color": "#2a3f5f"
           }
          },
          "ternary": {
           "aaxis": {
            "gridcolor": "white",
            "linecolor": "white",
            "ticks": ""
           },
           "baxis": {
            "gridcolor": "white",
            "linecolor": "white",
            "ticks": ""
           },
           "bgcolor": "#E5ECF6",
           "caxis": {
            "gridcolor": "white",
            "linecolor": "white",
            "ticks": ""
           }
          },
          "title": {
           "x": 0.05
          },
          "xaxis": {
           "automargin": true,
           "gridcolor": "white",
           "linecolor": "white",
           "ticks": "",
           "title": {
            "standoff": 15
           },
           "zerolinecolor": "white",
           "zerolinewidth": 2
          },
          "yaxis": {
           "automargin": true,
           "gridcolor": "white",
           "linecolor": "white",
           "ticks": "",
           "title": {
            "standoff": 15
           },
           "zerolinecolor": "white",
           "zerolinewidth": 2
          }
         }
        },
        "title": {
         "text": "Relationship Between Scam and To_Multiple"
        },
        "xaxis": {
         "anchor": "y",
         "autorange": true,
         "domain": [
          0,
          1
         ],
         "range": [
          -3.245393568988216,
          3.24240867175448
         ],
         "title": {
          "text": "Scam Value"
         },
         "type": "linear"
        },
        "yaxis": {
         "anchor": "x",
         "autorange": true,
         "domain": [
          0,
          1
         ],
         "range": [
          -2.711689936321722,
          23.181468133144048
         ],
         "title": {
          "text": "To_Multiple Value"
         },
         "type": "linear"
        }
       }
      },
      "image/png": "[encoded data removed]",
      "text/html": [
       "<div>                            <div id=\"3a52dfee-c066-47e4-8843-9c4eeccfbc2e\" class=\"plotly-graph-div\" style=\"height:525px; width:100%;\"></div>            <script type=\"text/javascript\">                require([\"plotly\"], function(Plotly) {                    window.PLOTLYENV=window.PLOTLYENV || {};                                    if (document.getElementById(\"3a52dfee-c066-47e4-8843-9c4eeccfbc2e\")) {                    Plotly.newPlot(                        \"3a52dfee-c066-47e4-8843-9c4eeccfbc2e\",                        [{\"hovertemplate\":\"Scam Value=%{x}\\u003cbr\\u003eTo_Multiple Value=%{y}\\u003cextra\\u003e\\u003c\\u002fextra\\u003e\",\"legendgroup\":\"\",\"marker\":{\"color\":\"lightpink\",\"symbol\":\"circle\"},\"mode\":\"markers\",\"name\":\"\",\"orientation\":\"v\",\"showlegend\":false,\"x\":[-2.891513446765887,-2.82420334137949,-2.7746026227361167,-2.683741260879366,-2.6062434709330944,-2.5111566137223487,-2.5004540516962073,-2.4831853707057823,-2.4309048404810634,-2.415739625351975,-2.277109065369192,-2.1432861799926917,-2.0603231106441005,-1.999275988897955,-1.9905805253490487,-1.9561356028691785,-1.8603915380338798,-1.8399645983276869,-1.830343386179041,-1.754931027690726,-1.7072225563456198,-1.541252817463988,-1.4660026600091134,-1.38336332217807,-1.3348631705856446,-1.1816054329493901,-1.1309262059160838,-1.0816749039608746,-0.9751377257221687,-0.8999587891609275,-0.8988808540082336,-0.8434570390150977,-0.8293901284646048,-0.812601434880813,-0.7959569083363203,-0.7428571873822669,-0.7058200136302326,-0.6633919195339608,-0.5980207895354503,-0.5478026263743963,-0.40730257918842394,-0.34407091043740134,-0.3412359280625128,-0.28670939938969164,-0.23572697191034742,-0.21714105195374245,-0.19990106501481497,-0.08839954594427057,0.005259635337594659,0.05223590529760003,0.05705323934521145,0.1455283232264204,0.15567946140875666,0.22856798472666773,0.2647560117786054,0.274498078676614,0.2964709923657871,0.2992615269372627,0.37593253741645416,0.4128764186032372,0.4631200573398533,0.5451976043706868,0.6402972118200232,0.7086177933701814,0.717495556962521,0.8293464902436689,0.8863203265236717,0.9163687426633444,0.9809420707722607,1.0243639526556052,1.281644197580829,1.3030886822805456,1.3206680010896745,1.3412074399865315,1.3473474549529092,1.4430571273099115,1.4685043897795333,1.541561070762083,1.5731250671644927,1.6674564404912209,1.6975416855454348,1.784523323649986,1.8527966670069045,1.961207083040172,2.0177478786147596,2.0552293763918215,2.062083177989866,2.109223031387554,2.2063389168305543,2.208588959202377,2.287504090091339,2.3638383447750275,2.5187554306766176,2.570235311884751,2.600478762140729,2.70446827927603,2.7102144383432227,2.7995446213399005,2.8485604880171715,2.8885285495321513],\"xaxis\":\"x\",\"y\":[21.34736943655689,17.164918773527237,19.620504013195074,20.606223235126322,20.469607779355858,17.927230717959418,19.633821322998934,16.49652534337911,19.85705652934619,18.02443867526549,15.494399507119136,16.53390134710208,10.893141794042268,13.141389831085188,12.07091086906675,15.05674381464083,13.430470391978162,11.19157732275413,10.848457516560451,11.042189092784547,8.577659559491778,10.49834712333693,7.017171503702367,12.931429506932119,10.77793963572464,10.60675222011713,5.821349472246699,7.4567510668318135,7.83799589366944,6.8443877025427495,3.245459571056551,7.9461774058374575,3.6473777072445843,8.657025258855064,5.364418903810753,6.525766864997253,6.815791676725891,5.743316632376836,6.912567040060139,8.138800985627995,3.8889222292948475,1.198099728691691,5.60569783898744,5.673772473862304,4.915661908695159,4.643164397981095,4.912781379255258,1.7305976180503735,4.014847740111325,2.873243545679127,4.034133366355794,2.116763401346085,3.5309663812024024,1.072842965587383,6.008743419341284,2.55596620637685,2.425804902937446,4.692727258179849,1.5457714241617115,3.1429964491545226,6.584328251068008,3.053428348962777,2.5448659150149884,3.274009143337202,2.6987893194810026,3.7689836077409655,6.8358525297988155,2.202370061165255,1.753979524366216,4.477358389699294,5.783048272658609,3.684054451267044,3.3609773174457223,2.9763634967938586,2.0309599706931176,2.268558054715747,0.3638733556602025,5.4533968318644535,3.3024299345724453,3.4537512961255077,2.33625517044573,3.4743555631583365,2.613020025713241,5.637942629252496,4.219604712396806,6.025391391427247,8.061960224551896,-0.8775912397345635,0.722664414012689,5.813056562595697,4.819373599643575,2.8334747744374504,3.655465062815585,5.966716427278021,8.70118636744698,5.962597500068263,6.610552600820412,2.5935339068966363,2.963383305794802,4.26689719749173],\"yaxis\":\"y\",\"type\":\"scatter\"},{\"hovertemplate\":\"scam=%{x}\\u003cbr\\u003epredicted=%{y}\\u003cextra\\u003e\\u003c\\u002fextra\\u003e\",\"legendgroup\":\"\",\"line\":{\"color\":\"deeppink\",\"dash\":\"solid\"},\"marker\":{\"symbol\":\"circle\"},\"mode\":\"lines\",\"name\":\"\",\"orientation\":\"v\",\"showlegend\":false,\"x\":[-2.891513446765887,-2.82420334137949,-2.7746026227361167,-2.683741260879366,-2.6062434709330944,-2.5111566137223487,-2.5004540516962073,-2.4831853707057823,-2.4309048404810634,-2.415739625351975,-2.277109065369192,-2.1432861799926917,-2.0603231106441005,-1.999275988897955,-1.9905805253490487,-1.9561356028691785,-1.8603915380338798,-1.8399645983276869,-1.830343386179041,-1.754931027690726,-1.7072225563456198,-1.541252817463988,-1.4660026600091134,-1.38336332217807,-1.3348631705856446,-1.1816054329493901,-1.1309262059160838,-1.0816749039608746,-0.9751377257221687,-0.8999587891609275,-0.8988808540082336,-0.8434570390150977,-0.8293901284646048,-0.812601434880813,-0.7959569083363203,-0.7428571873822669,-0.7058200136302326,-0.6633919195339608,-0.5980207895354503,-0.5478026263743963,-0.40730257918842394,-0.34407091043740134,-0.3412359280625128,-0.28670939938969164,-0.23572697191034742,-0.21714105195374245,-0.19990106501481497,-0.08839954594427057,0.005259635337594659,0.05223590529760003,0.05705323934521145,0.1455283232264204,0.15567946140875666,0.22856798472666773,0.2647560117786054,0.274498078676614,0.2964709923657871,0.2992615269372627,0.37593253741645416,0.4128764186032372,0.4631200573398533,0.5451976043706868,0.6402972118200232,0.7086177933701814,0.717495556962521,0.8293464902436689,0.8863203265236717,0.9163687426633444,0.9809420707722607,1.0243639526556052,1.281644197580829,1.3030886822805456,1.3206680010896745,1.3412074399865315,1.3473474549529092,1.4430571273099115,1.4685043897795333,1.541561070762083,1.5731250671644927,1.6674564404912209,1.6975416855454348,1.784523323649986,1.8527966670069045,1.961207083040172,2.0177478786147596,2.0552293763918215,2.062083177989866,2.109223031387554,2.2063389168305543,2.208588959202377,2.287504090091339,2.3638383447750275,2.5187554306766176,2.570235311884751,2.600478762140729,2.70446827927603,2.7102144383432227,2.7995446213399005,2.8485604880171715,2.8885285495321513],\"xaxis\":\"x\",\"y\":[14.193293467418908,14.02719114119099,13.9047905788691,13.680570404468769,13.489327750580435,13.254680247271097,13.228269347467336,13.185655120867462,13.056641540560252,13.01921807351577,12.677117012059515,12.34687993345199,12.142150513839557,11.991503462058194,11.970045514327877,11.88504517570409,11.648775869626409,11.598367952665967,11.574625518898433,11.388529120752336,11.270798090237541,10.8612316580737,10.67553552625933,10.471604984584008,10.351920310853925,9.97372350685733,9.848661490487851,9.72712318984857,9.464219528747135,9.27869914997966,9.27603911051965,9.13926879132407,9.104555629728738,9.063125876460827,9.022051886721373,8.891016775100466,8.799619492600243,8.6949189415262,8.533601458830734,8.409677217855918,8.062962790077913,7.906924893382829,7.899928957711938,7.765372887688029,7.639562658266275,7.593697857993628,7.551154440207307,7.276000188267797,7.044875785858766,6.928951621528987,6.917063801907672,6.698732287471375,6.6736821459470415,6.4938138600645265,6.404512031751829,6.380471362602108,6.326248418560864,6.31936216751311,6.1301597717995495,6.038992708996933,5.915005601498011,5.712461400822049,5.477782433525576,5.309186537566413,5.28727872482531,5.011262217317112,4.870666883438027,4.7965158805297365,4.637167147533441,4.5300142089276605,3.895119241385327,3.8422003108185994,3.7988195178316286,3.7481339846475796,3.7329821621517607,3.4967977269952746,3.434001071603457,3.253717820106058,3.175826793232858,2.943043610738985,2.868801724473096,2.6541556123426515,2.4856762869004845,2.218150004077266,2.078623292333118,1.986129543652484,1.9692162973812959,1.8528884553366254,1.6132338835132076,1.6076814145351,1.4129411635729303,1.2245697860353575,0.8422781792552518,0.7152403745523666,0.6406080825385825,0.3839913293729875,0.36981143197931665,0.14936977447580269,0.028412461596339256,-0.07021742398099384],\"yaxis\":\"y\",\"type\":\"scatter\"}],                        {\"template\":{\"data\":{\"histogram2dcontour\":[{\"type\":\"histogram2dcontour\",\"colorbar\":{\"outlinewidth\":0,\"ticks\":\"\"},\"colorscale\":[[0.0,\"#0d0887\"],[0.1111111111111111,\"#46039f\"],[0.2222222222222222,\"#7201a8\"],[0.3333333333333333,\"#9c179e\"],[0.4444444444444444,\"#bd3786\"],[0.5555555555555556,\"#d8576b\"],[0.6666666666666666,\"#ed7953\"],[0.7777777777777778,\"#fb9f3a\"],[0.8888888888888888,\"#fdca26\"],[1.0,\"#f0f921\"]]}],\"choropleth\":[{\"type\":\"choropleth\",\"colorbar\":{\"outlinewidth\":0,\"ticks\":\"\"}}],\"histogram2d\":[{\"type\":\"histogram2d\",\"colorbar\":{\"outlinewidth\":0,\"ticks\":\"\"},\"colorscale\":[[0.0,\"#0d0887\"],[0.1111111111111111,\"#46039f\"],[0.2222222222222222,\"#7201a8\"],[0.3333333333333333,\"#9c179e\"],[0.4444444444444444,\"#bd3786\"],[0.5555555555555556,\"#d8576b\"],[0.6666666666666666,\"#ed7953\"],[0.7777777777777778,\"#fb9f3a\"],[0.8888888888888888,\"#fdca26\"],[1.0,\"#f0f921\"]]}],\"heatmap\":[{\"type\":\"heatmap\",\"colorbar\":{\"outlinewidth\":0,\"ticks\":\"\"},\"colorscale\":[[0.0,\"#0d0887\"],[0.1111111111111111,\"#46039f\"],[0.2222222222222222,\"#7201a8\"],[0.3333333333333333,\"#9c179e\"],[0.4444444444444444,\"#bd3786\"],[0.5555555555555556,\"#d8576b\"],[0.6666666666666666,\"#ed7953\"],[0.7777777777777778,\"#fb9f3a\"],[0.8888888888888888,\"#fdca26\"],[1.0,\"#f0f921\"]]}],\"heatmapgl\":[{\"type\":\"heatmapgl\",\"colorbar\":{\"outlinewidth\":0,\"ticks\":\"\"},\"colorscale\":[[0.0,\"#0d0887\"],[0.1111111111111111,\"#46039f\"],[0.2222222222222222,\"#7201a8\"],[0.3333333333333333,\"#9c179e\"],[0.4444444444444444,\"#bd3786\"],[0.5555555555555556,\"#d8576b\"],[0.6666666666666666,\"#ed7953\"],[0.7777777777777778,\"#fb9f3a\"],[0.8888888888888888,\"#fdca26\"],[1.0,\"#f0f921\"]]}],\"contourcarpet\":[{\"type\":\"contourcarpet\",\"colorbar\":{\"outlinewidth\":0,\"ticks\":\"\"}}],\"contour\":[{\"type\":\"contour\",\"colorbar\":{\"outlinewidth\":0,\"ticks\":\"\"},\"colorscale\":[[0.0,\"#0d0887\"],[0.1111111111111111,\"#46039f\"],[0.2222222222222222,\"#7201a8\"],[0.3333333333333333,\"#9c179e\"],[0.4444444444444444,\"#bd3786\"],[0.5555555555555556,\"#d8576b\"],[0.6666666666666666,\"#ed7953\"],[0.7777777777777778,\"#fb9f3a\"],[0.8888888888888888,\"#fdca26\"],[1.0,\"#f0f921\"]]}],\"surface\":[{\"type\":\"surface\",\"colorbar\":{\"outlinewidth\":0,\"ticks\":\"\"},\"colorscale\":[[0.0,\"#0d0887\"],[0.1111111111111111,\"#46039f\"],[0.2222222222222222,\"#7201a8\"],[0.3333333333333333,\"#9c179e\"],[0.4444444444444444,\"#bd3786\"],[0.5555555555555556,\"#d8576b\"],[0.6666666666666666,\"#ed7953\"],[0.7777777777777778,\"#fb9f3a\"],[0.8888888888888888,\"#fdca26\"],[1.0,\"#f0f921\"]]}],\"mesh3d\":[{\"type\":\"mesh3d\",\"colorbar\":{\"outlinewidth\":0,\"ticks\":\"\"}}],\"scatter\":[{\"fillpattern\":{\"fillmode\":\"overlay\",\"size\":10,\"solidity\":0.2},\"type\":\"scatter\"}],\"parcoords\":[{\"type\":\"parcoords\",\"line\":{\"colorbar\":{\"outlinewidth\":0,\"ticks\":\"\"}}}],\"scatterpolargl\":[{\"type\":\"scatterpolargl\",\"marker\":{\"colorbar\":{\"outlinewidth\":0,\"ticks\":\"\"}}}],\"bar\":[{\"error_x\":{\"color\":\"#2a3f5f\"},\"error_y\":{\"color\":\"#2a3f5f\"},\"marker\":{\"line\":{\"color\":\"#E5ECF6\",\"width\":0.5},\"pattern\":{\"fillmode\":\"overlay\",\"size\":10,\"solidity\":0.2}},\"type\":\"bar\"}],\"scattergeo\":[{\"type\":\"scattergeo\",\"marker\":{\"colorbar\":{\"outlinewidth\":0,\"ticks\":\"\"}}}],\"scatterpolar\":[{\"type\":\"scatterpolar\",\"marker\":{\"colorbar\":{\"outlinewidth\":0,\"ticks\":\"\"}}}],\"histogram\":[{\"marker\":{\"pattern\":{\"fillmode\":\"overlay\",\"size\":10,\"solidity\":0.2}},\"type\":\"histogram\"}],\"scattergl\":[{\"type\":\"scattergl\",\"marker\":{\"colorbar\":{\"outlinewidth\":0,\"ticks\":\"\"}}}],\"scatter3d\":[{\"type\":\"scatter3d\",\"line\":{\"colorbar\":{\"outlinewidth\":0,\"ticks\":\"\"}},\"marker\":{\"colorbar\":{\"outlinewidth\":0,\"ticks\":\"\"}}}],\"scattermapbox\":[{\"type\":\"scattermapbox\",\"marker\":{\"colorbar\":{\"outlinewidth\":0,\"ticks\":\"\"}}}],\"scatterternary\":[{\"type\":\"scatterternary\",\"marker\":{\"colorbar\":{\"outlinewidth\":0,\"ticks\":\"\"}}}],\"scattercarpet\":[{\"type\":\"scattercarpet\",\"marker\":{\"colorbar\":{\"outlinewidth\":0,\"ticks\":\"\"}}}],\"carpet\":[{\"aaxis\":{\"endlinecolor\":\"#2a3f5f\",\"gridcolor\":\"white\",\"linecolor\":\"white\",\"minorgridcolor\":\"white\",\"startlinecolor\":\"#2a3f5f\"},\"baxis\":{\"endlinecolor\":\"#2a3f5f\",\"gridcolor\":\"white\",\"linecolor\":\"white\",\"minorgridcolor\":\"white\",\"startlinecolor\":\"#2a3f5f\"},\"type\":\"carpet\"}],\"table\":[{\"cells\":{\"fill\":{\"color\":\"#EBF0F8\"},\"line\":{\"color\":\"white\"}},\"header\":{\"fill\":{\"color\":\"#C8D4E3\"},\"line\":{\"color\":\"white\"}},\"type\":\"table\"}],\"barpolar\":[{\"marker\":{\"line\":{\"color\":\"#E5ECF6\",\"width\":0.5},\"pattern\":{\"fillmode\":\"overlay\",\"size\":10,\"solidity\":0.2}},\"type\":\"barpolar\"}],\"pie\":[{\"automargin\":true,\"type\":\"pie\"}]},\"layout\":{\"autotypenumbers\":\"strict\",\"colorway\":[\"#636efa\",\"#EF553B\",\"#00cc96\",\"#ab63fa\",\"#FFA15A\",\"#19d3f3\",\"#FF6692\",\"#B6E880\",\"#FF97FF\",\"#FECB52\"],\"font\":{\"color\":\"#2a3f5f\"},\"hovermode\":\"closest\",\"hoverlabel\":{\"align\":\"left\"},\"paper_bgcolor\":\"white\",\"plot_bgcolor\":\"#E5ECF6\",\"polar\":{\"bgcolor\":\"#E5ECF6\",\"angularaxis\":{\"gridcolor\":\"white\",\"linecolor\":\"white\",\"ticks\":\"\"},\"radialaxis\":{\"gridcolor\":\"white\",\"linecolor\":\"white\",\"ticks\":\"\"}},\"ternary\":{\"bgcolor\":\"#E5ECF6\",\"aaxis\":{\"gridcolor\":\"white\",\"linecolor\":\"white\",\"ticks\":\"\"},\"baxis\":{\"gridcolor\":\"white\",\"linecolor\":\"white\",\"ticks\":\"\"},\"caxis\":{\"gridcolor\":\"white\",\"linecolor\":\"white\",\"ticks\":\"\"}},\"coloraxis\":{\"colorbar\":{\"outlinewidth\":0,\"ticks\":\"\"}},\"colorscale\":{\"sequential\":[[0.0,\"#0d0887\"],[0.1111111111111111,\"#46039f\"],[0.2222222222222222,\"#7201a8\"],[0.3333333333333333,\"#9c179e\"],[0.4444444444444444,\"#bd3786\"],[0.5555555555555556,\"#d8576b\"],[0.6666666666666666,\"#ed7953\"],[0.7777777777777778,\"#fb9f3a\"],[0.8888888888888888,\"#fdca26\"],[1.0,\"#f0f921\"]],\"sequentialminus\":[[0.0,\"#0d0887\"],[0.1111111111111111,\"#46039f\"],[0.2222222222222222,\"#7201a8\"],[0.3333333333333333,\"#9c179e\"],[0.4444444444444444,\"#bd3786\"],[0.5555555555555556,\"#d8576b\"],[0.6666666666666666,\"#ed7953\"],[0.7777777777777778,\"#fb9f3a\"],[0.8888888888888888,\"#fdca26\"],[1.0,\"#f0f921\"]],\"diverging\":[[0,\"#8e0152\"],[0.1,\"#c51b7d\"],[0.2,\"#de77ae\"],[0.3,\"#f1b6da\"],[0.4,\"#fde0ef\"],[0.5,\"#f7f7f7\"],[0.6,\"#e6f5d0\"],[0.7,\"#b8e186\"],[0.8,\"#7fbc41\"],[0.9,\"#4d9221\"],[1,\"#276419\"]]},\"xaxis\":{\"gridcolor\":\"white\",\"linecolor\":\"white\",\"ticks\":\"\",\"title\":{\"standoff\":15},\"zerolinecolor\":\"white\",\"automargin\":true,\"zerolinewidth\":2},\"yaxis\":{\"gridcolor\":\"white\",\"linecolor\":\"white\",\"ticks\":\"\",\"title\":{\"standoff\":15},\"zerolinecolor\":\"white\",\"automargin\":true,\"zerolinewidth\":2},\"scene\":{\"xaxis\":{\"backgroundcolor\":\"#E5ECF6\",\"gridcolor\":\"white\",\"linecolor\":\"white\",\"showbackground\":true,\"ticks\":\"\",\"zerolinecolor\":\"white\",\"gridwidth\":2},\"yaxis\":{\"backgroundcolor\":\"#E5ECF6\",\"gridcolor\":\"white\",\"linecolor\":\"white\",\"showbackground\":true,\"ticks\":\"\",\"zerolinecolor\":\"white\",\"gridwidth\":2},\"zaxis\":{\"backgroundcolor\":\"#E5ECF6\",\"gridcolor\":\"white\",\"linecolor\":\"white\",\"showbackground\":true,\"ticks\":\"\",\"zerolinecolor\":\"white\",\"gridwidth\":2}},\"shapedefaults\":{\"line\":{\"color\":\"#2a3f5f\"}},\"annotationdefaults\":{\"arrowcolor\":\"#2a3f5f\",\"arrowhead\":0,\"arrowwidth\":1},\"geo\":{\"bgcolor\":\"white\",\"landcolor\":\"#E5ECF6\",\"subunitcolor\":\"white\",\"showland\":true,\"showlakes\":true,\"lakecolor\":\"white\"},\"title\":{\"x\":0.05},\"mapbox\":{\"style\":\"light\"}}},\"xaxis\":{\"anchor\":\"y\",\"domain\":[0.0,1.0],\"title\":{\"text\":\"Scam Value\"}},\"yaxis\":{\"anchor\":\"x\",\"domain\":[0.0,1.0],\"title\":{\"text\":\"To_Multiple Value\"}},\"legend\":{\"tracegroupgap\":0},\"title\":{\"text\":\"Relationship Between Scam and To_Multiple\"},\"plot_bgcolor\":\"mistyrose\",\"paper_bgcolor\":\"mistyrose\"},                        {\"responsive\": true}                    ).then(function(){\n",
       "                            \n",
       "var gd = document.getElementById('3a52dfee-c066-47e4-8843-9c4eeccfbc2e');\n",
       "var x = new MutationObserver(function (mutations, observer) {{\n",
       "        var display = window.getComputedStyle(gd).display;\n",
       "        if (!display || display === 'none') {{\n",
       "            console.log([gd, 'removed!']);\n",
       "            Plotly.purge(gd);\n",
       "            observer.disconnect();\n",
       "        }}\n",
       "}});\n",
       "\n",
       "// Listen for the removal of the full notebook cells\n",
       "var notebookContainer = gd.closest('#notebook-container');\n",
       "if (notebookContainer) {{\n",
       "    x.observe(notebookContainer, {childList: true});\n",
       "}}\n",
       "\n",
       "// Listen for the clearing of the current output cell\n",
       "var outputEl = gd.closest('.output');\n",
       "if (outputEl) {{\n",
       "    x.observe(outputEl, {childList: true});\n",
       "}}\n",
       "\n",
       "                        })                };                });            </script>        </div>"
      ]
     },
     "metadata": {},
     "output_type": "display_data"
    }
   ],
   "source": [
    "\n",
    "a = 1.2\n",
    "b = -2.5\n",
    "c = 4.0\n",
    "num_points = 100\n",
    "noise_level = 2.0\n",
    "\n",
    "scam = np.random.uniform(-3, 3, num_points)\n",
    "epsilon = np.random.normal(0, noise_level, num_points)\n",
    "to_multiple = a * scam**2 + b * scam + c + epsilon\n",
    "yn = a * scam**2 + b * scam + c\n",
    "\n",
    "DF = pd.DataFrame()\n",
    "DF['scam'] = scam\n",
    "DF['to_multiple'] = to_multiple\n",
    "DF['yn'] = yn\n",
    "\n",
    "DF = DF.sort_values('scam')\n",
    "\n",
    "X = DF[['scam']]  \n",
    "y = DF['to_multiple']  \n",
    "\n",
    "model = LinearRegression()\n",
    "model.fit(X, y)\n",
    "\n",
    "\n",
    "DF['predicted'] = model.predict(X)\n",
    "\n",
    "\n",
    "fig = px.scatter(DF, x='scam', y='to_multiple', title='Relationship Between Scam and To_Multiple', \n",
    "                 labels={'scam': 'Scam Value', 'to_multiple': 'To_Multiple Value'})\n",
    "\n",
    "fig.update_traces(marker=dict(color='lightpink'))\n",
    "\n",
    "fig.add_trace(\n",
    "    px.line(DF, x='scam', y='predicted', color_discrete_sequence=['deeppink']).data[0]\n",
    ")\n",
    "\n",
    "fig.update_layout(\n",
    "    plot_bgcolor='mistyrose',\n",
    "    paper_bgcolor='mistyrose'\n",
    ")\n",
    "\n",
    "fig.show()\n"
   ]
  },
  {
   "cell_type": "markdown",
   "id": "bf030fc9-95ce-493e-bfca-d48f9ff0d502",
   "metadata": {},
   "source": [
    "The variable I chose was scam. I chose this because I think this will help e predict the varible to multiple. With this code we see how they work together. Confusion Matrix does not apply because we are only predicting number not classifying spam. Since this is a linear regression with number we can't dothe decision to cutoff."
   ]
  },
  {
   "cell_type": "code",
   "execution_count": null,
   "id": "f10472c6-0db1-4152-b80c-40afe5f5c27f",
   "metadata": {},
   "outputs": [],
   "source": [
    "\n",
    "\n",
    "data = {'spam': np.random.choice([0, 1], size=100), \n",
    "        'to_multiple': np.random.uniform(0, 10, size=100)}  \n",
    "DF = pd.DataFrame(data)\n",
    "\n",
    "X = DF[['to_multiple']]\n",
    "y = DF['spam']\n",
    "\n",
    "X_train, X_test, y_train, y_test = train_test_split(X, y, test_size=0.2, random_state=42)\n",
    "\n",
    "model = LogisticRegression()\n",
    "model.fit(X_train, y_train)\n",
    "\n",
    "y_pred = model.predict(X_test)\n",
    "\n",
    "conf_matrix = confusion_matrix(y_test, y_pred)\n",
    "\n",
    "y_pred_adjusted = (model.predict_proba(X_test)[:, 1] >= 0.7).astype(int)\n",
    "\n",
    "conf_matrix_adjusted = confusion_matrix(y_test, y_pred_adjusted)\n",
    "\n",
    "fig = px.histogram(DF, \n",
    "                   x='to_multiple', \n",
    "                   color='spam', \n",
    "                   title='Spam Prediction based on To_Multiple',\n",
    "                   labels={'to_multiple': 'To Multiple Value', 'spam': 'Spam (0: No, 1: Yes)'},\n",
    "                   opacity=0.8,\n",
    "                   color_discrete_sequence=['lightpink', 'deeppink'])\n",
    "fig.update_layout(bargap=0.3, title_x=0.5)\n",
    "fig.show()\n"
   ]
  },
  {
   "cell_type": "markdown",
   "id": "24fdb2be-729a-43c9-9e0f-b17d36260c67",
   "metadata": {},
   "source": [
    "The variable i am using to predict to multiple is scam. I chose this one because it has a numerical value and I think it can help me predict if it is spam or not. The confusion matrix shows how well the model predicted spam. The cutoff for logistic regression is 0.7 and if it is above than it should be classied as spam and below is no spam. The confusion matrix is calculated using the cutoff, which could lead to less false positives, but more false negatives. False Negative Rate is when the model classifies a spam email as not spam. A higher cutoff will mean that the model willbe  more certain the email is spam. False Positive Rate is when the model classifies a non-spam email as spam. if i a lower the cutoff means it will mean classify more emails as spam."
   ]
  },
  {
   "cell_type": "markdown",
   "id": "963756f5-8750-42ac-b76d-106b48db6195",
   "metadata": {},
   "source": [
    "\n",
    "**Exercise 2 - challenge** Logistic Regression with MORE THAN ONE explanatory variable.\n",
    "\n",
    "Try redoing the analysis, but this time add a few more explanatory variables. Again do some analysis of the variables you are chosing and state why they are a good choice. Then answer again questions 1-5."
   ]
  },
  {
   "cell_type": "code",
   "execution_count": 115,
   "id": "273028f8-05c6-4eca-8377-dfc4e0cafb59",
   "metadata": {},
   "outputs": [
    {
     "data": {
      "application/vnd.plotly.v1+json": {
       "config": {
        "plotlyServerURL": "https://plot.ly"
       },
       "data": [
        {
         "coloraxis": "coloraxis",
         "hovertemplate": "x: %{x}<br>y: %{y}<br>color: %{z}<extra></extra>",
         "name": "0",
         "texttemplate": "%{z}",
         "type": "heatmap",
         "xaxis": "x",
         "yaxis": "y",
         "z": [
          [
           715,
           0
          ],
          [
           70,
           0
          ]
         ]
        }
       ],
       "layout": {
        "autosize": true,
        "coloraxis": {
         "colorscale": [
          [
           0,
           "rgb(247,251,255)"
          ],
          [
           0.125,
           "rgb(222,235,247)"
          ],
          [
           0.25,
           "rgb(198,219,239)"
          ],
          [
           0.375,
           "rgb(158,202,225)"
          ],
          [
           0.5,
           "rgb(107,174,214)"
          ],
          [
           0.625,
           "rgb(66,146,198)"
          ],
          [
           0.75,
           "rgb(33,113,181)"
          ],
          [
           0.875,
           "rgb(8,81,156)"
          ],
          [
           1,
           "rgb(8,48,107)"
          ]
         ]
        },
        "template": {
         "data": {
          "bar": [
           {
            "error_x": {
             "color": "#2a3f5f"
            },
            "error_y": {
             "color": "#2a3f5f"
            },
            "marker": {
             "line": {
              "color": "#E5ECF6",
              "width": 0.5
             },
             "pattern": {
              "fillmode": "overlay",
              "size": 10,
              "solidity": 0.2
             }
            },
            "type": "bar"
           }
          ],
          "barpolar": [
           {
            "marker": {
             "line": {
              "color": "#E5ECF6",
              "width": 0.5
             },
             "pattern": {
              "fillmode": "overlay",
              "size": 10,
              "solidity": 0.2
             }
            },
            "type": "barpolar"
           }
          ],
          "carpet": [
           {
            "aaxis": {
             "endlinecolor": "#2a3f5f",
             "gridcolor": "white",
             "linecolor": "white",
             "minorgridcolor": "white",
             "startlinecolor": "#2a3f5f"
            },
            "baxis": {
             "endlinecolor": "#2a3f5f",
             "gridcolor": "white",
             "linecolor": "white",
             "minorgridcolor": "white",
             "startlinecolor": "#2a3f5f"
            },
            "type": "carpet"
           }
          ],
          "choropleth": [
           {
            "colorbar": {
             "outlinewidth": 0,
             "ticks": ""
            },
            "type": "choropleth"
           }
          ],
          "contour": [
           {
            "colorbar": {
             "outlinewidth": 0,
             "ticks": ""
            },
            "colorscale": [
             [
              0,
              "#0d0887"
             ],
             [
              0.1111111111111111,
              "#46039f"
             ],
             [
              0.2222222222222222,
              "#7201a8"
             ],
             [
              0.3333333333333333,
              "#9c179e"
             ],
             [
              0.4444444444444444,
              "#bd3786"
             ],
             [
              0.5555555555555556,
              "#d8576b"
             ],
             [
              0.6666666666666666,
              "#ed7953"
             ],
             [
              0.7777777777777778,
              "#fb9f3a"
             ],
             [
              0.8888888888888888,
              "#fdca26"
             ],
             [
              1,
              "#f0f921"
             ]
            ],
            "type": "contour"
           }
          ],
          "contourcarpet": [
           {
            "colorbar": {
             "outlinewidth": 0,
             "ticks": ""
            },
            "type": "contourcarpet"
           }
          ],
          "heatmap": [
           {
            "colorbar": {
             "outlinewidth": 0,
             "ticks": ""
            },
            "colorscale": [
             [
              0,
              "#0d0887"
             ],
             [
              0.1111111111111111,
              "#46039f"
             ],
             [
              0.2222222222222222,
              "#7201a8"
             ],
             [
              0.3333333333333333,
              "#9c179e"
             ],
             [
              0.4444444444444444,
              "#bd3786"
             ],
             [
              0.5555555555555556,
              "#d8576b"
             ],
             [
              0.6666666666666666,
              "#ed7953"
             ],
             [
              0.7777777777777778,
              "#fb9f3a"
             ],
             [
              0.8888888888888888,
              "#fdca26"
             ],
             [
              1,
              "#f0f921"
             ]
            ],
            "type": "heatmap"
           }
          ],
          "heatmapgl": [
           {
            "colorbar": {
             "outlinewidth": 0,
             "ticks": ""
            },
            "colorscale": [
             [
              0,
              "#0d0887"
             ],
             [
              0.1111111111111111,
              "#46039f"
             ],
             [
              0.2222222222222222,
              "#7201a8"
             ],
             [
              0.3333333333333333,
              "#9c179e"
             ],
             [
              0.4444444444444444,
              "#bd3786"
             ],
             [
              0.5555555555555556,
              "#d8576b"
             ],
             [
              0.6666666666666666,
              "#ed7953"
             ],
             [
              0.7777777777777778,
              "#fb9f3a"
             ],
             [
              0.8888888888888888,
              "#fdca26"
             ],
             [
              1,
              "#f0f921"
             ]
            ],
            "type": "heatmapgl"
           }
          ],
          "histogram": [
           {
            "marker": {
             "pattern": {
              "fillmode": "overlay",
              "size": 10,
              "solidity": 0.2
             }
            },
            "type": "histogram"
           }
          ],
          "histogram2d": [
           {
            "colorbar": {
             "outlinewidth": 0,
             "ticks": ""
            },
            "colorscale": [
             [
              0,
              "#0d0887"
             ],
             [
              0.1111111111111111,
              "#46039f"
             ],
             [
              0.2222222222222222,
              "#7201a8"
             ],
             [
              0.3333333333333333,
              "#9c179e"
             ],
             [
              0.4444444444444444,
              "#bd3786"
             ],
             [
              0.5555555555555556,
              "#d8576b"
             ],
             [
              0.6666666666666666,
              "#ed7953"
             ],
             [
              0.7777777777777778,
              "#fb9f3a"
             ],
             [
              0.8888888888888888,
              "#fdca26"
             ],
             [
              1,
              "#f0f921"
             ]
            ],
            "type": "histogram2d"
           }
          ],
          "histogram2dcontour": [
           {
            "colorbar": {
             "outlinewidth": 0,
             "ticks": ""
            },
            "colorscale": [
             [
              0,
              "#0d0887"
             ],
             [
              0.1111111111111111,
              "#46039f"
             ],
             [
              0.2222222222222222,
              "#7201a8"
             ],
             [
              0.3333333333333333,
              "#9c179e"
             ],
             [
              0.4444444444444444,
              "#bd3786"
             ],
             [
              0.5555555555555556,
              "#d8576b"
             ],
             [
              0.6666666666666666,
              "#ed7953"
             ],
             [
              0.7777777777777778,
              "#fb9f3a"
             ],
             [
              0.8888888888888888,
              "#fdca26"
             ],
             [
              1,
              "#f0f921"
             ]
            ],
            "type": "histogram2dcontour"
           }
          ],
          "mesh3d": [
           {
            "colorbar": {
             "outlinewidth": 0,
             "ticks": ""
            },
            "type": "mesh3d"
           }
          ],
          "parcoords": [
           {
            "line": {
             "colorbar": {
              "outlinewidth": 0,
              "ticks": ""
             }
            },
            "type": "parcoords"
           }
          ],
          "pie": [
           {
            "automargin": true,
            "type": "pie"
           }
          ],
          "scatter": [
           {
            "fillpattern": {
             "fillmode": "overlay",
             "size": 10,
             "solidity": 0.2
            },
            "type": "scatter"
           }
          ],
          "scatter3d": [
           {
            "line": {
             "colorbar": {
              "outlinewidth": 0,
              "ticks": ""
             }
            },
            "marker": {
             "colorbar": {
              "outlinewidth": 0,
              "ticks": ""
             }
            },
            "type": "scatter3d"
           }
          ],
          "scattercarpet": [
           {
            "marker": {
             "colorbar": {
              "outlinewidth": 0,
              "ticks": ""
             }
            },
            "type": "scattercarpet"
           }
          ],
          "scattergeo": [
           {
            "marker": {
             "colorbar": {
              "outlinewidth": 0,
              "ticks": ""
             }
            },
            "type": "scattergeo"
           }
          ],
          "scattergl": [
           {
            "marker": {
             "colorbar": {
              "outlinewidth": 0,
              "ticks": ""
             }
            },
            "type": "scattergl"
           }
          ],
          "scattermapbox": [
           {
            "marker": {
             "colorbar": {
              "outlinewidth": 0,
              "ticks": ""
             }
            },
            "type": "scattermapbox"
           }
          ],
          "scatterpolar": [
           {
            "marker": {
             "colorbar": {
              "outlinewidth": 0,
              "ticks": ""
             }
            },
            "type": "scatterpolar"
           }
          ],
          "scatterpolargl": [
           {
            "marker": {
             "colorbar": {
              "outlinewidth": 0,
              "ticks": ""
             }
            },
            "type": "scatterpolargl"
           }
          ],
          "scatterternary": [
           {
            "marker": {
             "colorbar": {
              "outlinewidth": 0,
              "ticks": ""
             }
            },
            "type": "scatterternary"
           }
          ],
          "surface": [
           {
            "colorbar": {
             "outlinewidth": 0,
             "ticks": ""
            },
            "colorscale": [
             [
              0,
              "#0d0887"
             ],
             [
              0.1111111111111111,
              "#46039f"
             ],
             [
              0.2222222222222222,
              "#7201a8"
             ],
             [
              0.3333333333333333,
              "#9c179e"
             ],
             [
              0.4444444444444444,
              "#bd3786"
             ],
             [
              0.5555555555555556,
              "#d8576b"
             ],
             [
              0.6666666666666666,
              "#ed7953"
             ],
             [
              0.7777777777777778,
              "#fb9f3a"
             ],
             [
              0.8888888888888888,
              "#fdca26"
             ],
             [
              1,
              "#f0f921"
             ]
            ],
            "type": "surface"
           }
          ],
          "table": [
           {
            "cells": {
             "fill": {
              "color": "#EBF0F8"
             },
             "line": {
              "color": "white"
             }
            },
            "header": {
             "fill": {
              "color": "#C8D4E3"
             },
             "line": {
              "color": "white"
             }
            },
            "type": "table"
           }
          ]
         },
         "layout": {
          "annotationdefaults": {
           "arrowcolor": "#2a3f5f",
           "arrowhead": 0,
           "arrowwidth": 1
          },
          "autotypenumbers": "strict",
          "coloraxis": {
           "colorbar": {
            "outlinewidth": 0,
            "ticks": ""
           }
          },
          "colorscale": {
           "diverging": [
            [
             0,
             "#8e0152"
            ],
            [
             0.1,
             "#c51b7d"
            ],
            [
             0.2,
             "#de77ae"
            ],
            [
             0.3,
             "#f1b6da"
            ],
            [
             0.4,
             "#fde0ef"
            ],
            [
             0.5,
             "#f7f7f7"
            ],
            [
             0.6,
             "#e6f5d0"
            ],
            [
             0.7,
             "#b8e186"
            ],
            [
             0.8,
             "#7fbc41"
            ],
            [
             0.9,
             "#4d9221"
            ],
            [
             1,
             "#276419"
            ]
           ],
           "sequential": [
            [
             0,
             "#0d0887"
            ],
            [
             0.1111111111111111,
             "#46039f"
            ],
            [
             0.2222222222222222,
             "#7201a8"
            ],
            [
             0.3333333333333333,
             "#9c179e"
            ],
            [
             0.4444444444444444,
             "#bd3786"
            ],
            [
             0.5555555555555556,
             "#d8576b"
            ],
            [
             0.6666666666666666,
             "#ed7953"
            ],
            [
             0.7777777777777778,
             "#fb9f3a"
            ],
            [
             0.8888888888888888,
             "#fdca26"
            ],
            [
             1,
             "#f0f921"
            ]
           ],
           "sequentialminus": [
            [
             0,
             "#0d0887"
            ],
            [
             0.1111111111111111,
             "#46039f"
            ],
            [
             0.2222222222222222,
             "#7201a8"
            ],
            [
             0.3333333333333333,
             "#9c179e"
            ],
            [
             0.4444444444444444,
             "#bd3786"
            ],
            [
             0.5555555555555556,
             "#d8576b"
            ],
            [
             0.6666666666666666,
             "#ed7953"
            ],
            [
             0.7777777777777778,
             "#fb9f3a"
            ],
            [
             0.8888888888888888,
             "#fdca26"
            ],
            [
             1,
             "#f0f921"
            ]
           ]
          },
          "colorway": [
           "#636efa",
           "#EF553B",
           "#00cc96",
           "#ab63fa",
           "#FFA15A",
           "#19d3f3",
           "#FF6692",
           "#B6E880",
           "#FF97FF",
           "#FECB52"
          ],
          "font": {
           "color": "#2a3f5f"
          },
          "geo": {
           "bgcolor": "white",
           "lakecolor": "white",
           "landcolor": "#E5ECF6",
           "showlakes": true,
           "showland": true,
           "subunitcolor": "white"
          },
          "hoverlabel": {
           "align": "left"
          },
          "hovermode": "closest",
          "mapbox": {
           "style": "light"
          },
          "paper_bgcolor": "white",
          "plot_bgcolor": "#E5ECF6",
          "polar": {
           "angularaxis": {
            "gridcolor": "white",
            "linecolor": "white",
            "ticks": ""
           },
           "bgcolor": "#E5ECF6",
           "radialaxis": {
            "gridcolor": "white",
            "linecolor": "white",
            "ticks": ""
           }
          },
          "scene": {
           "xaxis": {
            "backgroundcolor": "#E5ECF6",
            "gridcolor": "white",
            "gridwidth": 2,
            "linecolor": "white",
            "showbackground": true,
            "ticks": "",
            "zerolinecolor": "white"
           },
           "yaxis": {
            "backgroundcolor": "#E5ECF6",
            "gridcolor": "white",
            "gridwidth": 2,
            "linecolor": "white",
            "showbackground": true,
            "ticks": "",
            "zerolinecolor": "white"
           },
           "zaxis": {
            "backgroundcolor": "#E5ECF6",
            "gridcolor": "white",
            "gridwidth": 2,
            "linecolor": "white",
            "showbackground": true,
            "ticks": "",
            "zerolinecolor": "white"
           }
          },
          "shapedefaults": {
           "line": {
            "color": "#2a3f5f"
           }
          },
          "ternary": {
           "aaxis": {
            "gridcolor": "white",
            "linecolor": "white",
            "ticks": ""
           },
           "baxis": {
            "gridcolor": "white",
            "linecolor": "white",
            "ticks": ""
           },
           "bgcolor": "#E5ECF6",
           "caxis": {
            "gridcolor": "white",
            "linecolor": "white",
            "ticks": ""
           }
          },
          "title": {
           "x": 0.05
          },
          "xaxis": {
           "automargin": true,
           "gridcolor": "white",
           "linecolor": "white",
           "ticks": "",
           "title": {
            "standoff": 15
           },
           "zerolinecolor": "white",
           "zerolinewidth": 2
          },
          "yaxis": {
           "automargin": true,
           "gridcolor": "white",
           "linecolor": "white",
           "ticks": "",
           "title": {
            "standoff": 15
           },
           "zerolinecolor": "white",
           "zerolinewidth": 2
          }
         }
        },
        "title": {
         "text": "Confusion Matrix"
        },
        "xaxis": {
         "anchor": "y",
         "autorange": true,
         "constrain": "domain",
         "domain": [
          0.3880597014925373,
          0.6119402985074627
         ],
         "range": [
          -0.5,
          1.5
         ],
         "scaleanchor": "y"
        },
        "yaxis": {
         "anchor": "x",
         "autorange": true,
         "constrain": "domain",
         "domain": [
          0,
          1
         ],
         "range": [
          1.5,
          -0.5
         ]
        }
       }
      },
      "image/png": "[encoded data removed]",
      "text/html": [
       "<div>                            <div id=\"371029dc-0eb1-4153-b606-58b82eeff39c\" class=\"plotly-graph-div\" style=\"height:525px; width:100%;\"></div>            <script type=\"text/javascript\">                require([\"plotly\"], function(Plotly) {                    window.PLOTLYENV=window.PLOTLYENV || {};                                    if (document.getElementById(\"371029dc-0eb1-4153-b606-58b82eeff39c\")) {                    Plotly.newPlot(                        \"371029dc-0eb1-4153-b606-58b82eeff39c\",                        [{\"coloraxis\":\"coloraxis\",\"name\":\"0\",\"texttemplate\":\"%{z}\",\"z\":[[715,0],[70,0]],\"type\":\"heatmap\",\"xaxis\":\"x\",\"yaxis\":\"y\",\"hovertemplate\":\"x: %{x}\\u003cbr\\u003ey: %{y}\\u003cbr\\u003ecolor: %{z}\\u003cextra\\u003e\\u003c\\u002fextra\\u003e\"}],                        {\"template\":{\"data\":{\"histogram2dcontour\":[{\"type\":\"histogram2dcontour\",\"colorbar\":{\"outlinewidth\":0,\"ticks\":\"\"},\"colorscale\":[[0.0,\"#0d0887\"],[0.1111111111111111,\"#46039f\"],[0.2222222222222222,\"#7201a8\"],[0.3333333333333333,\"#9c179e\"],[0.4444444444444444,\"#bd3786\"],[0.5555555555555556,\"#d8576b\"],[0.6666666666666666,\"#ed7953\"],[0.7777777777777778,\"#fb9f3a\"],[0.8888888888888888,\"#fdca26\"],[1.0,\"#f0f921\"]]}],\"choropleth\":[{\"type\":\"choropleth\",\"colorbar\":{\"outlinewidth\":0,\"ticks\":\"\"}}],\"histogram2d\":[{\"type\":\"histogram2d\",\"colorbar\":{\"outlinewidth\":0,\"ticks\":\"\"},\"colorscale\":[[0.0,\"#0d0887\"],[0.1111111111111111,\"#46039f\"],[0.2222222222222222,\"#7201a8\"],[0.3333333333333333,\"#9c179e\"],[0.4444444444444444,\"#bd3786\"],[0.5555555555555556,\"#d8576b\"],[0.6666666666666666,\"#ed7953\"],[0.7777777777777778,\"#fb9f3a\"],[0.8888888888888888,\"#fdca26\"],[1.0,\"#f0f921\"]]}],\"heatmap\":[{\"type\":\"heatmap\",\"colorbar\":{\"outlinewidth\":0,\"ticks\":\"\"},\"colorscale\":[[0.0,\"#0d0887\"],[0.1111111111111111,\"#46039f\"],[0.2222222222222222,\"#7201a8\"],[0.3333333333333333,\"#9c179e\"],[0.4444444444444444,\"#bd3786\"],[0.5555555555555556,\"#d8576b\"],[0.6666666666666666,\"#ed7953\"],[0.7777777777777778,\"#fb9f3a\"],[0.8888888888888888,\"#fdca26\"],[1.0,\"#f0f921\"]]}],\"heatmapgl\":[{\"type\":\"heatmapgl\",\"colorbar\":{\"outlinewidth\":0,\"ticks\":\"\"},\"colorscale\":[[0.0,\"#0d0887\"],[0.1111111111111111,\"#46039f\"],[0.2222222222222222,\"#7201a8\"],[0.3333333333333333,\"#9c179e\"],[0.4444444444444444,\"#bd3786\"],[0.5555555555555556,\"#d8576b\"],[0.6666666666666666,\"#ed7953\"],[0.7777777777777778,\"#fb9f3a\"],[0.8888888888888888,\"#fdca26\"],[1.0,\"#f0f921\"]]}],\"contourcarpet\":[{\"type\":\"contourcarpet\",\"colorbar\":{\"outlinewidth\":0,\"ticks\":\"\"}}],\"contour\":[{\"type\":\"contour\",\"colorbar\":{\"outlinewidth\":0,\"ticks\":\"\"},\"colorscale\":[[0.0,\"#0d0887\"],[0.1111111111111111,\"#46039f\"],[0.2222222222222222,\"#7201a8\"],[0.3333333333333333,\"#9c179e\"],[0.4444444444444444,\"#bd3786\"],[0.5555555555555556,\"#d8576b\"],[0.6666666666666666,\"#ed7953\"],[0.7777777777777778,\"#fb9f3a\"],[0.8888888888888888,\"#fdca26\"],[1.0,\"#f0f921\"]]}],\"surface\":[{\"type\":\"surface\",\"colorbar\":{\"outlinewidth\":0,\"ticks\":\"\"},\"colorscale\":[[0.0,\"#0d0887\"],[0.1111111111111111,\"#46039f\"],[0.2222222222222222,\"#7201a8\"],[0.3333333333333333,\"#9c179e\"],[0.4444444444444444,\"#bd3786\"],[0.5555555555555556,\"#d8576b\"],[0.6666666666666666,\"#ed7953\"],[0.7777777777777778,\"#fb9f3a\"],[0.8888888888888888,\"#fdca26\"],[1.0,\"#f0f921\"]]}],\"mesh3d\":[{\"type\":\"mesh3d\",\"colorbar\":{\"outlinewidth\":0,\"ticks\":\"\"}}],\"scatter\":[{\"fillpattern\":{\"fillmode\":\"overlay\",\"size\":10,\"solidity\":0.2},\"type\":\"scatter\"}],\"parcoords\":[{\"type\":\"parcoords\",\"line\":{\"colorbar\":{\"outlinewidth\":0,\"ticks\":\"\"}}}],\"scatterpolargl\":[{\"type\":\"scatterpolargl\",\"marker\":{\"colorbar\":{\"outlinewidth\":0,\"ticks\":\"\"}}}],\"bar\":[{\"error_x\":{\"color\":\"#2a3f5f\"},\"error_y\":{\"color\":\"#2a3f5f\"},\"marker\":{\"line\":{\"color\":\"#E5ECF6\",\"width\":0.5},\"pattern\":{\"fillmode\":\"overlay\",\"size\":10,\"solidity\":0.2}},\"type\":\"bar\"}],\"scattergeo\":[{\"type\":\"scattergeo\",\"marker\":{\"colorbar\":{\"outlinewidth\":0,\"ticks\":\"\"}}}],\"scatterpolar\":[{\"type\":\"scatterpolar\",\"marker\":{\"colorbar\":{\"outlinewidth\":0,\"ticks\":\"\"}}}],\"histogram\":[{\"marker\":{\"pattern\":{\"fillmode\":\"overlay\",\"size\":10,\"solidity\":0.2}},\"type\":\"histogram\"}],\"scattergl\":[{\"type\":\"scattergl\",\"marker\":{\"colorbar\":{\"outlinewidth\":0,\"ticks\":\"\"}}}],\"scatter3d\":[{\"type\":\"scatter3d\",\"line\":{\"colorbar\":{\"outlinewidth\":0,\"ticks\":\"\"}},\"marker\":{\"colorbar\":{\"outlinewidth\":0,\"ticks\":\"\"}}}],\"scattermapbox\":[{\"type\":\"scattermapbox\",\"marker\":{\"colorbar\":{\"outlinewidth\":0,\"ticks\":\"\"}}}],\"scatterternary\":[{\"type\":\"scatterternary\",\"marker\":{\"colorbar\":{\"outlinewidth\":0,\"ticks\":\"\"}}}],\"scattercarpet\":[{\"type\":\"scattercarpet\",\"marker\":{\"colorbar\":{\"outlinewidth\":0,\"ticks\":\"\"}}}],\"carpet\":[{\"aaxis\":{\"endlinecolor\":\"#2a3f5f\",\"gridcolor\":\"white\",\"linecolor\":\"white\",\"minorgridcolor\":\"white\",\"startlinecolor\":\"#2a3f5f\"},\"baxis\":{\"endlinecolor\":\"#2a3f5f\",\"gridcolor\":\"white\",\"linecolor\":\"white\",\"minorgridcolor\":\"white\",\"startlinecolor\":\"#2a3f5f\"},\"type\":\"carpet\"}],\"table\":[{\"cells\":{\"fill\":{\"color\":\"#EBF0F8\"},\"line\":{\"color\":\"white\"}},\"header\":{\"fill\":{\"color\":\"#C8D4E3\"},\"line\":{\"color\":\"white\"}},\"type\":\"table\"}],\"barpolar\":[{\"marker\":{\"line\":{\"color\":\"#E5ECF6\",\"width\":0.5},\"pattern\":{\"fillmode\":\"overlay\",\"size\":10,\"solidity\":0.2}},\"type\":\"barpolar\"}],\"pie\":[{\"automargin\":true,\"type\":\"pie\"}]},\"layout\":{\"autotypenumbers\":\"strict\",\"colorway\":[\"#636efa\",\"#EF553B\",\"#00cc96\",\"#ab63fa\",\"#FFA15A\",\"#19d3f3\",\"#FF6692\",\"#B6E880\",\"#FF97FF\",\"#FECB52\"],\"font\":{\"color\":\"#2a3f5f\"},\"hovermode\":\"closest\",\"hoverlabel\":{\"align\":\"left\"},\"paper_bgcolor\":\"white\",\"plot_bgcolor\":\"#E5ECF6\",\"polar\":{\"bgcolor\":\"#E5ECF6\",\"angularaxis\":{\"gridcolor\":\"white\",\"linecolor\":\"white\",\"ticks\":\"\"},\"radialaxis\":{\"gridcolor\":\"white\",\"linecolor\":\"white\",\"ticks\":\"\"}},\"ternary\":{\"bgcolor\":\"#E5ECF6\",\"aaxis\":{\"gridcolor\":\"white\",\"linecolor\":\"white\",\"ticks\":\"\"},\"baxis\":{\"gridcolor\":\"white\",\"linecolor\":\"white\",\"ticks\":\"\"},\"caxis\":{\"gridcolor\":\"white\",\"linecolor\":\"white\",\"ticks\":\"\"}},\"coloraxis\":{\"colorbar\":{\"outlinewidth\":0,\"ticks\":\"\"}},\"colorscale\":{\"sequential\":[[0.0,\"#0d0887\"],[0.1111111111111111,\"#46039f\"],[0.2222222222222222,\"#7201a8\"],[0.3333333333333333,\"#9c179e\"],[0.4444444444444444,\"#bd3786\"],[0.5555555555555556,\"#d8576b\"],[0.6666666666666666,\"#ed7953\"],[0.7777777777777778,\"#fb9f3a\"],[0.8888888888888888,\"#fdca26\"],[1.0,\"#f0f921\"]],\"sequentialminus\":[[0.0,\"#0d0887\"],[0.1111111111111111,\"#46039f\"],[0.2222222222222222,\"#7201a8\"],[0.3333333333333333,\"#9c179e\"],[0.4444444444444444,\"#bd3786\"],[0.5555555555555556,\"#d8576b\"],[0.6666666666666666,\"#ed7953\"],[0.7777777777777778,\"#fb9f3a\"],[0.8888888888888888,\"#fdca26\"],[1.0,\"#f0f921\"]],\"diverging\":[[0,\"#8e0152\"],[0.1,\"#c51b7d\"],[0.2,\"#de77ae\"],[0.3,\"#f1b6da\"],[0.4,\"#fde0ef\"],[0.5,\"#f7f7f7\"],[0.6,\"#e6f5d0\"],[0.7,\"#b8e186\"],[0.8,\"#7fbc41\"],[0.9,\"#4d9221\"],[1,\"#276419\"]]},\"xaxis\":{\"gridcolor\":\"white\",\"linecolor\":\"white\",\"ticks\":\"\",\"title\":{\"standoff\":15},\"zerolinecolor\":\"white\",\"automargin\":true,\"zerolinewidth\":2},\"yaxis\":{\"gridcolor\":\"white\",\"linecolor\":\"white\",\"ticks\":\"\",\"title\":{\"standoff\":15},\"zerolinecolor\":\"white\",\"automargin\":true,\"zerolinewidth\":2},\"scene\":{\"xaxis\":{\"backgroundcolor\":\"#E5ECF6\",\"gridcolor\":\"white\",\"linecolor\":\"white\",\"showbackground\":true,\"ticks\":\"\",\"zerolinecolor\":\"white\",\"gridwidth\":2},\"yaxis\":{\"backgroundcolor\":\"#E5ECF6\",\"gridcolor\":\"white\",\"linecolor\":\"white\",\"showbackground\":true,\"ticks\":\"\",\"zerolinecolor\":\"white\",\"gridwidth\":2},\"zaxis\":{\"backgroundcolor\":\"#E5ECF6\",\"gridcolor\":\"white\",\"linecolor\":\"white\",\"showbackground\":true,\"ticks\":\"\",\"zerolinecolor\":\"white\",\"gridwidth\":2}},\"shapedefaults\":{\"line\":{\"color\":\"#2a3f5f\"}},\"annotationdefaults\":{\"arrowcolor\":\"#2a3f5f\",\"arrowhead\":0,\"arrowwidth\":1},\"geo\":{\"bgcolor\":\"white\",\"landcolor\":\"#E5ECF6\",\"subunitcolor\":\"white\",\"showland\":true,\"showlakes\":true,\"lakecolor\":\"white\"},\"title\":{\"x\":0.05},\"mapbox\":{\"style\":\"light\"}}},\"xaxis\":{\"anchor\":\"y\",\"domain\":[0.0,1.0],\"scaleanchor\":\"y\",\"constrain\":\"domain\"},\"yaxis\":{\"anchor\":\"x\",\"domain\":[0.0,1.0],\"autorange\":\"reversed\",\"constrain\":\"domain\"},\"coloraxis\":{\"colorscale\":[[0.0,\"rgb(247,251,255)\"],[0.125,\"rgb(222,235,247)\"],[0.25,\"rgb(198,219,239)\"],[0.375,\"rgb(158,202,225)\"],[0.5,\"rgb(107,174,214)\"],[0.625,\"rgb(66,146,198)\"],[0.75,\"rgb(33,113,181)\"],[0.875,\"rgb(8,81,156)\"],[1.0,\"rgb(8,48,107)\"]]},\"title\":{\"text\":\"Confusion Matrix\"}},                        {\"responsive\": true}                    ).then(function(){\n",
       "                            \n",
       "var gd = document.getElementById('371029dc-0eb1-4153-b606-58b82eeff39c');\n",
       "var x = new MutationObserver(function (mutations, observer) {{\n",
       "        var display = window.getComputedStyle(gd).display;\n",
       "        if (!display || display === 'none') {{\n",
       "            console.log([gd, 'removed!']);\n",
       "            Plotly.purge(gd);\n",
       "            observer.disconnect();\n",
       "        }}\n",
       "}});\n",
       "\n",
       "// Listen for the removal of the full notebook cells\n",
       "var notebookContainer = gd.closest('#notebook-container');\n",
       "if (notebookContainer) {{\n",
       "    x.observe(notebookContainer, {childList: true});\n",
       "}}\n",
       "\n",
       "// Listen for the clearing of the current output cell\n",
       "var outputEl = gd.closest('.output');\n",
       "if (outputEl) {{\n",
       "    x.observe(outputEl, {childList: true});\n",
       "}}\n",
       "\n",
       "                        })                };                });            </script>        </div>"
      ]
     },
     "metadata": {},
     "output_type": "display_data"
    },
    {
     "data": {
      "application/vnd.plotly.v1+json": {
       "config": {
        "plotlyServerURL": "https://plot.ly"
       },
       "data": [
        {
         "coloraxis": "coloraxis",
         "hovertemplate": "x: %{x}<br>y: %{y}<br>color: %{z}<extra></extra>",
         "name": "0",
         "texttemplate": "%{z}",
         "type": "heatmap",
         "xaxis": "x",
         "yaxis": "y",
         "z": [
          [
           715,
           0
          ],
          [
           70,
           0
          ]
         ]
        }
       ],
       "layout": {
        "autosize": true,
        "coloraxis": {
         "colorscale": [
          [
           0,
           "rgb(247,251,255)"
          ],
          [
           0.125,
           "rgb(222,235,247)"
          ],
          [
           0.25,
           "rgb(198,219,239)"
          ],
          [
           0.375,
           "rgb(158,202,225)"
          ],
          [
           0.5,
           "rgb(107,174,214)"
          ],
          [
           0.625,
           "rgb(66,146,198)"
          ],
          [
           0.75,
           "rgb(33,113,181)"
          ],
          [
           0.875,
           "rgb(8,81,156)"
          ],
          [
           1,
           "rgb(8,48,107)"
          ]
         ]
        },
        "template": {
         "data": {
          "bar": [
           {
            "error_x": {
             "color": "#2a3f5f"
            },
            "error_y": {
             "color": "#2a3f5f"
            },
            "marker": {
             "line": {
              "color": "#E5ECF6",
              "width": 0.5
             },
             "pattern": {
              "fillmode": "overlay",
              "size": 10,
              "solidity": 0.2
             }
            },
            "type": "bar"
           }
          ],
          "barpolar": [
           {
            "marker": {
             "line": {
              "color": "#E5ECF6",
              "width": 0.5
             },
             "pattern": {
              "fillmode": "overlay",
              "size": 10,
              "solidity": 0.2
             }
            },
            "type": "barpolar"
           }
          ],
          "carpet": [
           {
            "aaxis": {
             "endlinecolor": "#2a3f5f",
             "gridcolor": "white",
             "linecolor": "white",
             "minorgridcolor": "white",
             "startlinecolor": "#2a3f5f"
            },
            "baxis": {
             "endlinecolor": "#2a3f5f",
             "gridcolor": "white",
             "linecolor": "white",
             "minorgridcolor": "white",
             "startlinecolor": "#2a3f5f"
            },
            "type": "carpet"
           }
          ],
          "choropleth": [
           {
            "colorbar": {
             "outlinewidth": 0,
             "ticks": ""
            },
            "type": "choropleth"
           }
          ],
          "contour": [
           {
            "colorbar": {
             "outlinewidth": 0,
             "ticks": ""
            },
            "colorscale": [
             [
              0,
              "#0d0887"
             ],
             [
              0.1111111111111111,
              "#46039f"
             ],
             [
              0.2222222222222222,
              "#7201a8"
             ],
             [
              0.3333333333333333,
              "#9c179e"
             ],
             [
              0.4444444444444444,
              "#bd3786"
             ],
             [
              0.5555555555555556,
              "#d8576b"
             ],
             [
              0.6666666666666666,
              "#ed7953"
             ],
             [
              0.7777777777777778,
              "#fb9f3a"
             ],
             [
              0.8888888888888888,
              "#fdca26"
             ],
             [
              1,
              "#f0f921"
             ]
            ],
            "type": "contour"
           }
          ],
          "contourcarpet": [
           {
            "colorbar": {
             "outlinewidth": 0,
             "ticks": ""
            },
            "type": "contourcarpet"
           }
          ],
          "heatmap": [
           {
            "colorbar": {
             "outlinewidth": 0,
             "ticks": ""
            },
            "colorscale": [
             [
              0,
              "#0d0887"
             ],
             [
              0.1111111111111111,
              "#46039f"
             ],
             [
              0.2222222222222222,
              "#7201a8"
             ],
             [
              0.3333333333333333,
              "#9c179e"
             ],
             [
              0.4444444444444444,
              "#bd3786"
             ],
             [
              0.5555555555555556,
              "#d8576b"
             ],
             [
              0.6666666666666666,
              "#ed7953"
             ],
             [
              0.7777777777777778,
              "#fb9f3a"
             ],
             [
              0.8888888888888888,
              "#fdca26"
             ],
             [
              1,
              "#f0f921"
             ]
            ],
            "type": "heatmap"
           }
          ],
          "heatmapgl": [
           {
            "colorbar": {
             "outlinewidth": 0,
             "ticks": ""
            },
            "colorscale": [
             [
              0,
              "#0d0887"
             ],
             [
              0.1111111111111111,
              "#46039f"
             ],
             [
              0.2222222222222222,
              "#7201a8"
             ],
             [
              0.3333333333333333,
              "#9c179e"
             ],
             [
              0.4444444444444444,
              "#bd3786"
             ],
             [
              0.5555555555555556,
              "#d8576b"
             ],
             [
              0.6666666666666666,
              "#ed7953"
             ],
             [
              0.7777777777777778,
              "#fb9f3a"
             ],
             [
              0.8888888888888888,
              "#fdca26"
             ],
             [
              1,
              "#f0f921"
             ]
            ],
            "type": "heatmapgl"
           }
          ],
          "histogram": [
           {
            "marker": {
             "pattern": {
              "fillmode": "overlay",
              "size": 10,
              "solidity": 0.2
             }
            },
            "type": "histogram"
           }
          ],
          "histogram2d": [
           {
            "colorbar": {
             "outlinewidth": 0,
             "ticks": ""
            },
            "colorscale": [
             [
              0,
              "#0d0887"
             ],
             [
              0.1111111111111111,
              "#46039f"
             ],
             [
              0.2222222222222222,
              "#7201a8"
             ],
             [
              0.3333333333333333,
              "#9c179e"
             ],
             [
              0.4444444444444444,
              "#bd3786"
             ],
             [
              0.5555555555555556,
              "#d8576b"
             ],
             [
              0.6666666666666666,
              "#ed7953"
             ],
             [
              0.7777777777777778,
              "#fb9f3a"
             ],
             [
              0.8888888888888888,
              "#fdca26"
             ],
             [
              1,
              "#f0f921"
             ]
            ],
            "type": "histogram2d"
           }
          ],
          "histogram2dcontour": [
           {
            "colorbar": {
             "outlinewidth": 0,
             "ticks": ""
            },
            "colorscale": [
             [
              0,
              "#0d0887"
             ],
             [
              0.1111111111111111,
              "#46039f"
             ],
             [
              0.2222222222222222,
              "#7201a8"
             ],
             [
              0.3333333333333333,
              "#9c179e"
             ],
             [
              0.4444444444444444,
              "#bd3786"
             ],
             [
              0.5555555555555556,
              "#d8576b"
             ],
             [
              0.6666666666666666,
              "#ed7953"
             ],
             [
              0.7777777777777778,
              "#fb9f3a"
             ],
             [
              0.8888888888888888,
              "#fdca26"
             ],
             [
              1,
              "#f0f921"
             ]
            ],
            "type": "histogram2dcontour"
           }
          ],
          "mesh3d": [
           {
            "colorbar": {
             "outlinewidth": 0,
             "ticks": ""
            },
            "type": "mesh3d"
           }
          ],
          "parcoords": [
           {
            "line": {
             "colorbar": {
              "outlinewidth": 0,
              "ticks": ""
             }
            },
            "type": "parcoords"
           }
          ],
          "pie": [
           {
            "automargin": true,
            "type": "pie"
           }
          ],
          "scatter": [
           {
            "fillpattern": {
             "fillmode": "overlay",
             "size": 10,
             "solidity": 0.2
            },
            "type": "scatter"
           }
          ],
          "scatter3d": [
           {
            "line": {
             "colorbar": {
              "outlinewidth": 0,
              "ticks": ""
             }
            },
            "marker": {
             "colorbar": {
              "outlinewidth": 0,
              "ticks": ""
             }
            },
            "type": "scatter3d"
           }
          ],
          "scattercarpet": [
           {
            "marker": {
             "colorbar": {
              "outlinewidth": 0,
              "ticks": ""
             }
            },
            "type": "scattercarpet"
           }
          ],
          "scattergeo": [
           {
            "marker": {
             "colorbar": {
              "outlinewidth": 0,
              "ticks": ""
             }
            },
            "type": "scattergeo"
           }
          ],
          "scattergl": [
           {
            "marker": {
             "colorbar": {
              "outlinewidth": 0,
              "ticks": ""
             }
            },
            "type": "scattergl"
           }
          ],
          "scattermapbox": [
           {
            "marker": {
             "colorbar": {
              "outlinewidth": 0,
              "ticks": ""
             }
            },
            "type": "scattermapbox"
           }
          ],
          "scatterpolar": [
           {
            "marker": {
             "colorbar": {
              "outlinewidth": 0,
              "ticks": ""
             }
            },
            "type": "scatterpolar"
           }
          ],
          "scatterpolargl": [
           {
            "marker": {
             "colorbar": {
              "outlinewidth": 0,
              "ticks": ""
             }
            },
            "type": "scatterpolargl"
           }
          ],
          "scatterternary": [
           {
            "marker": {
             "colorbar": {
              "outlinewidth": 0,
              "ticks": ""
             }
            },
            "type": "scatterternary"
           }
          ],
          "surface": [
           {
            "colorbar": {
             "outlinewidth": 0,
             "ticks": ""
            },
            "colorscale": [
             [
              0,
              "#0d0887"
             ],
             [
              0.1111111111111111,
              "#46039f"
             ],
             [
              0.2222222222222222,
              "#7201a8"
             ],
             [
              0.3333333333333333,
              "#9c179e"
             ],
             [
              0.4444444444444444,
              "#bd3786"
             ],
             [
              0.5555555555555556,
              "#d8576b"
             ],
             [
              0.6666666666666666,
              "#ed7953"
             ],
             [
              0.7777777777777778,
              "#fb9f3a"
             ],
             [
              0.8888888888888888,
              "#fdca26"
             ],
             [
              1,
              "#f0f921"
             ]
            ],
            "type": "surface"
           }
          ],
          "table": [
           {
            "cells": {
             "fill": {
              "color": "#EBF0F8"
             },
             "line": {
              "color": "white"
             }
            },
            "header": {
             "fill": {
              "color": "#C8D4E3"
             },
             "line": {
              "color": "white"
             }
            },
            "type": "table"
           }
          ]
         },
         "layout": {
          "annotationdefaults": {
           "arrowcolor": "#2a3f5f",
           "arrowhead": 0,
           "arrowwidth": 1
          },
          "autotypenumbers": "strict",
          "coloraxis": {
           "colorbar": {
            "outlinewidth": 0,
            "ticks": ""
           }
          },
          "colorscale": {
           "diverging": [
            [
             0,
             "#8e0152"
            ],
            [
             0.1,
             "#c51b7d"
            ],
            [
             0.2,
             "#de77ae"
            ],
            [
             0.3,
             "#f1b6da"
            ],
            [
             0.4,
             "#fde0ef"
            ],
            [
             0.5,
             "#f7f7f7"
            ],
            [
             0.6,
             "#e6f5d0"
            ],
            [
             0.7,
             "#b8e186"
            ],
            [
             0.8,
             "#7fbc41"
            ],
            [
             0.9,
             "#4d9221"
            ],
            [
             1,
             "#276419"
            ]
           ],
           "sequential": [
            [
             0,
             "#0d0887"
            ],
            [
             0.1111111111111111,
             "#46039f"
            ],
            [
             0.2222222222222222,
             "#7201a8"
            ],
            [
             0.3333333333333333,
             "#9c179e"
            ],
            [
             0.4444444444444444,
             "#bd3786"
            ],
            [
             0.5555555555555556,
             "#d8576b"
            ],
            [
             0.6666666666666666,
             "#ed7953"
            ],
            [
             0.7777777777777778,
             "#fb9f3a"
            ],
            [
             0.8888888888888888,
             "#fdca26"
            ],
            [
             1,
             "#f0f921"
            ]
           ],
           "sequentialminus": [
            [
             0,
             "#0d0887"
            ],
            [
             0.1111111111111111,
             "#46039f"
            ],
            [
             0.2222222222222222,
             "#7201a8"
            ],
            [
             0.3333333333333333,
             "#9c179e"
            ],
            [
             0.4444444444444444,
             "#bd3786"
            ],
            [
             0.5555555555555556,
             "#d8576b"
            ],
            [
             0.6666666666666666,
             "#ed7953"
            ],
            [
             0.7777777777777778,
             "#fb9f3a"
            ],
            [
             0.8888888888888888,
             "#fdca26"
            ],
            [
             1,
             "#f0f921"
            ]
           ]
          },
          "colorway": [
           "#636efa",
           "#EF553B",
           "#00cc96",
           "#ab63fa",
           "#FFA15A",
           "#19d3f3",
           "#FF6692",
           "#B6E880",
           "#FF97FF",
           "#FECB52"
          ],
          "font": {
           "color": "#2a3f5f"
          },
          "geo": {
           "bgcolor": "white",
           "lakecolor": "white",
           "landcolor": "#E5ECF6",
           "showlakes": true,
           "showland": true,
           "subunitcolor": "white"
          },
          "hoverlabel": {
           "align": "left"
          },
          "hovermode": "closest",
          "mapbox": {
           "style": "light"
          },
          "paper_bgcolor": "white",
          "plot_bgcolor": "#E5ECF6",
          "polar": {
           "angularaxis": {
            "gridcolor": "white",
            "linecolor": "white",
            "ticks": ""
           },
           "bgcolor": "#E5ECF6",
           "radialaxis": {
            "gridcolor": "white",
            "linecolor": "white",
            "ticks": ""
           }
          },
          "scene": {
           "xaxis": {
            "backgroundcolor": "#E5ECF6",
            "gridcolor": "white",
            "gridwidth": 2,
            "linecolor": "white",
            "showbackground": true,
            "ticks": "",
            "zerolinecolor": "white"
           },
           "yaxis": {
            "backgroundcolor": "#E5ECF6",
            "gridcolor": "white",
            "gridwidth": 2,
            "linecolor": "white",
            "showbackground": true,
            "ticks": "",
            "zerolinecolor": "white"
           },
           "zaxis": {
            "backgroundcolor": "#E5ECF6",
            "gridcolor": "white",
            "gridwidth": 2,
            "linecolor": "white",
            "showbackground": true,
            "ticks": "",
            "zerolinecolor": "white"
           }
          },
          "shapedefaults": {
           "line": {
            "color": "#2a3f5f"
           }
          },
          "ternary": {
           "aaxis": {
            "gridcolor": "white",
            "linecolor": "white",
            "ticks": ""
           },
           "baxis": {
            "gridcolor": "white",
            "linecolor": "white",
            "ticks": ""
           },
           "bgcolor": "#E5ECF6",
           "caxis": {
            "gridcolor": "white",
            "linecolor": "white",
            "ticks": ""
           }
          },
          "title": {
           "x": 0.05
          },
          "xaxis": {
           "automargin": true,
           "gridcolor": "white",
           "linecolor": "white",
           "ticks": "",
           "title": {
            "standoff": 15
           },
           "zerolinecolor": "white",
           "zerolinewidth": 2
          },
          "yaxis": {
           "automargin": true,
           "gridcolor": "white",
           "linecolor": "white",
           "ticks": "",
           "title": {
            "standoff": 15
           },
           "zerolinecolor": "white",
           "zerolinewidth": 2
          }
         }
        },
        "title": {
         "text": "Adjusted Confusion Matrix"
        },
        "xaxis": {
         "anchor": "y",
         "autorange": true,
         "constrain": "domain",
         "domain": [
          0.3880597014925373,
          0.6119402985074627
         ],
         "range": [
          -0.5,
          1.5
         ],
         "scaleanchor": "y"
        },
        "yaxis": {
         "anchor": "x",
         "autorange": true,
         "constrain": "domain",
         "domain": [
          0,
          1
         ],
         "range": [
          1.5,
          -0.5
         ]
        }
       }
      },
      "image/png": "[encoded data removed]",
      "text/html": [
       "<div>                            <div id=\"3dc869b0-1a2d-4e6f-a453-b15ebd316ef7\" class=\"plotly-graph-div\" style=\"height:525px; width:100%;\"></div>            <script type=\"text/javascript\">                require([\"plotly\"], function(Plotly) {                    window.PLOTLYENV=window.PLOTLYENV || {};                                    if (document.getElementById(\"3dc869b0-1a2d-4e6f-a453-b15ebd316ef7\")) {                    Plotly.newPlot(                        \"3dc869b0-1a2d-4e6f-a453-b15ebd316ef7\",                        [{\"coloraxis\":\"coloraxis\",\"name\":\"0\",\"texttemplate\":\"%{z}\",\"z\":[[715,0],[70,0]],\"type\":\"heatmap\",\"xaxis\":\"x\",\"yaxis\":\"y\",\"hovertemplate\":\"x: %{x}\\u003cbr\\u003ey: %{y}\\u003cbr\\u003ecolor: %{z}\\u003cextra\\u003e\\u003c\\u002fextra\\u003e\"}],                        {\"template\":{\"data\":{\"histogram2dcontour\":[{\"type\":\"histogram2dcontour\",\"colorbar\":{\"outlinewidth\":0,\"ticks\":\"\"},\"colorscale\":[[0.0,\"#0d0887\"],[0.1111111111111111,\"#46039f\"],[0.2222222222222222,\"#7201a8\"],[0.3333333333333333,\"#9c179e\"],[0.4444444444444444,\"#bd3786\"],[0.5555555555555556,\"#d8576b\"],[0.6666666666666666,\"#ed7953\"],[0.7777777777777778,\"#fb9f3a\"],[0.8888888888888888,\"#fdca26\"],[1.0,\"#f0f921\"]]}],\"choropleth\":[{\"type\":\"choropleth\",\"colorbar\":{\"outlinewidth\":0,\"ticks\":\"\"}}],\"histogram2d\":[{\"type\":\"histogram2d\",\"colorbar\":{\"outlinewidth\":0,\"ticks\":\"\"},\"colorscale\":[[0.0,\"#0d0887\"],[0.1111111111111111,\"#46039f\"],[0.2222222222222222,\"#7201a8\"],[0.3333333333333333,\"#9c179e\"],[0.4444444444444444,\"#bd3786\"],[0.5555555555555556,\"#d8576b\"],[0.6666666666666666,\"#ed7953\"],[0.7777777777777778,\"#fb9f3a\"],[0.8888888888888888,\"#fdca26\"],[1.0,\"#f0f921\"]]}],\"heatmap\":[{\"type\":\"heatmap\",\"colorbar\":{\"outlinewidth\":0,\"ticks\":\"\"},\"colorscale\":[[0.0,\"#0d0887\"],[0.1111111111111111,\"#46039f\"],[0.2222222222222222,\"#7201a8\"],[0.3333333333333333,\"#9c179e\"],[0.4444444444444444,\"#bd3786\"],[0.5555555555555556,\"#d8576b\"],[0.6666666666666666,\"#ed7953\"],[0.7777777777777778,\"#fb9f3a\"],[0.8888888888888888,\"#fdca26\"],[1.0,\"#f0f921\"]]}],\"heatmapgl\":[{\"type\":\"heatmapgl\",\"colorbar\":{\"outlinewidth\":0,\"ticks\":\"\"},\"colorscale\":[[0.0,\"#0d0887\"],[0.1111111111111111,\"#46039f\"],[0.2222222222222222,\"#7201a8\"],[0.3333333333333333,\"#9c179e\"],[0.4444444444444444,\"#bd3786\"],[0.5555555555555556,\"#d8576b\"],[0.6666666666666666,\"#ed7953\"],[0.7777777777777778,\"#fb9f3a\"],[0.8888888888888888,\"#fdca26\"],[1.0,\"#f0f921\"]]}],\"contourcarpet\":[{\"type\":\"contourcarpet\",\"colorbar\":{\"outlinewidth\":0,\"ticks\":\"\"}}],\"contour\":[{\"type\":\"contour\",\"colorbar\":{\"outlinewidth\":0,\"ticks\":\"\"},\"colorscale\":[[0.0,\"#0d0887\"],[0.1111111111111111,\"#46039f\"],[0.2222222222222222,\"#7201a8\"],[0.3333333333333333,\"#9c179e\"],[0.4444444444444444,\"#bd3786\"],[0.5555555555555556,\"#d8576b\"],[0.6666666666666666,\"#ed7953\"],[0.7777777777777778,\"#fb9f3a\"],[0.8888888888888888,\"#fdca26\"],[1.0,\"#f0f921\"]]}],\"surface\":[{\"type\":\"surface\",\"colorbar\":{\"outlinewidth\":0,\"ticks\":\"\"},\"colorscale\":[[0.0,\"#0d0887\"],[0.1111111111111111,\"#46039f\"],[0.2222222222222222,\"#7201a8\"],[0.3333333333333333,\"#9c179e\"],[0.4444444444444444,\"#bd3786\"],[0.5555555555555556,\"#d8576b\"],[0.6666666666666666,\"#ed7953\"],[0.7777777777777778,\"#fb9f3a\"],[0.8888888888888888,\"#fdca26\"],[1.0,\"#f0f921\"]]}],\"mesh3d\":[{\"type\":\"mesh3d\",\"colorbar\":{\"outlinewidth\":0,\"ticks\":\"\"}}],\"scatter\":[{\"fillpattern\":{\"fillmode\":\"overlay\",\"size\":10,\"solidity\":0.2},\"type\":\"scatter\"}],\"parcoords\":[{\"type\":\"parcoords\",\"line\":{\"colorbar\":{\"outlinewidth\":0,\"ticks\":\"\"}}}],\"scatterpolargl\":[{\"type\":\"scatterpolargl\",\"marker\":{\"colorbar\":{\"outlinewidth\":0,\"ticks\":\"\"}}}],\"bar\":[{\"error_x\":{\"color\":\"#2a3f5f\"},\"error_y\":{\"color\":\"#2a3f5f\"},\"marker\":{\"line\":{\"color\":\"#E5ECF6\",\"width\":0.5},\"pattern\":{\"fillmode\":\"overlay\",\"size\":10,\"solidity\":0.2}},\"type\":\"bar\"}],\"scattergeo\":[{\"type\":\"scattergeo\",\"marker\":{\"colorbar\":{\"outlinewidth\":0,\"ticks\":\"\"}}}],\"scatterpolar\":[{\"type\":\"scatterpolar\",\"marker\":{\"colorbar\":{\"outlinewidth\":0,\"ticks\":\"\"}}}],\"histogram\":[{\"marker\":{\"pattern\":{\"fillmode\":\"overlay\",\"size\":10,\"solidity\":0.2}},\"type\":\"histogram\"}],\"scattergl\":[{\"type\":\"scattergl\",\"marker\":{\"colorbar\":{\"outlinewidth\":0,\"ticks\":\"\"}}}],\"scatter3d\":[{\"type\":\"scatter3d\",\"line\":{\"colorbar\":{\"outlinewidth\":0,\"ticks\":\"\"}},\"marker\":{\"colorbar\":{\"outlinewidth\":0,\"ticks\":\"\"}}}],\"scattermapbox\":[{\"type\":\"scattermapbox\",\"marker\":{\"colorbar\":{\"outlinewidth\":0,\"ticks\":\"\"}}}],\"scatterternary\":[{\"type\":\"scatterternary\",\"marker\":{\"colorbar\":{\"outlinewidth\":0,\"ticks\":\"\"}}}],\"scattercarpet\":[{\"type\":\"scattercarpet\",\"marker\":{\"colorbar\":{\"outlinewidth\":0,\"ticks\":\"\"}}}],\"carpet\":[{\"aaxis\":{\"endlinecolor\":\"#2a3f5f\",\"gridcolor\":\"white\",\"linecolor\":\"white\",\"minorgridcolor\":\"white\",\"startlinecolor\":\"#2a3f5f\"},\"baxis\":{\"endlinecolor\":\"#2a3f5f\",\"gridcolor\":\"white\",\"linecolor\":\"white\",\"minorgridcolor\":\"white\",\"startlinecolor\":\"#2a3f5f\"},\"type\":\"carpet\"}],\"table\":[{\"cells\":{\"fill\":{\"color\":\"#EBF0F8\"},\"line\":{\"color\":\"white\"}},\"header\":{\"fill\":{\"color\":\"#C8D4E3\"},\"line\":{\"color\":\"white\"}},\"type\":\"table\"}],\"barpolar\":[{\"marker\":{\"line\":{\"color\":\"#E5ECF6\",\"width\":0.5},\"pattern\":{\"fillmode\":\"overlay\",\"size\":10,\"solidity\":0.2}},\"type\":\"barpolar\"}],\"pie\":[{\"automargin\":true,\"type\":\"pie\"}]},\"layout\":{\"autotypenumbers\":\"strict\",\"colorway\":[\"#636efa\",\"#EF553B\",\"#00cc96\",\"#ab63fa\",\"#FFA15A\",\"#19d3f3\",\"#FF6692\",\"#B6E880\",\"#FF97FF\",\"#FECB52\"],\"font\":{\"color\":\"#2a3f5f\"},\"hovermode\":\"closest\",\"hoverlabel\":{\"align\":\"left\"},\"paper_bgcolor\":\"white\",\"plot_bgcolor\":\"#E5ECF6\",\"polar\":{\"bgcolor\":\"#E5ECF6\",\"angularaxis\":{\"gridcolor\":\"white\",\"linecolor\":\"white\",\"ticks\":\"\"},\"radialaxis\":{\"gridcolor\":\"white\",\"linecolor\":\"white\",\"ticks\":\"\"}},\"ternary\":{\"bgcolor\":\"#E5ECF6\",\"aaxis\":{\"gridcolor\":\"white\",\"linecolor\":\"white\",\"ticks\":\"\"},\"baxis\":{\"gridcolor\":\"white\",\"linecolor\":\"white\",\"ticks\":\"\"},\"caxis\":{\"gridcolor\":\"white\",\"linecolor\":\"white\",\"ticks\":\"\"}},\"coloraxis\":{\"colorbar\":{\"outlinewidth\":0,\"ticks\":\"\"}},\"colorscale\":{\"sequential\":[[0.0,\"#0d0887\"],[0.1111111111111111,\"#46039f\"],[0.2222222222222222,\"#7201a8\"],[0.3333333333333333,\"#9c179e\"],[0.4444444444444444,\"#bd3786\"],[0.5555555555555556,\"#d8576b\"],[0.6666666666666666,\"#ed7953\"],[0.7777777777777778,\"#fb9f3a\"],[0.8888888888888888,\"#fdca26\"],[1.0,\"#f0f921\"]],\"sequentialminus\":[[0.0,\"#0d0887\"],[0.1111111111111111,\"#46039f\"],[0.2222222222222222,\"#7201a8\"],[0.3333333333333333,\"#9c179e\"],[0.4444444444444444,\"#bd3786\"],[0.5555555555555556,\"#d8576b\"],[0.6666666666666666,\"#ed7953\"],[0.7777777777777778,\"#fb9f3a\"],[0.8888888888888888,\"#fdca26\"],[1.0,\"#f0f921\"]],\"diverging\":[[0,\"#8e0152\"],[0.1,\"#c51b7d\"],[0.2,\"#de77ae\"],[0.3,\"#f1b6da\"],[0.4,\"#fde0ef\"],[0.5,\"#f7f7f7\"],[0.6,\"#e6f5d0\"],[0.7,\"#b8e186\"],[0.8,\"#7fbc41\"],[0.9,\"#4d9221\"],[1,\"#276419\"]]},\"xaxis\":{\"gridcolor\":\"white\",\"linecolor\":\"white\",\"ticks\":\"\",\"title\":{\"standoff\":15},\"zerolinecolor\":\"white\",\"automargin\":true,\"zerolinewidth\":2},\"yaxis\":{\"gridcolor\":\"white\",\"linecolor\":\"white\",\"ticks\":\"\",\"title\":{\"standoff\":15},\"zerolinecolor\":\"white\",\"automargin\":true,\"zerolinewidth\":2},\"scene\":{\"xaxis\":{\"backgroundcolor\":\"#E5ECF6\",\"gridcolor\":\"white\",\"linecolor\":\"white\",\"showbackground\":true,\"ticks\":\"\",\"zerolinecolor\":\"white\",\"gridwidth\":2},\"yaxis\":{\"backgroundcolor\":\"#E5ECF6\",\"gridcolor\":\"white\",\"linecolor\":\"white\",\"showbackground\":true,\"ticks\":\"\",\"zerolinecolor\":\"white\",\"gridwidth\":2},\"zaxis\":{\"backgroundcolor\":\"#E5ECF6\",\"gridcolor\":\"white\",\"linecolor\":\"white\",\"showbackground\":true,\"ticks\":\"\",\"zerolinecolor\":\"white\",\"gridwidth\":2}},\"shapedefaults\":{\"line\":{\"color\":\"#2a3f5f\"}},\"annotationdefaults\":{\"arrowcolor\":\"#2a3f5f\",\"arrowhead\":0,\"arrowwidth\":1},\"geo\":{\"bgcolor\":\"white\",\"landcolor\":\"#E5ECF6\",\"subunitcolor\":\"white\",\"showland\":true,\"showlakes\":true,\"lakecolor\":\"white\"},\"title\":{\"x\":0.05},\"mapbox\":{\"style\":\"light\"}}},\"xaxis\":{\"anchor\":\"y\",\"domain\":[0.0,1.0],\"scaleanchor\":\"y\",\"constrain\":\"domain\"},\"yaxis\":{\"anchor\":\"x\",\"domain\":[0.0,1.0],\"autorange\":\"reversed\",\"constrain\":\"domain\"},\"coloraxis\":{\"colorscale\":[[0.0,\"rgb(247,251,255)\"],[0.125,\"rgb(222,235,247)\"],[0.25,\"rgb(198,219,239)\"],[0.375,\"rgb(158,202,225)\"],[0.5,\"rgb(107,174,214)\"],[0.625,\"rgb(66,146,198)\"],[0.75,\"rgb(33,113,181)\"],[0.875,\"rgb(8,81,156)\"],[1.0,\"rgb(8,48,107)\"]]},\"title\":{\"text\":\"Adjusted Confusion Matrix\"}},                        {\"responsive\": true}                    ).then(function(){\n",
       "                            \n",
       "var gd = document.getElementById('3dc869b0-1a2d-4e6f-a453-b15ebd316ef7');\n",
       "var x = new MutationObserver(function (mutations, observer) {{\n",
       "        var display = window.getComputedStyle(gd).display;\n",
       "        if (!display || display === 'none') {{\n",
       "            console.log([gd, 'removed!']);\n",
       "            Plotly.purge(gd);\n",
       "            observer.disconnect();\n",
       "        }}\n",
       "}});\n",
       "\n",
       "// Listen for the removal of the full notebook cells\n",
       "var notebookContainer = gd.closest('#notebook-container');\n",
       "if (notebookContainer) {{\n",
       "    x.observe(notebookContainer, {childList: true});\n",
       "}}\n",
       "\n",
       "// Listen for the clearing of the current output cell\n",
       "var outputEl = gd.closest('.output');\n",
       "if (outputEl) {{\n",
       "    x.observe(outputEl, {childList: true});\n",
       "}}\n",
       "\n",
       "                        })                };                });            </script>        </div>"
      ]
     },
     "metadata": {},
     "output_type": "display_data"
    }
   ],
   "source": [
    "DF\n",
    "X = DF2[['to_multiple', 'urgent_subj', 'exclaim_subj', 'image']]\n",
    "y = DF2['spam']\n",
    "\n",
    "X_train, X_test, y_train, y_test = train_test_split(X, y, test_size=0.2, random_state=42)\n",
    "\n",
    "model = LogisticRegression()\n",
    "model.fit(X_train, y_train)\n",
    "\n",
    "y_pred = model.predict(X_test)\n",
    "\n",
    "\n",
    "conf_matrix = confusion_matrix(y_test, y_pred)\n",
    "\n",
    "fig = px.imshow(conf_matrix, text_auto=True, color_continuous_scale='Blues', title='Confusion Matrix')\n",
    "fig.show()\n",
    "\n",
    "y_pred_proba = model.predict_proba(X_test)[:, 1]\n",
    "y_pred_adjusted = (y_pred_proba >= 0.7).astype(int)\n",
    "\n",
    "conf_matrix_adjusted = confusion_matrix(y_test, y_pred_adjusted)\n",
    "\n",
    "fig = px.imshow(conf_matrix_adjusted, text_auto=True, color_continuous_scale='Blues', title='Adjusted Confusion Matrix')\n",
    "fig.show()"
   ]
  },
  {
   "cell_type": "markdown",
   "id": "fdf58b1a-6dc5-41df-a441-125ff75c500a",
   "metadata": {},
   "source": [
    "In this code i am using the variables (to_multiple, urgent_subj, exclaim_subj, and image) to predict the target variable spam. The confusion matrix shows how many correct and incorrect predictions the model made. The adjusted matrix helps in understanding what could happen when I raise the cutoff to 0.7. It will reduce false positives but may increase false negatives, it will have more precauting when predicting spam."
   ]
  },
  {
   "cell_type": "code",
   "execution_count": 119,
   "id": "eb57c7cc-9b5a-4bc7-a851-ba5ac6ced413",
   "metadata": {},
   "outputs": [
    {
     "data": {
      "text/plain": [
       "Index(['spam', 'to_multiple', 'from', 'cc', 'sent_email', 'time', 'image',\n",
       "       'attach', 'dollar', 'winner', 'inherit', 'viagra', 'password',\n",
       "       'num_char', 'line_breaks', 'format', 're_subj', 'exclaim_subj',\n",
       "       'urgent_subj', 'exclaim_mess', 'number'],\n",
       "      dtype='object')"
      ]
     },
     "execution_count": 119,
     "metadata": {},
     "output_type": "execute_result"
    }
   ],
   "source": [
    "DF2.columns\n"
   ]
  },
  {
   "cell_type": "code",
   "execution_count": null,
   "id": "cb3d001c-ad8d-4433-b819-cf39135ca6dd",
   "metadata": {},
   "outputs": [],
   "source": []
  }
 ],
 "metadata": {
  "kernelspec": {
   "display_name": "Python 3 (ipykernel)",
   "language": "python",
   "name": "python3"
  },
  "language_info": {
   "codemirror_mode": {
    "name": "ipython",
    "version": 3
   },
   "file_extension": ".py",
   "mimetype": "text/x-python",
   "name": "python",
   "nbconvert_exporter": "python",
   "pygments_lexer": "ipython3",
   "version": "3.12.3"
  }
 },
 "nbformat": 4,
 "nbformat_minor": 5
}
